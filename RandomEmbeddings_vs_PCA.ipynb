{
  "nbformat": 4,
  "nbformat_minor": 0,
  "metadata": {
    "colab": {
      "name": "RandomEmbeddings_vs_PCA.ipynb",
      "provenance": [],
      "collapsed_sections": [],
      "authorship_tag": "ABX9TyN/HWCLiG91wPCUVs1H9lvU",
      "include_colab_link": true
    },
    "kernelspec": {
      "name": "python3",
      "display_name": "Python 3"
    }
  },
  "cells": [
    {
      "cell_type": "markdown",
      "metadata": {
        "id": "view-in-github",
        "colab_type": "text"
      },
      "source": [
        "<a href=\"https://colab.research.google.com/github/maciejskorski/ml_examples/blob/master/RandomEmbeddings_vs_PCA.ipynb\" target=\"_parent\"><img src=\"https://colab.research.google.com/assets/colab-badge.svg\" alt=\"Open In Colab\"/></a>"
      ]
    },
    {
      "cell_type": "markdown",
      "metadata": {
        "id": "kdulkxv1XElo"
      },
      "source": [
        "# Random Embeddings vs PCA\n",
        "\n",
        "In various setups it has been observed that Random Projections work similarly as PCA in terms of quality, while being much more efficient.\n",
        "\n",
        "This notebook compares these techniques on MNIST and Fashion_MNIST datasets, by fiting a linear classifier on top of extracted features. "
      ]
    },
    {
      "cell_type": "code",
      "metadata": {
        "id": "vDHq-xH7EVge"
      },
      "source": [
        "from sklearn.preprocessing import StandardScaler\n",
        "from sklearn.decomposition import PCA\n",
        "import numpy as np\n",
        "from sklearn.linear_model import LogisticRegression\n",
        "\n",
        "def compare_pca_rp(X,y,n_components=100):\n",
        "  ''' info: compares pca and random projections, by fiting a linear classifier on top of the features extracted by these methods\n",
        "      input:\n",
        "        X is a matrix of shape [N,M]\n",
        "        y is a vector of shape [N]\n",
        "        n_components is the number of extracted features\n",
        "      output: a tuple with scores for random projections and pca, respectively\n",
        "  '''\n",
        "\n",
        "  ## dimensionality reduction\n",
        "\n",
        "  n_components = 100\n",
        "\n",
        "  # by pca\n",
        "\n",
        "  X_pca = PCA(n_components).fit_transform(X)\n",
        "  X_pca = StandardScaler().fit_transform(X_pca)\n",
        "\n",
        "  # by random embeddings\n",
        "\n",
        "  embed_matrix = np.random.choice(a=[-1,1],p=[0.5,0.5],size=(X.shape[1],n_components))\n",
        "  X_embed = X.dot(embed_matrix)\n",
        "  X_embed = StandardScaler().fit_transform(X_embed)\n",
        "\n",
        "  # score by linear model\n",
        "\n",
        "  model = LogisticRegression(max_iter=500)\n",
        "\n",
        "  outputs = []\n",
        "\n",
        "  for X in [X_embed,X_pca]:\n",
        "    model.fit(X,y)\n",
        "    outputs.append(model.score(X,y).round(3))\n",
        "  return tuple(outputs)"
      ],
      "execution_count": 1,
      "outputs": []
    },
    {
      "cell_type": "code",
      "metadata": {
        "id": "-9Jt7XteSMWl",
        "outputId": "c7bc9bcf-e5b8-485b-b006-3c906a51503f",
        "colab": {
          "base_uri": "https://localhost:8080/",
          "height": 111
        }
      },
      "source": [
        "import tensorflow as tf\n",
        "import pandas as pd\n",
        "\n",
        "result = {}\n",
        "\n",
        "(X, y), _ = tf.keras.datasets.mnist.load_data()\n",
        "X = X.reshape(X.shape[0],-1)\n",
        "result['mnist'] = compare_pca_rp(X,y,n_components=100)\n",
        "\n",
        "(X, y), _ = tf.keras.datasets.fashion_mnist.load_data()\n",
        "X = X.reshape(X.shape[0],-1)\n",
        "result['fashion_mnist'] = compare_pca_rp(X,y,n_components=100)\n",
        "\n",
        "pd.DataFrame(result,index=['Random Embeddings','PCA']).T"
      ],
      "execution_count": 6,
      "outputs": [
        {
          "output_type": "execute_result",
          "data": {
            "text/html": [
              "<div>\n",
              "<style scoped>\n",
              "    .dataframe tbody tr th:only-of-type {\n",
              "        vertical-align: middle;\n",
              "    }\n",
              "\n",
              "    .dataframe tbody tr th {\n",
              "        vertical-align: top;\n",
              "    }\n",
              "\n",
              "    .dataframe thead th {\n",
              "        text-align: right;\n",
              "    }\n",
              "</style>\n",
              "<table border=\"1\" class=\"dataframe\">\n",
              "  <thead>\n",
              "    <tr style=\"text-align: right;\">\n",
              "      <th></th>\n",
              "      <th>Random Embeddings</th>\n",
              "      <th>PCA</th>\n",
              "    </tr>\n",
              "  </thead>\n",
              "  <tbody>\n",
              "    <tr>\n",
              "      <th>mnist</th>\n",
              "      <td>0.893</td>\n",
              "      <td>0.922</td>\n",
              "    </tr>\n",
              "    <tr>\n",
              "      <th>fashion_mnist</th>\n",
              "      <td>0.832</td>\n",
              "      <td>0.856</td>\n",
              "    </tr>\n",
              "  </tbody>\n",
              "</table>\n",
              "</div>"
            ],
            "text/plain": [
              "               Random Embeddings    PCA\n",
              "mnist                      0.893  0.922\n",
              "fashion_mnist              0.832  0.856"
            ]
          },
          "metadata": {
            "tags": []
          },
          "execution_count": 6
        }
      ]
    }
  ]
}