{
  "nbformat": 4,
  "nbformat_minor": 0,
  "metadata": {
    "colab": {
      "name": "AttritionModel_TFServing_InteractiveUser.ipynb",
      "provenance": [],
      "collapsed_sections": [],
      "authorship_tag": "ABX9TyOZ8+xQjkH0tjlMHC0etHll",
      "include_colab_link": true
    },
    "kernelspec": {
      "name": "python3",
      "display_name": "Python 3"
    },
    "language_info": {
      "name": "python"
    }
  },
  "cells": [
    {
      "cell_type": "markdown",
      "metadata": {
        "id": "view-in-github",
        "colab_type": "text"
      },
      "source": [
        "<a href=\"https://colab.research.google.com/github/maciejskorski/ml_examples/blob/master/AttritionModel_TF_UserAPI/ModelServing_Interactive.ipynb\" target=\"_parent\"><img src=\"https://colab.research.google.com/assets/colab-badge.svg\" alt=\"Open In Colab\"/></a>"
      ]
    },
    {
      "cell_type": "markdown",
      "metadata": {
        "id": "W_iMe7UnxOcV"
      },
      "source": [
        "# Introduction\n",
        "\n",
        "This notebook demonstrates how to serve a machine-learning model (trained with Tensorflow software) and make real-time predictions with user-specified input.\n",
        "The model aims to predict the employee attrition given some personal information."
      ]
    },
    {
      "cell_type": "markdown",
      "metadata": {
        "id": "PQ_i6SjRv4-K"
      },
      "source": [
        "# Prerequisites\n",
        "\n",
        "We download the pretrained model and Tensorflow Serving software."
      ]
    },
    {
      "cell_type": "code",
      "metadata": {
        "colab": {
          "base_uri": "https://localhost:8080/"
        },
        "cellView": "form",
        "id": "06qAtXFusi3U",
        "outputId": "16b05eea-5c82-48c3-e6a8-566c573d7c53"
      },
      "source": [
        "#@title Download the model\n",
        "\n",
        "!apt-get -q install subversion\n",
        "!svn checkout https://github.com/maciejskorski/ml_examples/trunk/AttritionModel_TF_UserAPI/attrition_model/\n",
        "!mv attrition_model /tmp"
      ],
      "execution_count": 1,
      "outputs": [
        {
          "output_type": "stream",
          "text": [
            "Reading package lists...\n",
            "Building dependency tree...\n",
            "Reading state information...\n",
            "subversion is already the newest version (1.9.7-4ubuntu1).\n",
            "0 upgraded, 0 newly installed, 0 to remove and 48 not upgraded.\n",
            "svn: E155004: Run 'svn cleanup' to remove locks (type 'svn help cleanup' for details)\n",
            "svn: E155004: Working copy '/content/attrition_model' locked.\n",
            "svn: E155004: '/content/attrition_model' is already locked.\n",
            "mv: cannot move 'attrition_model' to '/tmp/attrition_model': Directory not empty\n"
          ],
          "name": "stdout"
        }
      ]
    },
    {
      "cell_type": "code",
      "metadata": {
        "colab": {
          "base_uri": "https://localhost:8080/"
        },
        "cellView": "form",
        "id": "j18f113hvzw6",
        "outputId": "60ebe653-5a6a-4d1b-ef18-f26520781503"
      },
      "source": [
        "#@title Install Tensorflow Serving \n",
        "!echo \"deb http://storage.googleapis.com/tensorflow-serving-apt stable tensorflow-model-server tensorflow-model-server-universal\" | tee /etc/apt/sources.list.d/tensorflow-serving.list && \\\n",
        "curl -s https://storage.googleapis.com/tensorflow-serving-apt/tensorflow-serving.release.pub.gpg | apt-key add -\n",
        "!apt -qq update\n",
        "!apt-get install -q tensorflow-model-server"
      ],
      "execution_count": 2,
      "outputs": [
        {
          "output_type": "stream",
          "text": [
            "deb http://storage.googleapis.com/tensorflow-serving-apt stable tensorflow-model-server tensorflow-model-server-universal\n",
            "OK\n",
            "48 packages can be upgraded. Run 'apt list --upgradable' to see them.\n",
            "Reading package lists...\n",
            "Building dependency tree...\n",
            "Reading state information...\n",
            "tensorflow-model-server is already the newest version (2.5.1).\n",
            "0 upgraded, 0 newly installed, 0 to remove and 48 not upgraded.\n"
          ],
          "name": "stdout"
        }
      ]
    },
    {
      "cell_type": "markdown",
      "metadata": {
        "id": "3aBfzf-Dwbdg"
      },
      "source": [
        "# Serving Model\n",
        "\n",
        "Run the model and check it status "
      ]
    },
    {
      "cell_type": "code",
      "metadata": {
        "colab": {
          "base_uri": "https://localhost:8080/"
        },
        "cellView": "form",
        "id": "P_DDWWD5whKf",
        "outputId": "929b571f-b246-4047-d6ef-8152535e4d86"
      },
      "source": [
        "#@title Start Job\n",
        "%%bash --bg \n",
        "nohup tensorflow_model_server --rest_api_port=8501 --model_name=attrition_model --model_base_path=\"/tmp/attrition_model\" >server.log 2>&1\n",
        "\n",
        "#!ps aux | grep -i \"tensorflow_model_server\"\n",
        "#!kill -9 1971"
      ],
      "execution_count": 3,
      "outputs": [
        {
          "output_type": "stream",
          "text": [
            "Starting job # 0 in a separate thread.\n"
          ],
          "name": "stdout"
        }
      ]
    },
    {
      "cell_type": "code",
      "metadata": {
        "colab": {
          "base_uri": "https://localhost:8080/"
        },
        "cellView": "form",
        "id": "YruVjvu-w1Io",
        "outputId": "a23bcd18-b068-4c1e-c53c-8eed313ece1c"
      },
      "source": [
        "#@title Logs and Status\n",
        "\n",
        "!tail server.log\n",
        "!curl http://localhost:8501/v1/models/attrition_model"
      ],
      "execution_count": 4,
      "outputs": [
        {
          "output_type": "stream",
          "text": [
            "{\n",
            " \"model_version_status\": [\n",
            "  {\n",
            "   \"version\": \"1\",\n",
            "   \"state\": \"AVAILABLE\",\n",
            "   \"status\": {\n",
            "    \"error_code\": \"OK\",\n",
            "    \"error_message\": \"\"\n",
            "   }\n",
            "  }\n",
            " ]\n",
            "}\n"
          ],
          "name": "stdout"
        }
      ]
    },
    {
      "cell_type": "markdown",
      "metadata": {
        "id": "dbVGwjwew5HA"
      },
      "source": [
        "# Real-Time Predictions\n",
        "\n",
        "The model will do predictions (attrition chances from 0 to 100%) based on user input (employee personal information). \n",
        "\n",
        "Play with the form below! How overtime and gender affects the chance of attrition?\n"
      ]
    },
    {
      "cell_type": "code",
      "metadata": {
        "colab": {
          "base_uri": "https://localhost:8080/"
        },
        "cellView": "form",
        "id": "L2cA7LahxDk8",
        "outputId": "2beee3f1-6f8d-4a11-cea8-5f37e56dffac"
      },
      "source": [
        "#@title User Input (Friendly API)\n",
        "\n",
        "import json, requests\n",
        "\n",
        "## grab user data (interactive!)\n",
        "\n",
        "Age = 41 #@param \n",
        "BusinessTravel = 'Travel_Frequently' #@param ['Travel_Rarely', 'Travel_Frequently', 'Non-Travel']\n",
        "DailyRate =  1102 #@param \n",
        "Department = 'Sales' #@param ['Sales', 'Research & Development', 'Human Resources']\n",
        "DistanceFromHome = 1 #@param\n",
        "Education =  2#@param \n",
        "EducationField = 'Human Resources' #@param ['Life Sciences', 'Other', 'Medical', 'Marketing','Technical Degree', 'Human Resources']\n",
        "EnvironmentSatisfaction = 2 #@param\n",
        "Gender = 'Male' #@param ['Female', 'Male']\n",
        "JobInvolvement = 3 #@param\n",
        "JobLevel = 2 #@param\n",
        "JobRole = 'Sales Executive' #@param ['Sales Executive', 'Research Scientist', 'Laboratory Technician','Manufacturing Director','Healthcare Representative','Manager','Sales Representative', 'Research Director', 'Human Resources']\n",
        "JobSatisfaction = 4 #@param\n",
        "MaritalStatus = 'Single' #@param ['Single', 'Married', 'Divorced']\n",
        "MonthlyIncome = 5993 #@param\n",
        "MonthlyRate = 19479 #@param\n",
        "NumCompaniesWorked = 8 #@param\n",
        "OverTime = 'No' #@param ['Yes','No']\n",
        "PercentSalaryHike = 11 #@param \n",
        "RelationshipSatisfaction = 1 #@param\n",
        "StockOptionLevel = 0 #@param\n",
        "TotalWorkingYears = 8 #@param\n",
        "TrainingTimesLastYear = 0 #@param\n",
        "WorkLifeBalance =  2#@param\n",
        "YearsAtCompany =  1#@param\n",
        "YearsInCurrentRole =  1#@param\n",
        "YearsSinceLastPromotion = 0 #@param\n",
        "YearsWithCurrManager =  1#@param\n",
        "\n",
        "data = dict(\n",
        "  Age=Age,\n",
        "  BusinessTravel=BusinessTravel,\n",
        "  DailyRate=DailyRate,\n",
        "  Department=Department,\n",
        "  DistanceFromHome=DistanceFromHome,\n",
        "  Education=Education,\n",
        "  EducationField=EducationField,\n",
        "  EnvironmentSatisfaction=EnvironmentSatisfaction,\n",
        "  Gender=Gender,\n",
        "  JobInvolvement=JobInvolvement,\n",
        "  JobLevel=JobLevel,\n",
        "  JobRole=JobRole,\n",
        "  JobSatisfaction=JobSatisfaction,\n",
        "  MaritalStatus=MaritalStatus,\n",
        "  MonthlyIncome=MonthlyIncome,\n",
        "  MonthlyRate=MonthlyRate,\n",
        "  NumCompaniesWorked=NumCompaniesWorked,\n",
        "  OverTime=OverTime,\n",
        "  PercentSalaryHike=PercentSalaryHike,\n",
        "  RelationshipSatisfaction=RelationshipSatisfaction,\n",
        "  StockOptionLevel=StockOptionLevel,\n",
        "  TotalWorkingYears=TotalWorkingYears,\n",
        "  TrainingTimesLastYear=TrainingTimesLastYear,\n",
        "  WorkLifeBalance=WorkLifeBalance,\n",
        "  YearsAtCompany=YearsAtCompany,\n",
        "  YearsInCurrentRole=YearsInCurrentRole,\n",
        "  YearsSinceLastPromotion=YearsSinceLastPromotion,\n",
        "  YearsWithCurrManager=YearsWithCurrManager\n",
        ")\n",
        "\n",
        "## serialize data\n",
        "\n",
        "js = [{k:[v] for k,v in data.items()}]\n",
        "js = json.dumps({\"signature_name\": \"serving_default\", \"instances\": js})\n",
        "\n",
        "## prepare and send the request\n",
        "\n",
        "headers = {\"content-type\": \"application/json\"}\n",
        "js_response = requests.post('http://localhost:8501/v1/models/attrition_model:predict', data=js, headers=headers)\n",
        "\n",
        "## look at the response\n",
        "json.loads(js_response.text)"
      ],
      "execution_count": 6,
      "outputs": [
        {
          "output_type": "execute_result",
          "data": {
            "text/plain": [
              "{'predictions': [[0.70955646]]}"
            ]
          },
          "metadata": {
            "tags": []
          },
          "execution_count": 6
        }
      ]
    }
  ]
}