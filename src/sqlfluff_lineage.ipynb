{
  "nbformat": 4,
  "nbformat_minor": 0,
  "metadata": {
    "colab": {
      "provenance": []
    },
    "kernelspec": {
      "name": "python3",
      "display_name": "Python 3"
    },
    "language_info": {
      "name": "python"
    }
  },
  "cells": [
    {
      "cell_type": "markdown",
      "source": [
        "[![nbviewer](https://img.shields.io/badge/render-nbviewer-orange.svg)](https://nbviewer.org/github/maciejskorski/sqlfluff-lineage/blob/main/sqlfluff_lineage.ipynb)\n",
        "\n",
        "\n",
        "# Summary\n",
        "\n",
        "The notebook shows how to use the sqlfluff parser to obtain the table lineage on complex ClickHouse queries.\n",
        "\n",
        "The main idea is to use [sqlfluff](https://github.com/sqlfluff/sqlfluff) as the parser, and then extract the Abstract Syntax Tree into the convenient [anytree format](https://github.com/c0fec0de/anytree).\n"
      ],
      "metadata": {
        "id": "cux7OTjLNHFO"
      }
    },
    {
      "cell_type": "markdown",
      "source": [
        "# Preliminaries"
      ],
      "metadata": {
        "id": "DMeKJkXRHyou"
      }
    },
    {
      "cell_type": "code",
      "execution_count": 1,
      "metadata": {
        "colab": {
          "base_uri": "https://localhost:8080/"
        },
        "id": "DgWj-nZ_HkXg",
        "outputId": "165e0c7f-5ed3-4fcc-8b1f-8ccc95b6da5b"
      },
      "outputs": [
        {
          "output_type": "stream",
          "name": "stdout",
          "text": [
            "Collecting git+https://github.com/sqlfluff/sqlfluff.git\n",
            "  Cloning https://github.com/sqlfluff/sqlfluff.git to /tmp/pip-req-build-__868u34\n",
            "  Running command git clone --filter=blob:none --quiet https://github.com/sqlfluff/sqlfluff.git /tmp/pip-req-build-__868u34\n",
            "  Resolved https://github.com/sqlfluff/sqlfluff.git to commit f7557854dedcde389b10903601d55f77197fe3e9\n",
            "  Installing build dependencies ... \u001b[?25l\u001b[?25hdone\n",
            "  Getting requirements to build wheel ... \u001b[?25l\u001b[?25hdone\n",
            "  Preparing metadata (pyproject.toml) ... \u001b[?25l\u001b[?25hdone\n",
            "Collecting appdirs (from sqlfluff==3.1.0)\n",
            "  Downloading appdirs-1.4.4-py2.py3-none-any.whl.metadata (9.0 kB)\n",
            "Requirement already satisfied: chardet in /usr/local/lib/python3.10/dist-packages (from sqlfluff==3.1.0) (5.2.0)\n",
            "Requirement already satisfied: click in /usr/local/lib/python3.10/dist-packages (from sqlfluff==3.1.0) (8.1.7)\n",
            "Collecting colorama>=0.3 (from sqlfluff==3.1.0)\n",
            "  Downloading colorama-0.4.6-py2.py3-none-any.whl.metadata (17 kB)\n",
            "Collecting diff-cover>=2.5.0 (from sqlfluff==3.1.0)\n",
            "  Downloading diff_cover-9.1.1-py3-none-any.whl.metadata (17 kB)\n",
            "Requirement already satisfied: Jinja2 in /usr/local/lib/python3.10/dist-packages (from sqlfluff==3.1.0) (3.1.4)\n",
            "Collecting pathspec (from sqlfluff==3.1.0)\n",
            "  Downloading pathspec-0.12.1-py3-none-any.whl.metadata (21 kB)\n",
            "Requirement already satisfied: pytest in /usr/local/lib/python3.10/dist-packages (from sqlfluff==3.1.0) (7.4.4)\n",
            "Requirement already satisfied: pyyaml>=5.1 in /usr/local/lib/python3.10/dist-packages (from sqlfluff==3.1.0) (6.0.2)\n",
            "Requirement already satisfied: regex in /usr/local/lib/python3.10/dist-packages (from sqlfluff==3.1.0) (2024.5.15)\n",
            "Requirement already satisfied: tblib in /usr/local/lib/python3.10/dist-packages (from sqlfluff==3.1.0) (3.0.0)\n",
            "Requirement already satisfied: tqdm in /usr/local/lib/python3.10/dist-packages (from sqlfluff==3.1.0) (4.66.5)\n",
            "Requirement already satisfied: toml in /usr/local/lib/python3.10/dist-packages (from sqlfluff==3.1.0) (0.10.2)\n",
            "Requirement already satisfied: Pygments<3.0.0,>=2.9.0 in /usr/local/lib/python3.10/dist-packages (from diff-cover>=2.5.0->sqlfluff==3.1.0) (2.16.1)\n",
            "Requirement already satisfied: pluggy<2,>=0.13.1 in /usr/local/lib/python3.10/dist-packages (from diff-cover>=2.5.0->sqlfluff==3.1.0) (1.5.0)\n",
            "Requirement already satisfied: MarkupSafe>=2.0 in /usr/local/lib/python3.10/dist-packages (from Jinja2->sqlfluff==3.1.0) (2.1.5)\n",
            "Requirement already satisfied: iniconfig in /usr/local/lib/python3.10/dist-packages (from pytest->sqlfluff==3.1.0) (2.0.0)\n",
            "Requirement already satisfied: packaging in /usr/local/lib/python3.10/dist-packages (from pytest->sqlfluff==3.1.0) (24.1)\n",
            "Requirement already satisfied: exceptiongroup>=1.0.0rc8 in /usr/local/lib/python3.10/dist-packages (from pytest->sqlfluff==3.1.0) (1.2.2)\n",
            "Requirement already satisfied: tomli>=1.0.0 in /usr/local/lib/python3.10/dist-packages (from pytest->sqlfluff==3.1.0) (2.0.1)\n",
            "Downloading colorama-0.4.6-py2.py3-none-any.whl (25 kB)\n",
            "Downloading diff_cover-9.1.1-py3-none-any.whl (51 kB)\n",
            "\u001b[2K   \u001b[90m━━━━━━━━━━━━━━━━━━━━━━━━━━━━━━━━━━━━━━━━\u001b[0m \u001b[32m51.9/51.9 kB\u001b[0m \u001b[31m3.5 MB/s\u001b[0m eta \u001b[36m0:00:00\u001b[0m\n",
            "\u001b[?25hDownloading appdirs-1.4.4-py2.py3-none-any.whl (9.6 kB)\n",
            "Downloading pathspec-0.12.1-py3-none-any.whl (31 kB)\n",
            "Building wheels for collected packages: sqlfluff\n",
            "  Building wheel for sqlfluff (pyproject.toml) ... \u001b[?25l\u001b[?25hdone\n",
            "  Created wheel for sqlfluff: filename=sqlfluff-3.1.0-py3-none-any.whl size=795893 sha256=d636b2f1e0fa9d20c1254ae2f95e73df4bcfb4b4c01a5cdd2d5d1637e44ac947\n",
            "  Stored in directory: /tmp/pip-ephem-wheel-cache-ujzde3ur/wheels/95/2d/d8/ec7d6fd4c47bf8b3257e7cb3c22d23c9725c827749de97cef3\n",
            "Successfully built sqlfluff\n",
            "Installing collected packages: appdirs, pathspec, colorama, diff-cover, sqlfluff\n",
            "Successfully installed appdirs-1.4.4 colorama-0.4.6 diff-cover-9.1.1 pathspec-0.12.1 sqlfluff-3.1.0\n",
            "Collecting anytree\n",
            "  Downloading anytree-2.12.1-py3-none-any.whl.metadata (8.1 kB)\n",
            "Requirement already satisfied: six in /usr/local/lib/python3.10/dist-packages (from anytree) (1.16.0)\n",
            "Downloading anytree-2.12.1-py3-none-any.whl (44 kB)\n",
            "\u001b[2K   \u001b[90m━━━━━━━━━━━━━━━━━━━━━━━━━━━━━━━━━━━━━━━━\u001b[0m \u001b[32m44.9/44.9 kB\u001b[0m \u001b[31m3.3 MB/s\u001b[0m eta \u001b[36m0:00:00\u001b[0m\n",
            "\u001b[?25hInstalling collected packages: anytree\n",
            "Successfully installed anytree-2.12.1\n"
          ]
        }
      ],
      "source": [
        "!pip install git+https://github.com/sqlfluff/sqlfluff.git --quiet\n",
        "!pip install anytree --quiet"
      ]
    },
    {
      "cell_type": "markdown",
      "source": [
        "# Parsing"
      ],
      "metadata": {
        "id": "NEFRqnnEHocq"
      }
    },
    {
      "cell_type": "code",
      "source": [
        "import sqlparse\n",
        "import sqlfluff\n",
        "\n",
        "with open(\"query.txt\",\"r\") as f:\n",
        "    sql_text = f.read()\n",
        "\n",
        "statements = sqlparse.split(sql_text)\n",
        "\n",
        "statements_parsed = []\n",
        "\n",
        "for stmnt in statements:\n",
        "    stmnt_format = sqlparse.format(stmnt, reindent=True, keyword_case='upper')\n",
        "    if 'SET ' in stmnt_format:\n",
        "      continue\n",
        "    stmnt_parsed = sqlfluff.parse(stmnt, dialect='clickhouse')\n",
        "    statements_parsed.append(stmnt_parsed)"
      ],
      "metadata": {
        "id": "VAhj9GxlHp9y"
      },
      "execution_count": 4,
      "outputs": []
    },
    {
      "cell_type": "markdown",
      "source": [
        "# Building AST"
      ],
      "metadata": {
        "id": "w-YYiQSBIF5d"
      }
    },
    {
      "cell_type": "code",
      "source": [
        "import anytree\n",
        "from anytree import Node, AnyNode, RenderTree, AsciiStyle\n",
        "\n",
        "def get_tree(data, root=None):\n",
        "  if not root:\n",
        "    root = AnyNode(id='root')\n",
        "  if isinstance(data, list):\n",
        "    for v in data:\n",
        "      get_tree(v, root)\n",
        "  if isinstance(data, dict):\n",
        "    for k,v in data.items():\n",
        "      nv = anytree.AnyNode(token=k, parent=root)\n",
        "      if not isinstance(v, dict) and not isinstance(v, list):\n",
        "        nv.value = v\n",
        "      get_tree(v, nv)\n",
        "  return root\n",
        "\n",
        "def get_ref_tables(root):\n",
        "  tables = []\n",
        "  nodes = anytree.search.findall(root, lambda node: getattr(node,\"token\",\"\") == 'table_reference')\n",
        "  for n in nodes:\n",
        "    t = ''.join( getattr(c,'value','') for c in n.children)\n",
        "    tables.append(t)\n",
        "  return tables\n",
        "\n",
        "\n",
        "stmnt = statements_parsed[0]\n",
        "data = stmnt['file']\n",
        "root = get_tree(data)\n",
        "print(RenderTree(root, style=AsciiStyle()))"
      ],
      "metadata": {
        "colab": {
          "base_uri": "https://localhost:8080/"
        },
        "id": "lEGu5Mi8HpiJ",
        "outputId": "d57e93ec-91f2-4f65-bfec-c7f4fc144a75"
      },
      "execution_count": 6,
      "outputs": [
        {
          "output_type": "stream",
          "name": "stdout",
          "text": [
            "AnyNode(id='root')\n",
            "|-- AnyNode(token='statement')\n",
            "|   +-- AnyNode(token='create_table_statement')\n",
            "|       |-- AnyNode(token='keyword', value='CREATE')\n",
            "|       |-- AnyNode(token='whitespace', value=' ')\n",
            "|       |-- AnyNode(token='keyword', value='TABLE')\n",
            "|       |-- AnyNode(token='whitespace', value=' ')\n",
            "|       |-- AnyNode(token='table_reference')\n",
            "|       |   |-- AnyNode(token='naked_identifier', value='murmuras')\n",
            "|       |   |-- AnyNode(token='dot', value='.')\n",
            "|       |   +-- AnyNode(token='naked_identifier', value='app_log_trivial_tmp')\n",
            "|       |-- AnyNode(token='newline', value='\\n')\n",
            "|       |-- AnyNode(token='engine')\n",
            "|       |   |-- AnyNode(token='keyword', value='ENGINE')\n",
            "|       |   |-- AnyNode(token='whitespace', value=' ')\n",
            "|       |   |-- AnyNode(token='comparison_operator')\n",
            "|       |   |   +-- AnyNode(token='raw_comparison_operator', value='=')\n",
            "|       |   |-- AnyNode(token='whitespace', value=' ')\n",
            "|       |   |-- AnyNode(token='table_engine_function')\n",
            "|       |   |   +-- AnyNode(token='function_name')\n",
            "|       |   |       +-- AnyNode(token='function_name_identifier', value='MergeTree')\n",
            "|       |   |-- AnyNode(token='newline', value='\\n')\n",
            "|       |   +-- AnyNode(token='merge_tree_order_by_clause')\n",
            "|       |       |-- AnyNode(token='keyword', value='ORDER')\n",
            "|       |       |-- AnyNode(token='whitespace', value=' ')\n",
            "|       |       |-- AnyNode(token='keyword', value='BY')\n",
            "|       |       |-- AnyNode(token='whitespace', value=' ')\n",
            "|       |       +-- AnyNode(token='bracketed')\n",
            "|       |           |-- AnyNode(token='start_bracket', value='(')\n",
            "|       |           |-- AnyNode(token='column_reference')\n",
            "|       |           |   +-- AnyNode(token='naked_identifier', value='user_id')\n",
            "|       |           |-- AnyNode(token='comma', value=',')\n",
            "|       |           |-- AnyNode(token='whitespace', value=' ')\n",
            "|       |           |-- AnyNode(token='column_reference')\n",
            "|       |           |   +-- AnyNode(token='naked_identifier', value='seen_timestamp')\n",
            "|       |           |-- AnyNode(token='comma', value=',')\n",
            "|       |           |-- AnyNode(token='whitespace', value=' ')\n",
            "|       |           |-- AnyNode(token='column_reference')\n",
            "|       |           |   +-- AnyNode(token='naked_identifier', value='id')\n",
            "|       |           +-- AnyNode(token='end_bracket', value=')')\n",
            "|       |-- AnyNode(token='whitespace', value=' ')\n",
            "|       |-- AnyNode(token='keyword', value='AS')\n",
            "|       |-- AnyNode(token='newline', value='\\n')\n",
            "|       +-- AnyNode(token='select_statement')\n",
            "|           |-- AnyNode(token='select_clause')\n",
            "|           |   |-- AnyNode(token='keyword', value='SELECT')\n",
            "|           |   |-- AnyNode(token='newline', value='\\n')\n",
            "|           |   |-- AnyNode(token='whitespace', value='    ')\n",
            "|           |   |-- AnyNode(token='select_clause_element')\n",
            "|           |   |   +-- AnyNode(token='column_reference')\n",
            "|           |   |       +-- AnyNode(token='naked_identifier', value='id')\n",
            "|           |   |-- AnyNode(token='comma', value=',')\n",
            "|           |   |-- AnyNode(token='newline', value='\\n')\n",
            "|           |   |-- AnyNode(token='whitespace', value='    ')\n",
            "|           |   |-- AnyNode(token='select_clause_element')\n",
            "|           |   |   +-- AnyNode(token='column_reference')\n",
            "|           |   |       +-- AnyNode(token='naked_identifier', value='user_id')\n",
            "|           |   |-- AnyNode(token='comma', value=',')\n",
            "|           |   |-- AnyNode(token='newline', value='\\n')\n",
            "|           |   |-- AnyNode(token='whitespace', value='    ')\n",
            "|           |   |-- AnyNode(token='select_clause_element')\n",
            "|           |   |   +-- AnyNode(token='column_reference')\n",
            "|           |   |       +-- AnyNode(token='naked_identifier', value='capture_time')\n",
            "|           |   |-- AnyNode(token='comma', value=',')\n",
            "|           |   |-- AnyNode(token='newline', value='\\n')\n",
            "|           |   |-- AnyNode(token='whitespace', value='    ')\n",
            "|           |   |-- AnyNode(token='select_clause_element')\n",
            "|           |   |   +-- AnyNode(token='column_reference')\n",
            "|           |   |       +-- AnyNode(token='naked_identifier', value='seen_timestamp')\n",
            "|           |   |-- AnyNode(token='comma', value=',')\n",
            "|           |   |-- AnyNode(token='newline', value='\\n')\n",
            "|           |   |-- AnyNode(token='whitespace', value='    ')\n",
            "|           |   |-- AnyNode(token='select_clause_element')\n",
            "|           |   |   +-- AnyNode(token='column_reference')\n",
            "|           |   |       +-- AnyNode(token='naked_identifier', value='event_type')\n",
            "|           |   |-- AnyNode(token='comma', value=',')\n",
            "|           |   |-- AnyNode(token='newline', value='\\n')\n",
            "|           |   |-- AnyNode(token='whitespace', value='    ')\n",
            "|           |   |-- AnyNode(token='select_clause_element')\n",
            "|           |   |   +-- AnyNode(token='column_reference')\n",
            "|           |   |       +-- AnyNode(token='naked_identifier', value='time')\n",
            "|           |   |-- AnyNode(token='comma', value=',')\n",
            "|           |   |-- AnyNode(token='newline', value='\\n')\n",
            "|           |   |-- AnyNode(token='whitespace', value='    ')\n",
            "|           |   |-- AnyNode(token='select_clause_element')\n",
            "|           |   |   +-- AnyNode(token='column_reference')\n",
            "|           |   |       +-- AnyNode(token='naked_identifier', value='package_name')\n",
            "|           |   |-- AnyNode(token='comma', value=',')\n",
            "|           |   |-- AnyNode(token='newline', value='\\n')\n",
            "|           |   |-- AnyNode(token='whitespace', value='    ')\n",
            "|           |   +-- AnyNode(token='select_clause_element')\n",
            "|           |       +-- AnyNode(token='column_reference')\n",
            "|           |           +-- AnyNode(token='naked_identifier', value='app_name')\n",
            "|           |-- AnyNode(token='newline', value='\\n')\n",
            "|           |-- AnyNode(token='from_clause')\n",
            "|           |   |-- AnyNode(token='keyword', value='FROM')\n",
            "|           |   |-- AnyNode(token='whitespace', value=' ')\n",
            "|           |   +-- AnyNode(token='from_expression')\n",
            "|           |       +-- AnyNode(token='from_expression_element')\n",
            "|           |           +-- AnyNode(token='table_expression')\n",
            "|           |               +-- AnyNode(token='table_reference')\n",
            "|           |                   |-- AnyNode(token='naked_identifier', value='murmuras')\n",
            "|           |                   |-- AnyNode(token='dot', value='.')\n",
            "|           |                   +-- AnyNode(token='naked_identifier', value='android_log')\n",
            "|           |-- AnyNode(token='newline', value='\\n')\n",
            "|           +-- AnyNode(token='where_clause')\n",
            "|               |-- AnyNode(token='keyword', value='WHERE')\n",
            "|               |-- AnyNode(token='whitespace', value=' ')\n",
            "|               +-- AnyNode(token='expression')\n",
            "|                   |-- AnyNode(token='bracketed')\n",
            "|                   |   |-- AnyNode(token='start_bracket', value='(')\n",
            "|                   |   |-- AnyNode(token='expression')\n",
            "|                   |   |   |-- AnyNode(token='column_reference')\n",
            "|                   |   |   |   +-- AnyNode(token='naked_identifier', value='event_type')\n",
            "|                   |   |   |-- AnyNode(token='whitespace', value=' ')\n",
            "|                   |   |   |-- AnyNode(token='comparison_operator')\n",
            "|                   |   |   |   +-- AnyNode(token='raw_comparison_operator', value='=')\n",
            "|                   |   |   |-- AnyNode(token='whitespace', value=' ')\n",
            "|                   |   |   +-- AnyNode(token='numeric_literal', value='2')\n",
            "|                   |   +-- AnyNode(token='end_bracket', value=')')\n",
            "|                   |-- AnyNode(token='whitespace', value=' ')\n",
            "|                   |-- AnyNode(token='binary_operator', value='OR')\n",
            "|                   |-- AnyNode(token='whitespace', value=' ')\n",
            "|                   |-- AnyNode(token='bracketed')\n",
            "|                   |   |-- AnyNode(token='start_bracket', value='(')\n",
            "|                   |   |-- AnyNode(token='expression')\n",
            "|                   |   |   |-- AnyNode(token='column_reference')\n",
            "|                   |   |   |   +-- AnyNode(token='naked_identifier', value='event_type')\n",
            "|                   |   |   |-- AnyNode(token='whitespace', value=' ')\n",
            "|                   |   |   |-- AnyNode(token='comparison_operator')\n",
            "|                   |   |   |   +-- AnyNode(token='raw_comparison_operator', value='=')\n",
            "|                   |   |   |-- AnyNode(token='whitespace', value=' ')\n",
            "|                   |   |   +-- AnyNode(token='numeric_literal', value='1')\n",
            "|                   |   +-- AnyNode(token='end_bracket', value=')')\n",
            "|                   |-- AnyNode(token='whitespace', value=' ')\n",
            "|                   |-- AnyNode(token='binary_operator', value='or')\n",
            "|                   |-- AnyNode(token='whitespace', value=' ')\n",
            "|                   |-- AnyNode(token='bracketed')\n",
            "|                   |   |-- AnyNode(token='start_bracket', value='(')\n",
            "|                   |   |-- AnyNode(token='expression')\n",
            "|                   |   |   |-- AnyNode(token='column_reference')\n",
            "|                   |   |   |   +-- AnyNode(token='naked_identifier', value='event_type')\n",
            "|                   |   |   |-- AnyNode(token='whitespace', value=' ')\n",
            "|                   |   |   |-- AnyNode(token='comparison_operator')\n",
            "|                   |   |   |   +-- AnyNode(token='raw_comparison_operator', value='=')\n",
            "|                   |   |   |-- AnyNode(token='whitespace', value=' ')\n",
            "|                   |   |   +-- AnyNode(token='numeric_literal', value='23')\n",
            "|                   |   +-- AnyNode(token='end_bracket', value=')')\n",
            "|                   |-- AnyNode(token='whitespace', value=' ')\n",
            "|                   |-- AnyNode(token='binary_operator', value='or')\n",
            "|                   |-- AnyNode(token='whitespace', value=' ')\n",
            "|                   +-- AnyNode(token='bracketed')\n",
            "|                       |-- AnyNode(token='start_bracket', value='(')\n",
            "|                       |-- AnyNode(token='expression')\n",
            "|                       |   |-- AnyNode(token='column_reference')\n",
            "|                       |   |   +-- AnyNode(token='naked_identifier', value='event_type')\n",
            "|                       |   |-- AnyNode(token='whitespace', value=' ')\n",
            "|                       |   |-- AnyNode(token='comparison_operator')\n",
            "|                       |   |   +-- AnyNode(token='raw_comparison_operator', value='=')\n",
            "|                       |   |-- AnyNode(token='whitespace', value=' ')\n",
            "|                       |   +-- AnyNode(token='numeric_literal', value='26')\n",
            "|                       +-- AnyNode(token='end_bracket', value=')')\n",
            "+-- AnyNode(token='statement_terminator', value=';')\n"
          ]
        }
      ]
    },
    {
      "cell_type": "code",
      "source": [
        "import networkx as nx\n",
        "\n",
        "edges = []\n",
        "\n",
        "for stmnt in statements_parsed:\n",
        "\n",
        "  # obtain the AST\n",
        "\n",
        "  data = stmnt['file']\n",
        "  root = get_tree(data)\n",
        "  root = root.children[0]\n",
        "\n",
        "  # extract statement type\n",
        "\n",
        "  stmtnt_node = anytree.find_by_attr(root, 'statement', name='token')\n",
        "  assert len(stmtnt_node.children)==1\n",
        "  stmtnt_node = stmtnt_node.children[0]\n",
        "  stmnt_type = stmtnt_node.token\n",
        "  stmnt_type = stmnt_type.replace('_table_statement','')\n",
        "  stmnt_type = stmnt_type.replace('_statement','')\n",
        "\n",
        "  # extract referenced tables\n",
        "\n",
        "  tables = []\n",
        "  nodes = anytree.search.findall(stmtnt_node, lambda node: getattr(node,\"token\",\"\") == 'table_reference')\n",
        "  for n in nodes:\n",
        "    t = ''.join( getattr(c,'value','') for c in n.children)\n",
        "    if 'murmuras' in t:\n",
        "      t = t.replace('murmuras.','')\n",
        "      tables.append(t)\n",
        "\n",
        "  # add tables to the relation\n",
        "\n",
        "  if stmnt_type == 'drop':\n",
        "    for t in tables:\n",
        "      e = (t, ' ', {'op':'DROP'})\n",
        "      edges.append( e )\n",
        "\n",
        "  if stmnt_type == 'create':\n",
        "    t_target = tables[0]\n",
        "    for t in tables[1:]:\n",
        "      e = ( t, t_target, {'op':'CREATE'} )\n",
        "      edges.append( e )\n",
        "\n",
        "  if stmnt_type == 'insert':\n",
        "    t_target = tables[0]\n",
        "    for t in tables[1:]:\n",
        "      e = ( t, t_target, {'op': 'INSERT'} )\n",
        "      edges.append( e )\n",
        "\n",
        "  if stmnt_type == 'rename':\n",
        "    for i in range(len(tables)//2):\n",
        "        e = ( tables[2*i], tables[2*i+1], {'op':'RENAME'} )\n",
        "        edges.append( e )\n",
        "\n",
        "print(edges)"
      ],
      "metadata": {
        "colab": {
          "base_uri": "https://localhost:8080/"
        },
        "id": "xfr-1pezJw2g",
        "outputId": "aaaa33e6-fd78-4e61-bd35-07971422c55f"
      },
      "execution_count": 7,
      "outputs": [
        {
          "output_type": "stream",
          "name": "stdout",
          "text": [
            "[('android_log', 'app_log_trivial_tmp', {'op': 'CREATE'}), ('app_log_trivial', 'app_log_trivial_tmp_old', {'op': 'RENAME'}), ('app_log_trivial_tmp', 'app_log_trivial', {'op': 'RENAME'}), ('app_log_trivial_tmp_old', ' ', {'op': 'DROP'}), ('app_log_trivial', 'app_log_simple', {'op': 'INSERT'}), ('app_log_simple', 'app_log_simple', {'op': 'INSERT'}), ('app_log_simple', 'app_log_new_tmp', {'op': 'CREATE'}), ('app_log_new', 'app_log_new_tmp_old', {'op': 'RENAME'}), ('app_log_new_tmp', 'app_log_new', {'op': 'RENAME'}), ('app_log_new_tmp_old', ' ', {'op': 'DROP'}), ('app_log_new', 'app_session_app_log_tmp', {'op': 'CREATE'}), ('app_session_app_log', 'app_session_app_log_tmp_old', {'op': 'RENAME'}), ('app_session_app_log_tmp', 'app_session_app_log', {'op': 'RENAME'}), ('app_session_app_log_tmp_old', ' ', {'op': 'DROP'}), ('app_session', 'app_session_daily_tmp', {'op': 'CREATE'}), ('app_session', 'app_session_daily_tmp', {'op': 'CREATE'}), ('app_session', 'app_session_daily_tmp', {'op': 'CREATE'}), ('app_session_daily', 'app_session_daily_tmp_old', {'op': 'RENAME'}), ('app_session_daily_tmp', 'app_session_daily', {'op': 'RENAME'}), ('app_session_daily_tmp_old', ' ', {'op': 'DROP'}), ('app_session_daily', 'app_session_6hourly_tmp', {'op': 'CREATE'}), ('app_session_daily', 'app_session_6hourly_tmp', {'op': 'CREATE'}), ('app_session_daily', 'app_session_6hourly_tmp', {'op': 'CREATE'}), ('app_session_6hourly', 'app_session_6hourly_tmp_old', {'op': 'RENAME'}), ('app_session_6hourly_tmp', 'app_session_6hourly', {'op': 'RENAME'}), ('app_session_6hourly_tmp_old', ' ', {'op': 'DROP'}), ('app_session_6hourly', 'app_session_hourly_tmp', {'op': 'CREATE'}), ('app_session_6hourly', 'app_session_hourly_tmp', {'op': 'CREATE'}), ('app_session_6hourly', 'app_session_hourly_tmp', {'op': 'CREATE'}), ('app_session_6hourly', 'app_session_hourly_tmp', {'op': 'CREATE'}), ('app_session_6hourly', 'app_session_hourly_tmp', {'op': 'CREATE'}), ('app_session_6hourly', 'app_session_hourly_tmp', {'op': 'CREATE'}), ('app_session_6hourly', 'app_session_hourly_tmp', {'op': 'CREATE'}), ('app_session_6hourly', 'app_session_hourly_tmp', {'op': 'CREATE'}), ('app_session_hourly', 'app_session_hourly_tmp_old', {'op': 'RENAME'}), ('app_session_hourly_tmp', 'app_session_hourly', {'op': 'RENAME'}), ('app_session_hourly_tmp_old', ' ', {'op': 'DROP'}), ('app_session_daily', 'app_aggregation_app_log_tmp', {'op': 'CREATE'}), ('app_session_daily', 'app_aggregation_app_log_tmp', {'op': 'CREATE'}), ('app_aggregation_app_log', 'app_aggregation_app_log_tmp_old', {'op': 'RENAME'}), ('app_aggregation_app_log_tmp', 'app_aggregation_app_log', {'op': 'RENAME'}), ('app_aggregation_app_log_tmp_old', ' ', {'op': 'DROP'}), ('app_session_hourly', 'app_aggregation_hourly_tmp', {'op': 'CREATE'}), ('app_session_hourly', 'app_aggregation_hourly_tmp', {'op': 'CREATE'}), ('app_aggregation_hourly', 'app_aggregation_hourly_tmp_old', {'op': 'RENAME'}), ('app_aggregation_hourly_tmp', 'app_aggregation_hourly', {'op': 'RENAME'}), ('app_aggregation_hourly_tmp_old', ' ', {'op': 'DROP'}), ('app_session_app_log', 'phone_aggregation_app_log_tmp', {'op': 'CREATE'}), ('app_session_app_log', 'phone_aggregation_app_log_tmp', {'op': 'CREATE'}), ('phone_aggregation_app_log', 'phone_aggregation_app_log_tmp_old', {'op': 'RENAME'}), ('phone_aggregation_app_log_tmp', 'phone_aggregation_app_log', {'op': 'RENAME'}), ('phone_aggregation_app_log_tmp_old', ' ', {'op': 'DROP'})]\n"
          ]
        }
      ]
    },
    {
      "cell_type": "code",
      "source": [
        "import networkx as nx\n",
        "from graphviz import Digraph\n",
        "from IPython.display import display_svg\n",
        "\n",
        "G = nx.DiGraph()\n",
        "G.add_edges_from(edges)\n",
        "\n",
        "dot = Digraph()\n",
        "for node in G.nodes:\n",
        "    dot.node(node)\n",
        "for n1, n2, data in G.edges(data=True):\n",
        "    dot.edge(n1, n2, label=data['op'])\n",
        "\n",
        "dot.render(\"lineage2\", format='svg')\n",
        "display_svg(dot)"
      ],
      "metadata": {
        "colab": {
          "base_uri": "https://localhost:8080/",
          "height": 1000
        },
        "id": "JiB_2chvJ-yn",
        "outputId": "c5e8ef8a-f2b7-468b-df75-c2da124c898a"
      },
      "execution_count": 15,
      "outputs": [
        {
          "output_type": "display_data",
          "data": {
            "image/svg+xml": "<?xml version=\"1.0\" encoding=\"UTF-8\" standalone=\"no\"?>\n<!DOCTYPE svg PUBLIC \"-//W3C//DTD SVG 1.1//EN\"\n \"http://www.w3.org/Graphics/SVG/1.1/DTD/svg11.dtd\">\n<!-- Generated by graphviz version 2.43.0 (0)\n -->\n<!-- Title: %3 Pages: 1 -->\n<svg width=\"1318pt\" height=\"1127pt\"\n viewBox=\"0.00 0.00 1317.63 1127.00\" xmlns=\"http://www.w3.org/2000/svg\" xmlns:xlink=\"http://www.w3.org/1999/xlink\">\n<g id=\"graph0\" class=\"graph\" transform=\"scale(1 1) rotate(0) translate(4 1123)\">\n<title>%3</title>\n<polygon fill=\"white\" stroke=\"transparent\" points=\"-4,4 -4,-1123 1313.63,-1123 1313.63,4 -4,4\"/>\n<!-- android_log -->\n<g id=\"node1\" class=\"node\">\n<title>android_log</title>\n<ellipse fill=\"none\" stroke=\"black\" cx=\"159.79\" cy=\"-1101\" rx=\"53.09\" ry=\"18\"/>\n<text text-anchor=\"middle\" x=\"159.79\" y=\"-1097.3\" font-family=\"Times,serif\" font-size=\"14.00\">android_log</text>\n</g>\n<!-- app_log_trivial_tmp -->\n<g id=\"node2\" class=\"node\">\n<title>app_log_trivial_tmp</title>\n<ellipse fill=\"none\" stroke=\"black\" cx=\"159.79\" cy=\"-1014\" rx=\"83.39\" ry=\"18\"/>\n<text text-anchor=\"middle\" x=\"159.79\" y=\"-1010.3\" font-family=\"Times,serif\" font-size=\"14.00\">app_log_trivial_tmp</text>\n</g>\n<!-- android_log&#45;&gt;app_log_trivial_tmp -->\n<g id=\"edge1\" class=\"edge\">\n<title>android_log&#45;&gt;app_log_trivial_tmp</title>\n<path fill=\"none\" stroke=\"black\" d=\"M159.79,-1082.8C159.79,-1071.16 159.79,-1055.55 159.79,-1042.24\"/>\n<polygon fill=\"black\" stroke=\"black\" points=\"163.29,-1042.18 159.79,-1032.18 156.29,-1042.18 163.29,-1042.18\"/>\n<text text-anchor=\"middle\" x=\"185.79\" y=\"-1053.8\" font-family=\"Times,serif\" font-size=\"14.00\">CREATE</text>\n</g>\n<!-- app_log_trivial -->\n<g id=\"node3\" class=\"node\">\n<title>app_log_trivial</title>\n<ellipse fill=\"none\" stroke=\"black\" cx=\"159.79\" cy=\"-927\" rx=\"64.19\" ry=\"18\"/>\n<text text-anchor=\"middle\" x=\"159.79\" y=\"-923.3\" font-family=\"Times,serif\" font-size=\"14.00\">app_log_trivial</text>\n</g>\n<!-- app_log_trivial_tmp&#45;&gt;app_log_trivial -->\n<g id=\"edge2\" class=\"edge\">\n<title>app_log_trivial_tmp&#45;&gt;app_log_trivial</title>\n<path fill=\"none\" stroke=\"black\" d=\"M159.79,-995.8C159.79,-984.16 159.79,-968.55 159.79,-955.24\"/>\n<polygon fill=\"black\" stroke=\"black\" points=\"163.29,-955.18 159.79,-945.18 156.29,-955.18 163.29,-955.18\"/>\n<text text-anchor=\"middle\" x=\"188.79\" y=\"-966.8\" font-family=\"Times,serif\" font-size=\"14.00\">RENAME</text>\n</g>\n<!-- app_log_trivial_tmp_old -->\n<g id=\"node4\" class=\"node\">\n<title>app_log_trivial_tmp_old</title>\n<ellipse fill=\"none\" stroke=\"black\" cx=\"98.79\" cy=\"-786\" rx=\"98.58\" ry=\"18\"/>\n<text text-anchor=\"middle\" x=\"98.79\" y=\"-782.3\" font-family=\"Times,serif\" font-size=\"14.00\">app_log_trivial_tmp_old</text>\n</g>\n<!-- app_log_trivial&#45;&gt;app_log_trivial_tmp_old -->\n<g id=\"edge3\" class=\"edge\">\n<title>app_log_trivial&#45;&gt;app_log_trivial_tmp_old</title>\n<path fill=\"none\" stroke=\"black\" d=\"M138.28,-909.65C132.49,-904.28 126.75,-897.91 122.79,-891 109.18,-867.23 103.29,-836.24 100.74,-814.29\"/>\n<polygon fill=\"black\" stroke=\"black\" points=\"104.22,-813.91 99.73,-804.31 97.25,-814.61 104.22,-813.91\"/>\n<text text-anchor=\"middle\" x=\"151.79\" y=\"-879.8\" font-family=\"Times,serif\" font-size=\"14.00\">RENAME</text>\n</g>\n<!-- app_log_simple -->\n<g id=\"node6\" class=\"node\">\n<title>app_log_simple</title>\n<ellipse fill=\"none\" stroke=\"black\" cx=\"214.79\" cy=\"-840\" rx=\"67.69\" ry=\"18\"/>\n<text text-anchor=\"middle\" x=\"214.79\" y=\"-836.3\" font-family=\"Times,serif\" font-size=\"14.00\">app_log_simple</text>\n</g>\n<!-- app_log_trivial&#45;&gt;app_log_simple -->\n<g id=\"edge4\" class=\"edge\">\n<title>app_log_trivial&#45;&gt;app_log_simple</title>\n<path fill=\"none\" stroke=\"black\" d=\"M170.66,-909.21C178.52,-897.06 189.28,-880.43 198.21,-866.63\"/>\n<polygon fill=\"black\" stroke=\"black\" points=\"201.27,-868.35 203.76,-858.05 195.39,-864.54 201.27,-868.35\"/>\n<text text-anchor=\"middle\" x=\"214.29\" y=\"-879.8\" font-family=\"Times,serif\" font-size=\"14.00\">INSERT</text>\n</g>\n<!--   -->\n<g id=\"node5\" class=\"node\">\n<title> </title>\n<ellipse fill=\"none\" stroke=\"black\" cx=\"658.79\" cy=\"-18\" rx=\"27\" ry=\"18\"/>\n<text text-anchor=\"middle\" x=\"658.79\" y=\"-14.3\" font-family=\"Times,serif\" font-size=\"14.00\"> </text>\n</g>\n<!-- app_log_trivial_tmp_old&#45;&gt;  -->\n<g id=\"edge5\" class=\"edge\">\n<title>app_log_trivial_tmp_old&#45;&gt; </title>\n<path fill=\"none\" stroke=\"black\" d=\"M98.79,-767.74C98.79,-746.76 98.79,-710.28 98.79,-679 98.79,-679 98.79,-679 98.79,-104 98.79,-54.31 150.9,-67.24 198.79,-54 278.14,-32.06 526.69,-22.79 621.52,-19.98\"/>\n<polygon fill=\"black\" stroke=\"black\" points=\"621.88,-23.48 631.78,-19.69 621.68,-16.48 621.88,-23.48\"/>\n<text text-anchor=\"middle\" x=\"117.29\" y=\"-425.3\" font-family=\"Times,serif\" font-size=\"14.00\">DROP</text>\n</g>\n<!-- app_log_simple&#45;&gt;app_log_simple -->\n<g id=\"edge6\" class=\"edge\">\n<title>app_log_simple&#45;&gt;app_log_simple</title>\n<path fill=\"none\" stroke=\"black\" d=\"M275.96,-847.7C290.04,-847.04 300.39,-844.47 300.39,-840 300.39,-836.68 294.69,-834.41 285.99,-833.19\"/>\n<polygon fill=\"black\" stroke=\"black\" points=\"286.23,-829.7 275.96,-832.3 285.61,-836.67 286.23,-829.7\"/>\n<text text-anchor=\"middle\" x=\"323.89\" y=\"-836.3\" font-family=\"Times,serif\" font-size=\"14.00\">INSERT</text>\n</g>\n<!-- app_log_new_tmp -->\n<g id=\"node7\" class=\"node\">\n<title>app_log_new_tmp</title>\n<ellipse fill=\"none\" stroke=\"black\" cx=\"220.79\" cy=\"-732\" rx=\"76.89\" ry=\"18\"/>\n<text text-anchor=\"middle\" x=\"220.79\" y=\"-728.3\" font-family=\"Times,serif\" font-size=\"14.00\">app_log_new_tmp</text>\n</g>\n<!-- app_log_simple&#45;&gt;app_log_new_tmp -->\n<g id=\"edge7\" class=\"edge\">\n<title>app_log_simple&#45;&gt;app_log_new_tmp</title>\n<path fill=\"none\" stroke=\"black\" d=\"M215.76,-821.97C216.69,-805.38 218.14,-779.88 219.24,-760.43\"/>\n<polygon fill=\"black\" stroke=\"black\" points=\"222.74,-760.52 219.81,-750.34 215.75,-760.13 222.74,-760.52\"/>\n<text text-anchor=\"middle\" x=\"244.79\" y=\"-782.3\" font-family=\"Times,serif\" font-size=\"14.00\">CREATE</text>\n</g>\n<!-- app_log_new -->\n<g id=\"node8\" class=\"node\">\n<title>app_log_new</title>\n<ellipse fill=\"none\" stroke=\"black\" cx=\"220.79\" cy=\"-624\" rx=\"57.69\" ry=\"18\"/>\n<text text-anchor=\"middle\" x=\"220.79\" y=\"-620.3\" font-family=\"Times,serif\" font-size=\"14.00\">app_log_new</text>\n</g>\n<!-- app_log_new_tmp&#45;&gt;app_log_new -->\n<g id=\"edge8\" class=\"edge\">\n<title>app_log_new_tmp&#45;&gt;app_log_new</title>\n<path fill=\"none\" stroke=\"black\" d=\"M220.79,-713.97C220.79,-697.38 220.79,-671.88 220.79,-652.43\"/>\n<polygon fill=\"black\" stroke=\"black\" points=\"224.29,-652.34 220.79,-642.34 217.29,-652.34 224.29,-652.34\"/>\n<text text-anchor=\"middle\" x=\"249.79\" y=\"-674.3\" font-family=\"Times,serif\" font-size=\"14.00\">RENAME</text>\n</g>\n<!-- app_log_new_tmp_old -->\n<g id=\"node9\" class=\"node\">\n<title>app_log_new_tmp_old</title>\n<ellipse fill=\"none\" stroke=\"black\" cx=\"205.79\" cy=\"-483\" rx=\"92.08\" ry=\"18\"/>\n<text text-anchor=\"middle\" x=\"205.79\" y=\"-479.3\" font-family=\"Times,serif\" font-size=\"14.00\">app_log_new_tmp_old</text>\n</g>\n<!-- app_log_new&#45;&gt;app_log_new_tmp_old -->\n<g id=\"edge9\" class=\"edge\">\n<title>app_log_new&#45;&gt;app_log_new_tmp_old</title>\n<path fill=\"none\" stroke=\"black\" d=\"M215.01,-605.73C213.36,-600.14 211.76,-593.86 210.79,-588 206.54,-562.18 205.5,-532.3 205.4,-511.22\"/>\n<polygon fill=\"black\" stroke=\"black\" points=\"208.9,-511.07 205.41,-501.06 201.9,-511.05 208.9,-511.07\"/>\n<text text-anchor=\"middle\" x=\"239.79\" y=\"-576.8\" font-family=\"Times,serif\" font-size=\"14.00\">RENAME</text>\n</g>\n<!-- app_session_app_log_tmp -->\n<g id=\"node10\" class=\"node\">\n<title>app_session_app_log_tmp</title>\n<ellipse fill=\"none\" stroke=\"black\" cx=\"338.79\" cy=\"-537\" rx=\"104.78\" ry=\"18\"/>\n<text text-anchor=\"middle\" x=\"338.79\" y=\"-533.3\" font-family=\"Times,serif\" font-size=\"14.00\">app_session_app_log_tmp</text>\n</g>\n<!-- app_log_new&#45;&gt;app_session_app_log_tmp -->\n<g id=\"edge10\" class=\"edge\">\n<title>app_log_new&#45;&gt;app_session_app_log_tmp</title>\n<path fill=\"none\" stroke=\"black\" d=\"M242.71,-607.21C260.9,-594.1 287.01,-575.3 307.42,-560.6\"/>\n<polygon fill=\"black\" stroke=\"black\" points=\"309.71,-563.26 315.78,-554.57 305.62,-557.58 309.71,-563.26\"/>\n<text text-anchor=\"middle\" x=\"313.79\" y=\"-576.8\" font-family=\"Times,serif\" font-size=\"14.00\">CREATE</text>\n</g>\n<!-- app_log_new_tmp_old&#45;&gt;  -->\n<g id=\"edge11\" class=\"edge\">\n<title>app_log_new_tmp_old&#45;&gt; </title>\n<path fill=\"none\" stroke=\"black\" d=\"M200.27,-464.95C194.05,-444.17 184.79,-407.89 184.79,-376 184.79,-376 184.79,-376 184.79,-104 184.79,-40.43 256.9,-68.48 318.79,-54 426.66,-28.76 558.03,-21.72 621.25,-19.76\"/>\n<polygon fill=\"black\" stroke=\"black\" points=\"621.62,-23.25 631.52,-19.46 621.42,-16.25 621.62,-23.25\"/>\n<text text-anchor=\"middle\" x=\"203.29\" y=\"-263.3\" font-family=\"Times,serif\" font-size=\"14.00\">DROP</text>\n</g>\n<!-- app_session_app_log -->\n<g id=\"node11\" class=\"node\">\n<title>app_session_app_log</title>\n<ellipse fill=\"none\" stroke=\"black\" cx=\"338.79\" cy=\"-429\" rx=\"85.59\" ry=\"18\"/>\n<text text-anchor=\"middle\" x=\"338.79\" y=\"-425.3\" font-family=\"Times,serif\" font-size=\"14.00\">app_session_app_log</text>\n</g>\n<!-- app_session_app_log_tmp&#45;&gt;app_session_app_log -->\n<g id=\"edge12\" class=\"edge\">\n<title>app_session_app_log_tmp&#45;&gt;app_session_app_log</title>\n<path fill=\"none\" stroke=\"black\" d=\"M338.79,-518.97C338.79,-502.38 338.79,-476.88 338.79,-457.43\"/>\n<polygon fill=\"black\" stroke=\"black\" points=\"342.29,-457.34 338.79,-447.34 335.29,-457.34 342.29,-457.34\"/>\n<text text-anchor=\"middle\" x=\"367.79\" y=\"-479.3\" font-family=\"Times,serif\" font-size=\"14.00\">RENAME</text>\n</g>\n<!-- app_session_app_log_tmp_old -->\n<g id=\"node12\" class=\"node\">\n<title>app_session_app_log_tmp_old</title>\n<ellipse fill=\"none\" stroke=\"black\" cx=\"319.79\" cy=\"-159\" rx=\"120.48\" ry=\"18\"/>\n<text text-anchor=\"middle\" x=\"319.79\" y=\"-155.3\" font-family=\"Times,serif\" font-size=\"14.00\">app_session_app_log_tmp_old</text>\n</g>\n<!-- app_session_app_log&#45;&gt;app_session_app_log_tmp_old -->\n<g id=\"edge13\" class=\"edge\">\n<title>app_session_app_log&#45;&gt;app_session_app_log_tmp_old</title>\n<path fill=\"none\" stroke=\"black\" d=\"M326.28,-411.01C314.49,-393.84 297.62,-366.06 290.79,-339 277.32,-285.66 295.76,-221.73 308.81,-186.53\"/>\n<polygon fill=\"black\" stroke=\"black\" points=\"312.16,-187.57 312.49,-176.98 305.63,-185.06 312.16,-187.57\"/>\n<text text-anchor=\"middle\" x=\"319.79\" y=\"-317.3\" font-family=\"Times,serif\" font-size=\"14.00\">RENAME</text>\n</g>\n<!-- phone_aggregation_app_log_tmp -->\n<g id=\"node29\" class=\"node\">\n<title>phone_aggregation_app_log_tmp</title>\n<ellipse fill=\"none\" stroke=\"black\" cx=\"486.79\" cy=\"-321\" rx=\"129.18\" ry=\"18\"/>\n<text text-anchor=\"middle\" x=\"486.79\" y=\"-317.3\" font-family=\"Times,serif\" font-size=\"14.00\">phone_aggregation_app_log_tmp</text>\n</g>\n<!-- app_session_app_log&#45;&gt;phone_aggregation_app_log_tmp -->\n<g id=\"edge14\" class=\"edge\">\n<title>app_session_app_log&#45;&gt;phone_aggregation_app_log_tmp</title>\n<path fill=\"none\" stroke=\"black\" d=\"M361.92,-411.44C386.97,-393.5 427.09,-364.76 455.08,-344.72\"/>\n<polygon fill=\"black\" stroke=\"black\" points=\"457.25,-347.46 463.34,-338.8 453.17,-341.77 457.25,-347.46\"/>\n<text text-anchor=\"middle\" x=\"460.79\" y=\"-371.3\" font-family=\"Times,serif\" font-size=\"14.00\">CREATE</text>\n</g>\n<!-- app_session_app_log_tmp_old&#45;&gt;  -->\n<g id=\"edge15\" class=\"edge\">\n<title>app_session_app_log_tmp_old&#45;&gt; </title>\n<path fill=\"none\" stroke=\"black\" d=\"M305.14,-140.84C293.74,-125.32 281.85,-102.58 294.79,-87 336.1,-37.26 537.22,-23.7 621.51,-20.18\"/>\n<polygon fill=\"black\" stroke=\"black\" points=\"621.8,-23.67 631.66,-19.78 621.53,-16.67 621.8,-23.67\"/>\n<text text-anchor=\"middle\" x=\"313.29\" y=\"-101.3\" font-family=\"Times,serif\" font-size=\"14.00\">DROP</text>\n</g>\n<!-- app_session -->\n<g id=\"node13\" class=\"node\">\n<title>app_session</title>\n<ellipse fill=\"none\" stroke=\"black\" cx=\"822.79\" cy=\"-1014\" rx=\"53.09\" ry=\"18\"/>\n<text text-anchor=\"middle\" x=\"822.79\" y=\"-1010.3\" font-family=\"Times,serif\" font-size=\"14.00\">app_session</text>\n</g>\n<!-- app_session_daily_tmp -->\n<g id=\"node14\" class=\"node\">\n<title>app_session_daily_tmp</title>\n<ellipse fill=\"none\" stroke=\"black\" cx=\"822.79\" cy=\"-927\" rx=\"93.68\" ry=\"18\"/>\n<text text-anchor=\"middle\" x=\"822.79\" y=\"-923.3\" font-family=\"Times,serif\" font-size=\"14.00\">app_session_daily_tmp</text>\n</g>\n<!-- app_session&#45;&gt;app_session_daily_tmp -->\n<g id=\"edge16\" class=\"edge\">\n<title>app_session&#45;&gt;app_session_daily_tmp</title>\n<path fill=\"none\" stroke=\"black\" d=\"M822.79,-995.8C822.79,-984.16 822.79,-968.55 822.79,-955.24\"/>\n<polygon fill=\"black\" stroke=\"black\" points=\"826.29,-955.18 822.79,-945.18 819.29,-955.18 826.29,-955.18\"/>\n<text text-anchor=\"middle\" x=\"848.79\" y=\"-966.8\" font-family=\"Times,serif\" font-size=\"14.00\">CREATE</text>\n</g>\n<!-- app_session_daily -->\n<g id=\"node15\" class=\"node\">\n<title>app_session_daily</title>\n<ellipse fill=\"none\" stroke=\"black\" cx=\"822.79\" cy=\"-840\" rx=\"75.29\" ry=\"18\"/>\n<text text-anchor=\"middle\" x=\"822.79\" y=\"-836.3\" font-family=\"Times,serif\" font-size=\"14.00\">app_session_daily</text>\n</g>\n<!-- app_session_daily_tmp&#45;&gt;app_session_daily -->\n<g id=\"edge17\" class=\"edge\">\n<title>app_session_daily_tmp&#45;&gt;app_session_daily</title>\n<path fill=\"none\" stroke=\"black\" d=\"M822.79,-908.8C822.79,-897.16 822.79,-881.55 822.79,-868.24\"/>\n<polygon fill=\"black\" stroke=\"black\" points=\"826.29,-868.18 822.79,-858.18 819.29,-868.18 826.29,-868.18\"/>\n<text text-anchor=\"middle\" x=\"851.79\" y=\"-879.8\" font-family=\"Times,serif\" font-size=\"14.00\">RENAME</text>\n</g>\n<!-- app_session_daily_tmp_old -->\n<g id=\"node16\" class=\"node\">\n<title>app_session_daily_tmp_old</title>\n<ellipse fill=\"none\" stroke=\"black\" cx=\"668.79\" cy=\"-678\" rx=\"109.38\" ry=\"18\"/>\n<text text-anchor=\"middle\" x=\"668.79\" y=\"-674.3\" font-family=\"Times,serif\" font-size=\"14.00\">app_session_daily_tmp_old</text>\n</g>\n<!-- app_session_daily&#45;&gt;app_session_daily_tmp_old -->\n<g id=\"edge18\" class=\"edge\">\n<title>app_session_daily&#45;&gt;app_session_daily_tmp_old</title>\n<path fill=\"none\" stroke=\"black\" d=\"M791,-823.52C780.92,-817.98 770,-811.28 760.79,-804 735.13,-783.72 730.34,-776.22 710.79,-750 700.22,-735.82 690.07,-718.8 682.4,-704.97\"/>\n<polygon fill=\"black\" stroke=\"black\" points=\"685.37,-703.1 677.51,-695.99 679.22,-706.45 685.37,-703.1\"/>\n<text text-anchor=\"middle\" x=\"789.79\" y=\"-782.3\" font-family=\"Times,serif\" font-size=\"14.00\">RENAME</text>\n</g>\n<!-- app_session_6hourly_tmp -->\n<g id=\"node17\" class=\"node\">\n<title>app_session_6hourly_tmp</title>\n<ellipse fill=\"none\" stroke=\"black\" cx=\"822.79\" cy=\"-732\" rx=\"103.18\" ry=\"18\"/>\n<text text-anchor=\"middle\" x=\"822.79\" y=\"-728.3\" font-family=\"Times,serif\" font-size=\"14.00\">app_session_6hourly_tmp</text>\n</g>\n<!-- app_session_daily&#45;&gt;app_session_6hourly_tmp -->\n<g id=\"edge19\" class=\"edge\">\n<title>app_session_daily&#45;&gt;app_session_6hourly_tmp</title>\n<path fill=\"none\" stroke=\"black\" d=\"M822.79,-821.97C822.79,-805.38 822.79,-779.88 822.79,-760.43\"/>\n<polygon fill=\"black\" stroke=\"black\" points=\"826.29,-760.34 822.79,-750.34 819.29,-760.34 826.29,-760.34\"/>\n<text text-anchor=\"middle\" x=\"848.79\" y=\"-782.3\" font-family=\"Times,serif\" font-size=\"14.00\">CREATE</text>\n</g>\n<!-- app_aggregation_app_log_tmp -->\n<g id=\"node23\" class=\"node\">\n<title>app_aggregation_app_log_tmp</title>\n<ellipse fill=\"none\" stroke=\"black\" cx=\"1126.79\" cy=\"-732\" rx=\"120.48\" ry=\"18\"/>\n<text text-anchor=\"middle\" x=\"1126.79\" y=\"-728.3\" font-family=\"Times,serif\" font-size=\"14.00\">app_aggregation_app_log_tmp</text>\n</g>\n<!-- app_session_daily&#45;&gt;app_aggregation_app_log_tmp -->\n<g id=\"edge20\" class=\"edge\">\n<title>app_session_daily&#45;&gt;app_aggregation_app_log_tmp</title>\n<path fill=\"none\" stroke=\"black\" d=\"M863.47,-824.81C917.19,-806.08 1011.97,-773.04 1071.97,-752.12\"/>\n<polygon fill=\"black\" stroke=\"black\" points=\"1073.36,-755.34 1081.65,-748.74 1071.05,-748.73 1073.36,-755.34\"/>\n<text text-anchor=\"middle\" x=\"1044.79\" y=\"-782.3\" font-family=\"Times,serif\" font-size=\"14.00\">CREATE</text>\n</g>\n<!-- app_session_daily_tmp_old&#45;&gt;  -->\n<g id=\"edge21\" class=\"edge\">\n<title>app_session_daily_tmp_old&#45;&gt; </title>\n<path fill=\"none\" stroke=\"black\" d=\"M662.43,-660.02C655.93,-641.13 646.79,-609.57 646.79,-581.5 646.79,-581.5 646.79,-581.5 646.79,-428 646.79,-412.34 643.68,-408.63 642.79,-393 641.88,-377.03 642.41,-373 642.79,-357 645.53,-241.41 653.51,-103.77 657.06,-46.31\"/>\n<polygon fill=\"black\" stroke=\"black\" points=\"660.56,-46.42 657.69,-36.23 653.57,-45.99 660.56,-46.42\"/>\n<text text-anchor=\"middle\" x=\"661.29\" y=\"-371.3\" font-family=\"Times,serif\" font-size=\"14.00\">DROP</text>\n</g>\n<!-- app_session_6hourly -->\n<g id=\"node18\" class=\"node\">\n<title>app_session_6hourly</title>\n<ellipse fill=\"none\" stroke=\"black\" cx=\"822.79\" cy=\"-624\" rx=\"85.29\" ry=\"18\"/>\n<text text-anchor=\"middle\" x=\"822.79\" y=\"-620.3\" font-family=\"Times,serif\" font-size=\"14.00\">app_session_6hourly</text>\n</g>\n<!-- app_session_6hourly_tmp&#45;&gt;app_session_6hourly -->\n<g id=\"edge22\" class=\"edge\">\n<title>app_session_6hourly_tmp&#45;&gt;app_session_6hourly</title>\n<path fill=\"none\" stroke=\"black\" d=\"M822.79,-713.97C822.79,-697.38 822.79,-671.88 822.79,-652.43\"/>\n<polygon fill=\"black\" stroke=\"black\" points=\"826.29,-652.34 822.79,-642.34 819.29,-652.34 826.29,-652.34\"/>\n<text text-anchor=\"middle\" x=\"851.79\" y=\"-674.3\" font-family=\"Times,serif\" font-size=\"14.00\">RENAME</text>\n</g>\n<!-- app_session_6hourly_tmp_old -->\n<g id=\"node19\" class=\"node\">\n<title>app_session_6hourly_tmp_old</title>\n<ellipse fill=\"none\" stroke=\"black\" cx=\"807.79\" cy=\"-375\" rx=\"118.88\" ry=\"18\"/>\n<text text-anchor=\"middle\" x=\"807.79\" y=\"-371.3\" font-family=\"Times,serif\" font-size=\"14.00\">app_session_6hourly_tmp_old</text>\n</g>\n<!-- app_session_6hourly&#45;&gt;app_session_6hourly_tmp_old -->\n<g id=\"edge23\" class=\"edge\">\n<title>app_session_6hourly&#45;&gt;app_session_6hourly_tmp_old</title>\n<path fill=\"none\" stroke=\"black\" d=\"M821.11,-605.97C819.79,-592.22 817.99,-572.38 816.79,-555 813.08,-501.36 810.28,-438.58 808.85,-403.43\"/>\n<polygon fill=\"black\" stroke=\"black\" points=\"812.33,-402.89 808.43,-393.04 805.34,-403.17 812.33,-402.89\"/>\n<text text-anchor=\"middle\" x=\"845.79\" y=\"-533.3\" font-family=\"Times,serif\" font-size=\"14.00\">RENAME</text>\n</g>\n<!-- app_session_hourly_tmp -->\n<g id=\"node20\" class=\"node\">\n<title>app_session_hourly_tmp</title>\n<ellipse fill=\"none\" stroke=\"black\" cx=\"982.79\" cy=\"-537\" rx=\"98.58\" ry=\"18\"/>\n<text text-anchor=\"middle\" x=\"982.79\" y=\"-533.3\" font-family=\"Times,serif\" font-size=\"14.00\">app_session_hourly_tmp</text>\n</g>\n<!-- app_session_6hourly&#45;&gt;app_session_hourly_tmp -->\n<g id=\"edge24\" class=\"edge\">\n<title>app_session_6hourly&#45;&gt;app_session_hourly_tmp</title>\n<path fill=\"none\" stroke=\"black\" d=\"M852.89,-607.01C878.42,-593.45 915.26,-573.88 943.19,-559.04\"/>\n<polygon fill=\"black\" stroke=\"black\" points=\"945.1,-561.99 952.29,-554.21 941.81,-555.81 945.1,-561.99\"/>\n<text text-anchor=\"middle\" x=\"937.79\" y=\"-576.8\" font-family=\"Times,serif\" font-size=\"14.00\">CREATE</text>\n</g>\n<!-- app_session_6hourly_tmp_old&#45;&gt;  -->\n<g id=\"edge25\" class=\"edge\">\n<title>app_session_6hourly_tmp_old&#45;&gt; </title>\n<path fill=\"none\" stroke=\"black\" d=\"M773.67,-357.7C742.68,-340.25 701.79,-309.38 701.79,-268 701.79,-268 701.79,-268 701.79,-104 701.79,-81.26 689.38,-58.42 677.89,-42.15\"/>\n<polygon fill=\"black\" stroke=\"black\" points=\"680.48,-39.76 671.69,-33.83 674.86,-43.94 680.48,-39.76\"/>\n<text text-anchor=\"middle\" x=\"720.29\" y=\"-209.3\" font-family=\"Times,serif\" font-size=\"14.00\">DROP</text>\n</g>\n<!-- app_session_hourly -->\n<g id=\"node21\" class=\"node\">\n<title>app_session_hourly</title>\n<ellipse fill=\"none\" stroke=\"black\" cx=\"982.79\" cy=\"-429\" rx=\"80.69\" ry=\"18\"/>\n<text text-anchor=\"middle\" x=\"982.79\" y=\"-425.3\" font-family=\"Times,serif\" font-size=\"14.00\">app_session_hourly</text>\n</g>\n<!-- app_session_hourly_tmp&#45;&gt;app_session_hourly -->\n<g id=\"edge26\" class=\"edge\">\n<title>app_session_hourly_tmp&#45;&gt;app_session_hourly</title>\n<path fill=\"none\" stroke=\"black\" d=\"M982.79,-518.97C982.79,-502.38 982.79,-476.88 982.79,-457.43\"/>\n<polygon fill=\"black\" stroke=\"black\" points=\"986.29,-457.34 982.79,-447.34 979.29,-457.34 986.29,-457.34\"/>\n<text text-anchor=\"middle\" x=\"1011.79\" y=\"-479.3\" font-family=\"Times,serif\" font-size=\"14.00\">RENAME</text>\n</g>\n<!-- app_session_hourly_tmp_old -->\n<g id=\"node22\" class=\"node\">\n<title>app_session_hourly_tmp_old</title>\n<ellipse fill=\"none\" stroke=\"black\" cx=\"834.79\" cy=\"-267\" rx=\"114.28\" ry=\"18\"/>\n<text text-anchor=\"middle\" x=\"834.79\" y=\"-263.3\" font-family=\"Times,serif\" font-size=\"14.00\">app_session_hourly_tmp_old</text>\n</g>\n<!-- app_session_hourly&#45;&gt;app_session_hourly_tmp_old -->\n<g id=\"edge27\" class=\"edge\">\n<title>app_session_hourly&#45;&gt;app_session_hourly_tmp_old</title>\n<path fill=\"none\" stroke=\"black\" d=\"M963.31,-411.22C957.6,-405.75 951.6,-399.42 946.79,-393 935.95,-378.52 939.08,-371.14 927.79,-357 920.12,-347.39 915.84,-347.32 906.79,-339 890.33,-323.86 872.42,-306.2 858.58,-292.29\"/>\n<polygon fill=\"black\" stroke=\"black\" points=\"860.87,-289.62 851.34,-284.98 855.89,-294.55 860.87,-289.62\"/>\n<text text-anchor=\"middle\" x=\"975.79\" y=\"-371.3\" font-family=\"Times,serif\" font-size=\"14.00\">RENAME</text>\n</g>\n<!-- app_aggregation_hourly_tmp -->\n<g id=\"node26\" class=\"node\">\n<title>app_aggregation_hourly_tmp</title>\n<ellipse fill=\"none\" stroke=\"black\" cx=\"1030.79\" cy=\"-321\" rx=\"115.08\" ry=\"18\"/>\n<text text-anchor=\"middle\" x=\"1030.79\" y=\"-317.3\" font-family=\"Times,serif\" font-size=\"14.00\">app_aggregation_hourly_tmp</text>\n</g>\n<!-- app_session_hourly&#45;&gt;app_aggregation_hourly_tmp -->\n<g id=\"edge28\" class=\"edge\">\n<title>app_session_hourly&#45;&gt;app_aggregation_hourly_tmp</title>\n<path fill=\"none\" stroke=\"black\" d=\"M997.25,-410.96C1001.39,-405.48 1005.64,-399.21 1008.79,-393 1015.82,-379.15 1021.1,-362.64 1024.73,-349.02\"/>\n<polygon fill=\"black\" stroke=\"black\" points=\"1028.13,-349.82 1027.18,-339.27 1021.34,-348.11 1028.13,-349.82\"/>\n<text text-anchor=\"middle\" x=\"1047.79\" y=\"-371.3\" font-family=\"Times,serif\" font-size=\"14.00\">CREATE</text>\n</g>\n<!-- app_session_hourly_tmp_old&#45;&gt;  -->\n<g id=\"edge29\" class=\"edge\">\n<title>app_session_hourly_tmp_old&#45;&gt; </title>\n<path fill=\"none\" stroke=\"black\" d=\"M828.6,-248.74C814.02,-210.02 774.3,-114.85 715.79,-54 708.25,-46.15 698.58,-39.36 689.36,-33.9\"/>\n<polygon fill=\"black\" stroke=\"black\" points=\"690.83,-30.71 680.39,-28.9 687.42,-36.82 690.83,-30.71\"/>\n<text text-anchor=\"middle\" x=\"815.29\" y=\"-155.3\" font-family=\"Times,serif\" font-size=\"14.00\">DROP</text>\n</g>\n<!-- app_aggregation_app_log -->\n<g id=\"node24\" class=\"node\">\n<title>app_aggregation_app_log</title>\n<ellipse fill=\"none\" stroke=\"black\" cx=\"1165.79\" cy=\"-624\" rx=\"102.08\" ry=\"18\"/>\n<text text-anchor=\"middle\" x=\"1165.79\" y=\"-620.3\" font-family=\"Times,serif\" font-size=\"14.00\">app_aggregation_app_log</text>\n</g>\n<!-- app_aggregation_app_log_tmp&#45;&gt;app_aggregation_app_log -->\n<g id=\"edge30\" class=\"edge\">\n<title>app_aggregation_app_log_tmp&#45;&gt;app_aggregation_app_log</title>\n<path fill=\"none\" stroke=\"black\" d=\"M1133.06,-713.97C1139.25,-697.12 1148.83,-671.1 1156.03,-651.54\"/>\n<polygon fill=\"black\" stroke=\"black\" points=\"1159.37,-652.58 1159.54,-641.99 1152.8,-650.16 1159.37,-652.58\"/>\n<text text-anchor=\"middle\" x=\"1180.79\" y=\"-674.3\" font-family=\"Times,serif\" font-size=\"14.00\">RENAME</text>\n</g>\n<!-- app_aggregation_app_log_tmp_old -->\n<g id=\"node25\" class=\"node\">\n<title>app_aggregation_app_log_tmp_old</title>\n<ellipse fill=\"none\" stroke=\"black\" cx=\"1173.79\" cy=\"-267\" rx=\"135.68\" ry=\"18\"/>\n<text text-anchor=\"middle\" x=\"1173.79\" y=\"-263.3\" font-family=\"Times,serif\" font-size=\"14.00\">app_aggregation_app_log_tmp_old</text>\n</g>\n<!-- app_aggregation_app_log&#45;&gt;app_aggregation_app_log_tmp_old -->\n<g id=\"edge31\" class=\"edge\">\n<title>app_aggregation_app_log&#45;&gt;app_aggregation_app_log_tmp_old</title>\n<path fill=\"none\" stroke=\"black\" d=\"M1168.37,-605.79C1170.71,-588.65 1173.79,-561.57 1173.79,-538 1173.79,-538 1173.79,-538 1173.79,-374 1173.79,-347.24 1173.79,-316.67 1173.79,-295.26\"/>\n<polygon fill=\"black\" stroke=\"black\" points=\"1177.29,-295.26 1173.79,-285.26 1170.29,-295.26 1177.29,-295.26\"/>\n<text text-anchor=\"middle\" x=\"1202.79\" y=\"-479.3\" font-family=\"Times,serif\" font-size=\"14.00\">RENAME</text>\n</g>\n<!-- app_aggregation_app_log_tmp_old&#45;&gt;  -->\n<g id=\"edge32\" class=\"edge\">\n<title>app_aggregation_app_log_tmp_old&#45;&gt; </title>\n<path fill=\"none\" stroke=\"black\" d=\"M1170.58,-248.86C1162.81,-212.51 1139.37,-127.67 1083.79,-87 1022.16,-41.9 787.99,-25.47 696.11,-20.68\"/>\n<polygon fill=\"black\" stroke=\"black\" points=\"696.05,-17.17 685.88,-20.16 695.7,-24.16 696.05,-17.17\"/>\n<text text-anchor=\"middle\" x=\"1165.29\" y=\"-155.3\" font-family=\"Times,serif\" font-size=\"14.00\">DROP</text>\n</g>\n<!-- app_aggregation_hourly -->\n<g id=\"node27\" class=\"node\">\n<title>app_aggregation_hourly</title>\n<ellipse fill=\"none\" stroke=\"black\" cx=\"966.79\" cy=\"-213\" rx=\"96.68\" ry=\"18\"/>\n<text text-anchor=\"middle\" x=\"966.79\" y=\"-209.3\" font-family=\"Times,serif\" font-size=\"14.00\">app_aggregation_hourly</text>\n</g>\n<!-- app_aggregation_hourly_tmp&#45;&gt;app_aggregation_hourly -->\n<g id=\"edge33\" class=\"edge\">\n<title>app_aggregation_hourly_tmp&#45;&gt;app_aggregation_hourly</title>\n<path fill=\"none\" stroke=\"black\" d=\"M990.61,-304.01C982.81,-299.08 975.58,-292.82 970.79,-285 962.88,-272.08 961.63,-255.23 962.48,-241.19\"/>\n<polygon fill=\"black\" stroke=\"black\" points=\"965.98,-241.4 963.46,-231.11 959.01,-240.72 965.98,-241.4\"/>\n<text text-anchor=\"middle\" x=\"999.79\" y=\"-263.3\" font-family=\"Times,serif\" font-size=\"14.00\">RENAME</text>\n</g>\n<!-- app_aggregation_hourly_tmp_old -->\n<g id=\"node28\" class=\"node\">\n<title>app_aggregation_hourly_tmp_old</title>\n<ellipse fill=\"none\" stroke=\"black\" cx=\"943.79\" cy=\"-105\" rx=\"130.78\" ry=\"18\"/>\n<text text-anchor=\"middle\" x=\"943.79\" y=\"-101.3\" font-family=\"Times,serif\" font-size=\"14.00\">app_aggregation_hourly_tmp_old</text>\n</g>\n<!-- app_aggregation_hourly&#45;&gt;app_aggregation_hourly_tmp_old -->\n<g id=\"edge34\" class=\"edge\">\n<title>app_aggregation_hourly&#45;&gt;app_aggregation_hourly_tmp_old</title>\n<path fill=\"none\" stroke=\"black\" d=\"M963.1,-194.97C959.48,-178.3 953.91,-152.65 949.68,-133.16\"/>\n<polygon fill=\"black\" stroke=\"black\" points=\"953.09,-132.37 947.55,-123.34 946.25,-133.86 953.09,-132.37\"/>\n<text text-anchor=\"middle\" x=\"986.79\" y=\"-155.3\" font-family=\"Times,serif\" font-size=\"14.00\">RENAME</text>\n</g>\n<!-- app_aggregation_hourly_tmp_old&#45;&gt;  -->\n<g id=\"edge35\" class=\"edge\">\n<title>app_aggregation_hourly_tmp_old&#45;&gt; </title>\n<path fill=\"none\" stroke=\"black\" d=\"M895.85,-88.16C864.84,-78.06 823.55,-64.87 786.79,-54 755.2,-44.65 718.95,-34.83 693.12,-27.97\"/>\n<polygon fill=\"black\" stroke=\"black\" points=\"693.98,-24.58 683.42,-25.41 692.19,-31.35 693.98,-24.58\"/>\n<text text-anchor=\"middle\" x=\"852.29\" y=\"-57.8\" font-family=\"Times,serif\" font-size=\"14.00\">DROP</text>\n</g>\n<!-- phone_aggregation_app_log -->\n<g id=\"node30\" class=\"node\">\n<title>phone_aggregation_app_log</title>\n<ellipse fill=\"none\" stroke=\"black\" cx=\"486.79\" cy=\"-213\" rx=\"110.48\" ry=\"18\"/>\n<text text-anchor=\"middle\" x=\"486.79\" y=\"-209.3\" font-family=\"Times,serif\" font-size=\"14.00\">phone_aggregation_app_log</text>\n</g>\n<!-- phone_aggregation_app_log_tmp&#45;&gt;phone_aggregation_app_log -->\n<g id=\"edge36\" class=\"edge\">\n<title>phone_aggregation_app_log_tmp&#45;&gt;phone_aggregation_app_log</title>\n<path fill=\"none\" stroke=\"black\" d=\"M486.79,-302.97C486.79,-286.38 486.79,-260.88 486.79,-241.43\"/>\n<polygon fill=\"black\" stroke=\"black\" points=\"490.29,-241.34 486.79,-231.34 483.29,-241.34 490.29,-241.34\"/>\n<text text-anchor=\"middle\" x=\"515.79\" y=\"-263.3\" font-family=\"Times,serif\" font-size=\"14.00\">RENAME</text>\n</g>\n<!-- phone_aggregation_app_log_tmp_old -->\n<g id=\"node31\" class=\"node\">\n<title>phone_aggregation_app_log_tmp_old</title>\n<ellipse fill=\"none\" stroke=\"black\" cx=\"485.79\" cy=\"-105\" rx=\"144.87\" ry=\"18\"/>\n<text text-anchor=\"middle\" x=\"485.79\" y=\"-101.3\" font-family=\"Times,serif\" font-size=\"14.00\">phone_aggregation_app_log_tmp_old</text>\n</g>\n<!-- phone_aggregation_app_log&#45;&gt;phone_aggregation_app_log_tmp_old -->\n<g id=\"edge37\" class=\"edge\">\n<title>phone_aggregation_app_log&#45;&gt;phone_aggregation_app_log_tmp_old</title>\n<path fill=\"none\" stroke=\"black\" d=\"M486.63,-194.97C486.47,-178.38 486.23,-152.88 486.05,-133.43\"/>\n<polygon fill=\"black\" stroke=\"black\" points=\"489.55,-133.31 485.95,-123.34 482.55,-133.37 489.55,-133.31\"/>\n<text text-anchor=\"middle\" x=\"515.79\" y=\"-155.3\" font-family=\"Times,serif\" font-size=\"14.00\">RENAME</text>\n</g>\n<!-- phone_aggregation_app_log_tmp_old&#45;&gt;  -->\n<g id=\"edge38\" class=\"edge\">\n<title>phone_aggregation_app_log_tmp_old&#45;&gt; </title>\n<path fill=\"none\" stroke=\"black\" d=\"M519.56,-87.41C551.15,-71.89 597.9,-48.92 628.36,-33.95\"/>\n<polygon fill=\"black\" stroke=\"black\" points=\"630.21,-36.94 637.64,-29.39 627.12,-30.66 630.21,-36.94\"/>\n<text text-anchor=\"middle\" x=\"601.29\" y=\"-57.8\" font-family=\"Times,serif\" font-size=\"14.00\">DROP</text>\n</g>\n</g>\n</svg>\n"
          },
          "metadata": {}
        }
      ]
    }
  ]
}