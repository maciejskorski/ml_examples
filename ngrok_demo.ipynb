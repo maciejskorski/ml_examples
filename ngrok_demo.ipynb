{
  "nbformat": 4,
  "nbformat_minor": 0,
  "metadata": {
    "colab": {
      "provenance": [],
      "name": "ngrok-demo.ipynb",
      "authorship_tag": "ABX9TyOkh7RS1br3aSrsI95rKYEa",
      "include_colab_link": true
    },
    "kernelspec": {
      "name": "python3",
      "display_name": "Python 3"
    },
    "language_info": {
      "name": "python"
    }
  },
  "cells": [
    {
      "cell_type": "markdown",
      "metadata": {
        "id": "view-in-github",
        "colab_type": "text"
      },
      "source": [
        "<a href=\"https://colab.research.google.com/github/maciejskorski/ml_examples/blob/master/ngrok_demo.ipynb\" target=\"_parent\"><img src=\"https://colab.research.google.com/assets/colab-badge.svg\" alt=\"Open In Colab\"/></a>"
      ]
    },
    {
      "cell_type": "markdown",
      "source": [
        "# Summary\n",
        "\n",
        "This notebook demonstrates how to securely expose a service from a Virtual Machine, using `ngrok` and `OAuth 2.0`."
      ],
      "metadata": {
        "id": "sQhieIXP2miX"
      }
    },
    {
      "cell_type": "code",
      "execution_count": null,
      "metadata": {
        "id": "484iJiJsDb9W",
        "colab": {
          "base_uri": "https://localhost:8080/"
        },
        "outputId": "6735c917-1b6c-4ba4-fab7-35783084955e"
      },
      "outputs": [
        {
          "output_type": "stream",
          "name": "stdout",
          "text": [
            "\u001b[?25l     \u001b[90m━━━━━━━━━━━━━━━━━━━━━━━━━━━━━━━━━━━━━━━━\u001b[0m \u001b[32m0.0/681.2 kB\u001b[0m \u001b[31m?\u001b[0m eta \u001b[36m-:--:--\u001b[0m\r\u001b[2K     \u001b[91m━━━━━━━━━━━━━━━━━\u001b[0m\u001b[91m╸\u001b[0m\u001b[90m━━━━━━━━━━━━━━━━━━━━\u001b[0m \u001b[32m317.4/681.2 kB\u001b[0m \u001b[31m11.5 MB/s\u001b[0m eta \u001b[36m0:00:01\u001b[0m\r\u001b[2K     \u001b[90m━━━━━━━━━━━━━━━━━━━━━━━━━━━━━━━━━━━━━━\u001b[0m \u001b[32m681.2/681.2 kB\u001b[0m \u001b[31m10.0 MB/s\u001b[0m eta \u001b[36m0:00:00\u001b[0m\n",
            "\u001b[?25h  Preparing metadata (setup.py) ... \u001b[?25l\u001b[?25hdone\n",
            "  Building wheel for pyngrok (setup.py) ... \u001b[?25l\u001b[?25hdone\n"
          ]
        }
      ],
      "source": [
        "!pip install pyngrok --quiet"
      ]
    },
    {
      "cell_type": "code",
      "source": [
        "import _thread as thread\n",
        "import http.server\n",
        "import socketserver\n",
        "\n",
        "Handler = http.server.SimpleHTTPRequestHandler\n",
        "\n",
        "def start_server():\n",
        "    # Setup stuff here...\n",
        "    with socketserver.TCPServer((\"\", 5000), Handler) as httpd:\n",
        "      httpd.serve_forever()\n",
        "    \n",
        "# start the server in a background thread\n",
        "thread.start_new_thread(start_server, ())"
      ],
      "metadata": {
        "colab": {
          "base_uri": "https://localhost:8080/"
        },
        "id": "0Wf0_2QXIRXp",
        "outputId": "aec8c950-5b55-4879-d50f-64f3b38d1d3a"
      },
      "execution_count": 1,
      "outputs": [
        {
          "output_type": "execute_result",
          "data": {
            "text/plain": [
              "140650313938688"
            ]
          },
          "metadata": {},
          "execution_count": 1
        }
      ]
    },
    {
      "cell_type": "code",
      "source": [
        "from pyngrok import ngrok\n",
        "\n",
        "# Terminate open tunnels if exist\n",
        "ngrok.kill()\n",
        "\n",
        "# Setting the authtoken (optional)\n",
        "NGROK_AUTH_TOKEN = \"<Get your authtoken from https://dashboard.ngrok.com/auth>\"\n",
        "ngrok.set_auth_token(NGROK_AUTH_TOKEN)\n",
        "\n",
        "# Open an HTTPs tunnel on port 5000 for http://localhost:5000\n",
        "public_url = ngrok.connect(5000).public_url\n",
        "print(\"Tracking URL:\", public_url)"
      ],
      "metadata": {
        "id": "DWxYQ-2nHVw9"
      },
      "execution_count": null,
      "outputs": []
    },
    {
      "cell_type": "code",
      "source": [
        "# with OAuth 2.0 authorization:\n",
        "\n",
        "!ngrok http 5000 --oauth=google --log=stdout --log-level=info"
      ],
      "metadata": {
        "colab": {
          "base_uri": "https://localhost:8080/"
        },
        "id": "q5KpwbI_4lMg",
        "outputId": "7cc95b38-c759-4ddb-c4ed-8518ee0c529e"
      },
      "execution_count": null,
      "outputs": [
        {
          "output_type": "stream",
          "name": "stdout",
          "text": [
            "\u001b[32mINFO\u001b[0m[05-30|09:06:27] no configuration paths supplied \n",
            "\u001b[33mWARN\u001b[0m[05-30|09:06:27] ngrok config file found at legacy location, move to XDG location \u001b[33mxdg_path\u001b[0m=/root/.config/ngrok/ngrok.yml \u001b[33mlegacy_path\u001b[0m=/root/.ngrok2/ngrok.yml\n",
            "\u001b[32mINFO\u001b[0m[05-30|09:06:27] using configuration at default config path \u001b[32mpath\u001b[0m=/root/.ngrok2/ngrok.yml\n",
            "\u001b[32mINFO\u001b[0m[05-30|09:06:27] open config file                         \u001b[32mpath\u001b[0m=/root/.ngrok2/ngrok.yml \u001b[32merr\u001b[0m=nil\n",
            "t=2023-05-30T09:06:27+0000 lvl=info msg=\"starting web service\" obj=web addr=127.0.0.1:4040 allow_hosts=[]\n",
            "t=2023-05-30T09:06:27+0000 lvl=info msg=\"client session established\" obj=tunnels.session obj=csess id=e091fe4f2de3\n",
            "t=2023-05-30T09:06:27+0000 lvl=info msg=\"tunnel session started\" obj=tunnels.session\n",
            "t=2023-05-30T09:06:27+0000 lvl=info msg=\"started tunnel\" obj=tunnels name=command_line addr=http://localhost:5000 url=https://8e00-35-197-38-167.ngrok-free.app\n"
          ]
        }
      ]
    },
    {
      "cell_type": "code",
      "source": [],
      "metadata": {
        "id": "FyKOy9Rr6JzO"
      },
      "execution_count": null,
      "outputs": []
    }
  ]
}