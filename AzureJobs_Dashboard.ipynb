{
 "cells": [
  {
   "cell_type": "markdown",
   "metadata": {},
   "source": [
    "# Azure Job Dashboard\n",
    "\n",
    "This notebook shows how to build a dashboard of Azure jobs and manage them (for instance, inspect or kill).\n",
    "\n",
    "Recall that Azure uses the `Experiment` class in reference to a computation task, and the `Run` class in reference to one of (possibly many) executions."
   ]
  },
  {
   "cell_type": "markdown",
   "metadata": {},
   "source": [
    "## Preliminaries\n",
    "\n",
    "The code below picks up the default workspace (can be changed) and spans artificial jobs for the sake of demonstration (can be skipped)."
   ]
  },
  {
   "cell_type": "code",
   "execution_count": 1,
   "metadata": {},
   "outputs": [],
   "source": [
    "from azureml.core import Workspace, Experiment, Run\n",
    "ws = Workspace.from_config()"
   ]
  },
  {
   "cell_type": "code",
   "execution_count": 2,
   "metadata": {},
   "outputs": [],
   "source": [
    "exp1 = Experiment(ws,name='mskorski_test_job_1')\n",
    "exp2 = Experiment(ws,name='mskorski_test_job_2')\n",
    "r11 = exp1.start_logging(snapshot_directory=None)\n",
    "r12 = exp1.start_logging(snapshot_directory=None)\n",
    "r21 = exp2.start_logging(snapshot_directory=None)\n",
    "r22 = exp2.start_logging(snapshot_directory=None)\n",
    "r23 = exp2.start_logging(snapshot_directory=None)\n",
    "r23.cancel()"
   ]
  },
  {
   "cell_type": "markdown",
   "metadata": {},
   "source": [
    "## Utilities\n",
    "\n",
    "The core contribution is a generator returning all jobs with their properties. Records are stored as `namedtuples` which makes postprocessing handy."
   ]
  },
  {
   "cell_type": "code",
   "execution_count": 3,
   "metadata": {},
   "outputs": [],
   "source": [
    "from collections import namedtuple\n",
    "\n",
    "def get_runs_summary(ws):\n",
    "    \"\"\"Summarise all runs under a given workspace, with experiment name, run id and run status\n",
    "    Args:\n",
    "        ws (azureml.core.Workspace): Azure workspace to look into\n",
    "    \"\"\"\n",
    "    # NOTE: extend the scope of run details if needed\n",
    "    record = namedtuple('Run_Description',['job_name','run_id','run_status'])\n",
    "    for exp_name,exp_obj in ws.experiments.items():\n",
    "        for run_obj in exp_obj.get_runs():\n",
    "            yield(record(exp_name,run_obj.id,run_obj.status))"
   ]
  },
  {
   "cell_type": "markdown",
   "metadata": {},
   "source": [
    "## Examples"
   ]
  },
  {
   "cell_type": "markdown",
   "metadata": {},
   "source": [
    "### Build Dashboard and Inspect Runs\n",
    "\n",
    "Let's display the jobs in a detailed table:"
   ]
  },
  {
   "cell_type": "code",
   "execution_count": 4,
   "metadata": {},
   "outputs": [
    {
     "data": {
      "text/html": [
       "<div>\n",
       "<style scoped>\n",
       "    .dataframe tbody tr th:only-of-type {\n",
       "        vertical-align: middle;\n",
       "    }\n",
       "\n",
       "    .dataframe tbody tr th {\n",
       "        vertical-align: top;\n",
       "    }\n",
       "\n",
       "    .dataframe thead th {\n",
       "        text-align: right;\n",
       "    }\n",
       "</style>\n",
       "<table border=\"1\" class=\"dataframe\">\n",
       "  <thead>\n",
       "    <tr style=\"text-align: right;\">\n",
       "      <th></th>\n",
       "      <th>job_name</th>\n",
       "      <th>run_id</th>\n",
       "      <th>run_status</th>\n",
       "    </tr>\n",
       "  </thead>\n",
       "  <tbody>\n",
       "    <tr>\n",
       "      <th>0</th>\n",
       "      <td>mskorski_test_job_1</td>\n",
       "      <td>51a97b96-66a4-4e55-bfbb-996cd654e244</td>\n",
       "      <td>Running</td>\n",
       "    </tr>\n",
       "    <tr>\n",
       "      <th>1</th>\n",
       "      <td>mskorski_test_job_1</td>\n",
       "      <td>21f6f6cc-6312-4918-ba3b-65cd17c847a6</td>\n",
       "      <td>Running</td>\n",
       "    </tr>\n",
       "    <tr>\n",
       "      <th>2</th>\n",
       "      <td>mskorski_test_job_2</td>\n",
       "      <td>362dff70-95ee-4b2f-ac13-dcb343f6bea6</td>\n",
       "      <td>Canceled</td>\n",
       "    </tr>\n",
       "    <tr>\n",
       "      <th>3</th>\n",
       "      <td>mskorski_test_job_2</td>\n",
       "      <td>ad972397-2d65-4203-b834-4ff7cbbbadb6</td>\n",
       "      <td>Running</td>\n",
       "    </tr>\n",
       "    <tr>\n",
       "      <th>4</th>\n",
       "      <td>mskorski_test_job_2</td>\n",
       "      <td>c272ca00-479c-431e-8fe3-a41be9a0c8c9</td>\n",
       "      <td>Running</td>\n",
       "    </tr>\n",
       "  </tbody>\n",
       "</table>\n",
       "</div>"
      ],
      "text/plain": [
       "              job_name                                run_id run_status\n",
       "0  mskorski_test_job_1  51a97b96-66a4-4e55-bfbb-996cd654e244    Running\n",
       "1  mskorski_test_job_1  21f6f6cc-6312-4918-ba3b-65cd17c847a6    Running\n",
       "2  mskorski_test_job_2  362dff70-95ee-4b2f-ac13-dcb343f6bea6   Canceled\n",
       "3  mskorski_test_job_2  ad972397-2d65-4203-b834-4ff7cbbbadb6    Running\n",
       "4  mskorski_test_job_2  c272ca00-479c-431e-8fe3-a41be9a0c8c9    Running"
      ]
     },
     "execution_count": 4,
     "metadata": {},
     "output_type": "execute_result"
    }
   ],
   "source": [
    "import pandas as pd\n",
    "runs = get_runs_summary(ws)\n",
    "runs = filter(lambda t: 'mskorski_test_job' in t.job_name, runs)\n",
    "summary_df = pd.DataFrame(runs)\n",
    "summary_df"
   ]
  },
  {
   "cell_type": "markdown",
   "metadata": {},
   "source": [
    "Now, let's take an aggregated perspective:"
   ]
  },
  {
   "cell_type": "code",
   "execution_count": 5,
   "metadata": {},
   "outputs": [
    {
     "data": {
      "text/html": [
       "<div>\n",
       "<style scoped>\n",
       "    .dataframe tbody tr th:only-of-type {\n",
       "        vertical-align: middle;\n",
       "    }\n",
       "\n",
       "    .dataframe tbody tr th {\n",
       "        vertical-align: top;\n",
       "    }\n",
       "\n",
       "    .dataframe thead th {\n",
       "        text-align: right;\n",
       "    }\n",
       "</style>\n",
       "<table border=\"1\" class=\"dataframe\">\n",
       "  <thead>\n",
       "    <tr style=\"text-align: right;\">\n",
       "      <th>run_status</th>\n",
       "      <th>Canceled</th>\n",
       "      <th>Running</th>\n",
       "    </tr>\n",
       "    <tr>\n",
       "      <th>job_name</th>\n",
       "      <th></th>\n",
       "      <th></th>\n",
       "    </tr>\n",
       "  </thead>\n",
       "  <tbody>\n",
       "    <tr>\n",
       "      <th>mskorski_test_job_1</th>\n",
       "      <td>NaN</td>\n",
       "      <td>2.0</td>\n",
       "    </tr>\n",
       "    <tr>\n",
       "      <th>mskorski_test_job_2</th>\n",
       "      <td>1.0</td>\n",
       "      <td>2.0</td>\n",
       "    </tr>\n",
       "  </tbody>\n",
       "</table>\n",
       "</div>"
      ],
      "text/plain": [
       "run_status           Canceled  Running\n",
       "job_name                              \n",
       "mskorski_test_job_1       NaN      2.0\n",
       "mskorski_test_job_2       1.0      2.0"
      ]
     },
     "execution_count": 5,
     "metadata": {},
     "output_type": "execute_result"
    }
   ],
   "source": [
    "summary_df.groupby(['job_name','run_status']).size().unstack('run_status')"
   ]
  },
  {
   "cell_type": "markdown",
   "metadata": {},
   "source": [
    "### Kill Jobs\n",
    "\n",
    "Let's use the dashboard to kill running jobs with matching names."
   ]
  },
  {
   "cell_type": "code",
   "execution_count": 6,
   "metadata": {},
   "outputs": [],
   "source": [
    "jobs_to_kill = summary_df['job_name'].str.contains('mskorski_test_job') & (summary_df['run_status']=='Running')\n",
    "for run_id in summary_df.loc[jobs_to_kill,'run_id']:\n",
    "    run = ws.get_run(run_id)\n",
    "    run.cancel()"
   ]
  },
  {
   "cell_type": "code",
   "execution_count": 7,
   "metadata": {},
   "outputs": [
    {
     "data": {
      "text/html": [
       "<div>\n",
       "<style scoped>\n",
       "    .dataframe tbody tr th:only-of-type {\n",
       "        vertical-align: middle;\n",
       "    }\n",
       "\n",
       "    .dataframe tbody tr th {\n",
       "        vertical-align: top;\n",
       "    }\n",
       "\n",
       "    .dataframe thead th {\n",
       "        text-align: right;\n",
       "    }\n",
       "</style>\n",
       "<table border=\"1\" class=\"dataframe\">\n",
       "  <thead>\n",
       "    <tr style=\"text-align: right;\">\n",
       "      <th>run_status</th>\n",
       "      <th>Canceled</th>\n",
       "    </tr>\n",
       "    <tr>\n",
       "      <th>job_name</th>\n",
       "      <th></th>\n",
       "    </tr>\n",
       "  </thead>\n",
       "  <tbody>\n",
       "    <tr>\n",
       "      <th>mskorski_test_job_1</th>\n",
       "      <td>2</td>\n",
       "    </tr>\n",
       "    <tr>\n",
       "      <th>mskorski_test_job_2</th>\n",
       "      <td>3</td>\n",
       "    </tr>\n",
       "  </tbody>\n",
       "</table>\n",
       "</div>"
      ],
      "text/plain": [
       "run_status           Canceled\n",
       "job_name                     \n",
       "mskorski_test_job_1         2\n",
       "mskorski_test_job_2         3"
      ]
     },
     "execution_count": 7,
     "metadata": {},
     "output_type": "execute_result"
    }
   ],
   "source": [
    "runs = get_runs_summary(ws)\n",
    "runs = filter(lambda t: 'mskorski_test_job' in t.job_name, runs)\n",
    "summary_df = pd.DataFrame(runs)\n",
    "summary_df.groupby(['job_name','run_status']).size().unstack('run_status')"
   ]
  }
 ],
 "metadata": {
  "kernelspec": {
   "display_name": "python39_bayer",
   "language": "python",
   "name": "python39_bayer"
  },
  "language_info": {
   "codemirror_mode": {
    "name": "ipython",
    "version": 3
   },
   "file_extension": ".py",
   "mimetype": "text/x-python",
   "name": "python",
   "nbconvert_exporter": "python",
   "pygments_lexer": "ipython3",
   "version": "3.9.13"
  },
  "orig_nbformat": 4,
  "vscode": {
   "interpreter": {
    "hash": "2278914d1c6c00dcc5ae220cb827f0db00a3533b208d699f211d9816ee3dd817"
   }
  }
 },
 "nbformat": 4,
 "nbformat_minor": 2
}
