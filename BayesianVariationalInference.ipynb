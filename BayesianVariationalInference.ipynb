{
  "nbformat": 4,
  "nbformat_minor": 0,
  "metadata": {
    "colab": {
      "name": "BayesianVariationalInference.ipynb",
      "provenance": [],
      "collapsed_sections": [],
      "authorship_tag": "ABX9TyNJC8SSZFA7wKOt78GsjQHG",
      "include_colab_link": true
    },
    "kernelspec": {
      "display_name": "Python 3",
      "name": "python3"
    },
    "language_info": {
      "name": "python"
    }
  },
  "cells": [
    {
      "cell_type": "markdown",
      "metadata": {
        "id": "view-in-github",
        "colab_type": "text"
      },
      "source": [
        "<a href=\"https://colab.research.google.com/github/maciejskorski/ml_examples/blob/master/BayesianVariationalInference.ipynb\" target=\"_parent\"><img src=\"https://colab.research.google.com/assets/colab-badge.svg\" alt=\"Open In Colab\"/></a>"
      ]
    },
    {
      "cell_type": "markdown",
      "metadata": {
        "id": "zHjF4tl_jmP_"
      },
      "source": [
        "## Variational Inference: Background\n",
        "\n",
        "**Goal**: Approximate the posterior distribution $p(w|x)$ of weights $w$ given data $x$ by a *trackatable surogate* $q(w)$.\n",
        "\n",
        "**Solution**:\n",
        "Sampling from posterior (hard) is replaced by minimizing (easier) the divergence  \n",
        "$$\n",
        "\\min_{q}\\mathrm{KL}(q(w) \\parallel p(w|x)),\n",
        "$$\n",
        "which with some basic algebra decomposes:\n",
        "$$\n",
        "\\mathrm{KL}(q(w) \\parallel p(w|x)) = -\\mathbf{E}_{w\\sim q}\\log p(x|w) + \\mathrm{KL}(q(w) \\parallel p(w)) + \\log p(x),\n",
        "$$\n",
        "so that ignoring terms independent of $w$ we are left with the task of optimizing \n",
        "$$\n",
        "\\min_q \\left[-\\mathbf{E}_{w\\sim q}\\log p(x|w) + \\mathrm{KL}(q(w) \\parallel p(w))\\right],\n",
        "$$\n",
        "the sum of *expected negative loglikelihood* and *posterior/prior divergence*. \n",
        "\n",
        "**Interpretation**: \n",
        "\n",
        "The first term rewards for the fit while the second term penalizes for deviating from the prior.\n",
        "\n",
        "**Implementation**: \n",
        "\n",
        "Theoretical surveys speak of ELBO, the undecomposed form [2] and don't discuss batch training. Practical implementations, like Tensorflow [1], take advantage of the decomposition and use batches:\n",
        "\n",
        "\n",
        "*   the loglikelihood is approximated by stochastic forward pass: network weights are sampled and the loss is computed as usual\n",
        "*   the KL terms, assuming gaussian surrogate, are handled analytically and passed trough internal losses of layers (as with regularizers)\n",
        "*   for batch training, the first term is subsampled so the second requires correct scaling\n"
      ]
    },
    {
      "cell_type": "code",
      "metadata": {
        "id": "SrJgB864rS50"
      },
      "source": [
        "import numpy as np\n",
        "import tensorflow as tf\n",
        "import tensorflow.compat.v1 as tf1\n",
        "import tensorflow_probability as tfp\n",
        "import tensorflow_datasets as tfds"
      ],
      "execution_count": 1,
      "outputs": []
    },
    {
      "cell_type": "code",
      "metadata": {
        "id": "vh9xVs_wAuLD"
      },
      "source": [
        "## dataset and general setup\n",
        "\n",
        "from sklearn.datasets import load_wine\n",
        "X,y = load_wine(return_X_y=True)\n",
        "X = (X-X.mean(0))/X.std(0)\n",
        "\n",
        "N_SAMPLES = X.shape[0]\n",
        "N_BATCH = 32"
      ],
      "execution_count": 2,
      "outputs": []
    },
    {
      "cell_type": "markdown",
      "metadata": {
        "id": "Iwj8H9xZ6GHp"
      },
      "source": [
        "## Logistic Regression via ML"
      ]
    },
    {
      "cell_type": "code",
      "metadata": {
        "colab": {
          "base_uri": "https://localhost:8080/"
        },
        "id": "AS48XayyEkyt",
        "outputId": "4f71a33c-c2eb-47b6-abcf-64f96f601e85"
      },
      "source": [
        "### build model: logistic regression via Maximum Likelihood ###\n",
        "\n",
        "tf.random.set_seed(1234)\n",
        "\n",
        "ds = tf.data.Dataset.from_tensor_slices((X,y))\n",
        "ds = ds.shuffle(N_SAMPLES).batch(N_BATCH).prefetch(1)\n",
        "\n",
        "raw_inputs = tf.keras.Input(shape=(13,))\n",
        "features = raw_inputs\n",
        "logits = tf.keras.layers.Dense(3)(features)\n",
        "\n",
        "model = tf.keras.Model(raw_inputs,logits)\n",
        "\n",
        "def neg_loglike(y_true,y_pred):\n",
        "  return tf.keras.losses.sparse_categorical_crossentropy(y_true,y_pred,from_logits=True)\n",
        "\n",
        "model.compile(optimizer=tf.optimizers.Adam(0.01),loss=neg_loglike,metrics='accuracy')\n",
        "\n",
        "model.fit(ds,epochs=10)"
      ],
      "execution_count": 4,
      "outputs": [
        {
          "output_type": "stream",
          "name": "stdout",
          "text": [
            "Epoch 1/10\n",
            "6/6 [==============================] - 0s 2ms/step - loss: 1.1010 - accuracy: 0.4607\n",
            "Epoch 2/10\n",
            "6/6 [==============================] - 0s 2ms/step - loss: 0.7375 - accuracy: 0.7191\n",
            "Epoch 3/10\n",
            "6/6 [==============================] - 0s 2ms/step - loss: 0.5061 - accuracy: 0.8652\n",
            "Epoch 4/10\n",
            "6/6 [==============================] - 0s 2ms/step - loss: 0.3660 - accuracy: 0.9270\n",
            "Epoch 5/10\n",
            "6/6 [==============================] - 0s 2ms/step - loss: 0.2885 - accuracy: 0.9607\n",
            "Epoch 6/10\n",
            "6/6 [==============================] - 0s 2ms/step - loss: 0.2377 - accuracy: 0.9607\n",
            "Epoch 7/10\n",
            "6/6 [==============================] - 0s 2ms/step - loss: 0.2041 - accuracy: 0.9719\n",
            "Epoch 8/10\n",
            "6/6 [==============================] - 0s 2ms/step - loss: 0.1802 - accuracy: 0.9775\n",
            "Epoch 9/10\n",
            "6/6 [==============================] - 0s 3ms/step - loss: 0.1634 - accuracy: 0.9831\n",
            "Epoch 10/10\n",
            "6/6 [==============================] - 0s 2ms/step - loss: 0.1490 - accuracy: 0.9831\n"
          ]
        },
        {
          "output_type": "execute_result",
          "data": {
            "text/plain": [
              "<keras.callbacks.History at 0x7f08c004d490>"
            ]
          },
          "metadata": {},
          "execution_count": 4
        }
      ]
    },
    {
      "cell_type": "markdown",
      "metadata": {
        "id": "qrt7vIIo6B7N"
      },
      "source": [
        "## Logistic Regression via VI Sampling\n",
        "\n"
      ]
    },
    {
      "cell_type": "code",
      "metadata": {
        "colab": {
          "base_uri": "https://localhost:8080/"
        },
        "id": "RljDz8eRxQnF",
        "outputId": "d24aa1fc-38ea-4f72-f797-d6b2e4c8aab6"
      },
      "source": [
        "### build model: logistic regression via VI ###\n",
        "\n",
        "tf.random.set_seed(1234)\n",
        "\n",
        "ds = tf.data.Dataset.from_tensor_slices((X,y))\n",
        "ds = ds.shuffle(N_SAMPLES).repeat(10).batch(N_BATCH).prefetch(1)\n",
        "\n",
        "raw_inputs = tf.keras.Input(shape=(13,))\n",
        "features = raw_inputs\n",
        "logits = tfp.layers.DenseReparameterization(units=3)(features)\n",
        "model = tf.keras.Model(raw_inputs,logits)\n",
        "\n",
        "def vi_loss(N_SAMPLES):\n",
        "  \n",
        "  def loss(y_true,y_pred):\n",
        "    #  y_true is the class label tensor, shape = (N_BATCH,). \n",
        "    #  y_pred is the logits tensor, shape = (N_BATCH,N_CLASSES)\n",
        "    neg_loglike = tf.keras.losses.sparse_categorical_crossentropy(y_true,y_pred,from_logits=True) # shape: (N_BATCH,)\n",
        "    KL = sum(model.losses) # shape: (,)\n",
        "    return tf.reduce_mean(neg_loglike) + 1/N_SAMPLES * KL\n",
        "  \n",
        "  return loss\n",
        "\n",
        "optimizer = tf.optimizers.Adam(0.01)\n",
        "loss_fn = vi_loss(N_SAMPLES)\n",
        "\n",
        "@tf.function\n",
        "def train_step(x,y):\n",
        "  with tf.GradientTape() as tape: \n",
        "    loss_value = loss_fn(y,model(x, training=True))\n",
        "  grads = tape.gradient(loss_value, model.trainable_weights)\n",
        "  optimizer.apply_gradients(zip(grads, model.trainable_weights))\n",
        "  return loss_value\n",
        "\n",
        "for x_b,y_b in ds:\n",
        "  train_step(x_b,y_b)\n",
        "\n",
        "accs = [(model(X).numpy().argmax(-1)==y).mean() for _ in range(200)]\n",
        "accs = np.array(accs)\n",
        "print('Accuracy=%s \\u00B1 %s'%(accs.mean(),accs.std()))"
      ],
      "execution_count": 9,
      "outputs": [
        {
          "output_type": "stream",
          "name": "stderr",
          "text": [
            "/usr/local/lib/python3.7/dist-packages/tensorflow_probability/python/layers/util.py:102: UserWarning: `layer.add_variable` is deprecated and will be removed in a future version. Please use `layer.add_weight` method instead.\n",
            "  trainable=trainable)\n",
            "/usr/local/lib/python3.7/dist-packages/tensorflow_probability/python/layers/util.py:112: UserWarning: `layer.add_variable` is deprecated and will be removed in a future version. Please use `layer.add_weight` method instead.\n",
            "  trainable=trainable)\n"
          ]
        },
        {
          "output_type": "stream",
          "name": "stdout",
          "text": [
            "Accuracy=0.9778370786516852 ± 0.007909136734394449\n"
          ]
        }
      ]
    },
    {
      "cell_type": "markdown",
      "metadata": {
        "id": "2ExVsycpk7ax"
      },
      "source": [
        "## Deeper Network and Elegant Loss Handling\n",
        "\n",
        "Let's train a two-layer Bayesian network on MNIST, (with 128 and 10 neurons) which should achieve ~ 96% of accuracy on test data. \n",
        "\n",
        "\n",
        "\n",
        "1.   We use `model.compile` only with the negative loglike (top loss)\n",
        "2.   Let the KL terms are collected in `model.losses` and handled as other regularizers in  [`model.train_step`](https://github.com/keras-team/keras/blob/2c48a3b38b6b6139be2da501982fd2f61d7d48fe/keras/engine/training.py#L780)\n",
        "3.   The KL term corresponds to the full data epoch (as in the equation), [so we scale the average batch loss by the number of samples](https://www.tensorflow.org/probability/api_docs/python/tfp/layers/DenseReparameterization).\n"
      ]
    },
    {
      "cell_type": "code",
      "metadata": {
        "colab": {
          "base_uri": "https://localhost:8080/"
        },
        "id": "_c0dsLrZo1ix",
        "outputId": "f6da9375-5768-4b97-8467-1b536a144f0b"
      },
      "source": [
        "### build model: 2-layer bayesian network via Variational Inference ###\n",
        "\n",
        "(X,y),(X_test,y_test) = tf.keras.datasets.mnist.load_data()\n",
        "\n",
        "X = (X-X.mean(0))/(X.std(0)+1e-7)\n",
        "X_test = (X_test-X_test.mean(0))/(X_test.std(0)+1e-7)\n",
        "\n",
        "N_SAMPLES = X.shape[0]\n",
        "N_BATCH = 32\n",
        "N_CLASS = 10\n",
        "\n",
        "model = tf.keras.Sequential([\n",
        "    tf.keras.Input(shape=X.shape[1:]),\n",
        "    tf.keras.layers.Flatten(),\n",
        "    tfp.layers.DenseReparameterization(128,activation='relu'),\n",
        "    tfp.layers.DenseReparameterization(N_CLASS,activation=None)]\n",
        ")\n",
        "\n",
        "def vi_loss(N_SAMPLES):\n",
        "  ''' note: this handles only the loglike term, the KL term is handled via model regularizers '''\n",
        "\n",
        "  def loss(y_true,y_pred):\n",
        "    loglike = tf.keras.losses.sparse_categorical_crossentropy(y_true,y_pred,from_logits=True)\n",
        "    loglike = tf.reduce_mean(loglike)\n",
        "    return N_SAMPLES*loglike \n",
        "\n",
        "  return loss\n",
        "\n",
        "\n",
        "model.compile(optimizer=tf.keras.optimizers.Adam(0.005),\n",
        "              loss=vi_loss(N_SAMPLES),\n",
        ")\n",
        "model.fit(X,y,batch_size=64,epochs=10,shuffle=True)\n",
        "(model(X_test).numpy().argmax(-1)==y_test).mean()"
      ],
      "execution_count": 55,
      "outputs": [
        {
          "output_type": "stream",
          "name": "stderr",
          "text": [
            "/usr/local/lib/python3.7/dist-packages/tensorflow_probability/python/layers/util.py:102: UserWarning: `layer.add_variable` is deprecated and will be removed in a future version. Please use `layer.add_weight` method instead.\n",
            "  trainable=trainable)\n",
            "/usr/local/lib/python3.7/dist-packages/tensorflow_probability/python/layers/util.py:112: UserWarning: `layer.add_variable` is deprecated and will be removed in a future version. Please use `layer.add_weight` method instead.\n",
            "  trainable=trainable)\n"
          ]
        },
        {
          "output_type": "stream",
          "name": "stdout",
          "text": [
            "Epoch 1/10\n",
            "938/938 [==============================] - 12s 12ms/step - loss: 257410.0625\n",
            "Epoch 2/10\n",
            "938/938 [==============================] - 9s 9ms/step - loss: 218093.6562\n",
            "Epoch 3/10\n",
            "938/938 [==============================] - 9s 9ms/step - loss: 188142.2344\n",
            "Epoch 4/10\n",
            "938/938 [==============================] - 9s 9ms/step - loss: 170976.2500\n",
            "Epoch 5/10\n",
            "938/938 [==============================] - 9s 9ms/step - loss: 154772.9688\n",
            "Epoch 6/10\n",
            "938/938 [==============================] - 9s 9ms/step - loss: 139064.1250\n",
            "Epoch 7/10\n",
            "938/938 [==============================] - 9s 9ms/step - loss: 134693.7656\n",
            "Epoch 8/10\n",
            "938/938 [==============================] - 9s 9ms/step - loss: 124163.4531\n",
            "Epoch 9/10\n",
            "938/938 [==============================] - 8s 9ms/step - loss: 119700.6641\n",
            "Epoch 10/10\n",
            "938/938 [==============================] - 9s 9ms/step - loss: 114355.0703\n"
          ]
        },
        {
          "output_type": "execute_result",
          "data": {
            "text/plain": [
              "<keras.callbacks.History at 0x7f08a8cb1950>"
            ]
          },
          "metadata": {},
          "execution_count": 55
        }
      ]
    },
    {
      "cell_type": "markdown",
      "metadata": {
        "id": "jDb9NshCmZF3"
      },
      "source": [
        "## Literature\n",
        "\n",
        "[1] Tensorflow Probability Layers, Tensorflow, https://www.tensorflow.org/probability/api_docs/python/tfp/layers/DenseReparameterization\n",
        "\n",
        "[2] Advances in Variational Inference, https://arxiv.org/pdf/1711.05597.pdf\n"
      ]
    }
  ]
}