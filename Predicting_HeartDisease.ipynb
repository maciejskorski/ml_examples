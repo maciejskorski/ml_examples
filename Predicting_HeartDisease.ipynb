{
  "nbformat": 4,
  "nbformat_minor": 0,
  "metadata": {
    "colab": {
      "name": "MSk_HeartDisease.ipynb",
      "provenance": [],
      "collapsed_sections": [],
      "mount_file_id": "180qxsUM0r3kSa5syr27sIUfhOl0CtoWh",
      "authorship_tag": "ABX9TyPTZ23kfFTOxZ3Vr/swa3Id",
      "include_colab_link": true
    },
    "kernelspec": {
      "name": "python3",
      "display_name": "Python 3"
    },
    "language_info": {
      "name": "python"
    }
  },
  "cells": [
    {
      "cell_type": "markdown",
      "metadata": {
        "id": "view-in-github",
        "colab_type": "text"
      },
      "source": [
        "<a href=\"https://colab.research.google.com/github/maciejskorski/ml_examples/blob/master/Predicting_HeartDisease.ipynb\" target=\"_parent\"><img src=\"https://colab.research.google.com/assets/colab-badge.svg\" alt=\"Open In Colab\"/></a>"
      ]
    },
    {
      "cell_type": "markdown",
      "metadata": {
        "id": "SjtmM__l0-2I"
      },
      "source": [
        "# Summary\n",
        " **What are most important risk factors for heart diseases?** We answer this question using\n",
        "the Cleveland UC Irvine challenge, which asks to predict a heart disease based on 13 predictors (both numeric and categorical):\n",
        "age, sex, chest pain symptoms, blood press,\tcholesterol, blood sugar, rest ecg,\tmax heart rate,\texercise angina,\tpeak and slope on ecg, blocked vessels and\tthallium test. This setup has been discussed many times as a toy or research problem, but this analysis prioritizes *robustness* to mitigate the selection bias (rarely addressed in other discussions).  "
      ]
    },
    {
      "cell_type": "code",
      "metadata": {
        "id": "oaSX6ybLKyus",
        "cellView": "form"
      },
      "source": [
        "#@title Preprocessing \n",
        "#@markdown  6 rows with missing data was skipped, leaving 297 partient records. The original names were changed to be more descriptive and different disease variants were merged into one (hdisease).   \n",
        "import pandas as pd\n",
        "_=!curl \"https://archive.ics.uci.edu/ml/machine-learning-databases/heart-disease/processed.cleveland.data\" -o \"data.csv\"\n",
        "df=pd.read_csv('data.csv',header=None,skiprows=0)\n",
        "df.columns = ['age','sex','chestpain','rest_bloodpress','cholesterol','bloodsugar','restecg','maxhrate','exangina','oldpeak','slope','blockedvessels','thallium','hdisease']\n",
        "# convert target (different deases are encoded)\n",
        "df['hdisease'] = df['hdisease']>0\n",
        "# drop few rows with NA values\n",
        "df=df.drop(df.index[(df=='?').any(1)],axis=0)\n",
        "# force types\n",
        "df['blockedvessels'] = df['blockedvessels'].astype('float')\n",
        "df['thallium'] = df['thallium'].astype('float')\n",
        "# give meaningful labels\n",
        "#encoder = {1:'typ_angin',2:'atyp_angin',3:'non-angin',4:'asymptom'}\n",
        "#df['chestpain'] = df['chestpain'].astype('int').apply(encoder.get)\n",
        "#encoder = {1:'up',2:'flat',3:'down'}\n",
        "#df['slope'] = df['slope'].astype('int').apply(encoder.get)\n",
        "#encoder = {3:'norm',6:'fixed',7:'reversible'}\n",
        "#df['thallium'] = df['thallium'].astype('int').apply(encoder.get)\n",
        "#encoder = {0:'norm',1:'abnorm',2:'hypertrophy_evidence'}\n",
        "#df['restecg'] = df['restecg'].astype('int').apply(encoder.get)\n",
        "# show rows\n",
        "#df.head()\n",
        "#print(df.head().to_markdown())\n",
        "#from IPython.display import display, HTML\n",
        "#display(HTML(df.head().to_html()))"
      ],
      "execution_count": null,
      "outputs": []
    },
    {
      "cell_type": "markdown",
      "metadata": {
        "id": "8sS5egZLbIGH"
      },
      "source": [
        "## Feature Selection\n",
        "\n",
        "**Model**: Random Forest (parameters adjusted to avoid overly complex trees) was used to estimate the importance of features. Rather than fitting it on the whole data, this solution cross-validates it to minimize the selection bias (interval estimates for importances)\n",
        "\n",
        "**Conclusions** thallium test, blocked vessels, chest pains, exercise angina and certain ecg patterns are major contributting factors. These detailed diagnostics and symptoms are ranked higher than more general (age, sex) or causal (sugar level) predictors. Some of the ecg metrics have low importance, maybe they are overprovisioned?"
      ]
    },
    {
      "cell_type": "code",
      "metadata": {
        "colab": {
          "base_uri": "https://localhost:8080/",
          "height": 350
        },
        "id": "yItg28WFw9I_",
        "outputId": "73e6e49b-85ea-4048-cbd2-d4b6edbd29b0"
      },
      "source": [
        "#@title Random Forest Model (Cross-Validated)\n",
        "from sklearn.metrics import make_scorer,roc_auc_score\n",
        "from sklearn.feature_selection import RFECV,SelectFromModel\n",
        "from sklearn.model_selection import cross_val_score,StratifiedKFold,cross_validate\n",
        "from sklearn.ensemble import RandomForestClassifier\n",
        "from sklearn.linear_model import LogisticRegression\n",
        "from matplotlib import pyplot as plt\n",
        "\n",
        "y = df['hdisease']\n",
        "X = df[df.columns[:-1]]\n",
        "model = RandomForestClassifier(n_estimators=200,max_depth=5,min_samples_leaf=5,random_state=13)\n",
        "cv = StratifiedKFold(5,shuffle=True,random_state=13)\n",
        "out = cross_validate(model,X,y,scoring='f1',cv=cv,return_estimator=True)\n",
        "\n",
        "ranks = []\n",
        "for m in out['estimator']:\n",
        "  ranks.append(pd.Series(m.feature_importances_,index=X.columns))\n",
        "ranks = pd.DataFrame(ranks).T\n",
        "ranks['score'] = ranks.mean(1)\n",
        "ranks = ranks.sort_values('score',ascending=True)\n",
        "fig,ax = plt.subplots(figsize=(10,5))\n",
        "ranks.T.boxplot(vert=False,figsize=(14,10),patch_artist=True,ax=ax)\n",
        "ax.set_title('Feature Importance (cross-validated random forest)')\n",
        "ax.set_xlabel('Importance (with std bars)')\n",
        "plt.show()"
      ],
      "execution_count": null,
      "outputs": [
        {
          "output_type": "display_data",
          "data": {
            "image/png": "[encoded data removed]",
            "text/plain": [
              "<Figure size 720x360 with 1 Axes>"
            ]
          },
          "metadata": {
            "tags": [],
            "needs_background": "light"
          }
        }
      ]
    },
    {
      "cell_type": "markdown",
      "metadata": {
        "id": "7yQO4q54bYmO"
      },
      "source": [
        "## Generalized Linear Model (BIC Selection)\n",
        "\n",
        "**Model** <emph>Recursive Feature Elimination</emph> is used with Logistic Regression as the building block and Bayesian Information Criterion as the overfitting measure; in every round the least significant feature with p-value>0.10 is deleted. The model was *optimized by introducing non-linearity* in form of \"breaking points\" at \"extreme\" levels of cholesterol, blood presure, age, heart rate etc.\n",
        "\n",
        "**Conclusions** The strongest impact (by sigificance) comes as before from blocked vessels, chest pain (4=atypical), heart rate, thalllium. However this time age, sex and cholesterol are important. This may due to the protective estrogen impact, but why this was not seen in the previous model?"
      ]
    },
    {
      "cell_type": "code",
      "metadata": {
        "colab": {
          "base_uri": "https://localhost:8080/"
        },
        "cellView": "form",
        "id": "xiSVJGDs3GNw",
        "outputId": "3ae59d85-043c-46ca-c3b4-bb7d87390c6c"
      },
      "source": [
        "#@title Logistic Regression\n",
        "X_onehot = X.copy(deep=True)\n",
        "\n",
        "cat_vars = ['sex','chestpain','restecg','bloodsugar','exangina','slope','thallium']\n",
        "vals = []\n",
        "names = []\n",
        "for c in cat_vars:\n",
        "  val = pd.get_dummies(X_onehot[c])\n",
        "  val.columns = list(map(str,val.columns))\n",
        "  X_onehot = X_onehot.drop(c,axis=1)\n",
        "  val = val[list(val.columns)[1:]]\n",
        "  val.columns = list(map(lambda x: c+str(x),val.columns))\n",
        "  vals.append(val)\n",
        "\n",
        "X_onehot = pd.concat([X_onehot,pd.concat(vals,axis=1)],axis=1)\n",
        "X_onehot['age>55'] = (X_onehot['age']>57).astype('float')\n",
        "X_onehot['cholesterol>275'] = (X_onehot['cholesterol']>275).astype('float')\n",
        "X_onehot['rest_bloodpress>150'] = (X_onehot['rest_bloodpress'] > 150).astype('float')\n",
        "X_onehot['maxhrate>187'] = (X_onehot['maxhrate'] > 170).astype('float')\n",
        "\n",
        "import statsmodels.api as sm\n",
        "import statsmodels.formula.api  as smf\n",
        "from statsmodels.tools import eval_measures\n",
        "\n",
        "ftrs = list(X_onehot.columns)\n",
        "outs = []\n",
        "\n",
        "end = False\n",
        "while not end:\n",
        "  model = sm.GLM(exog=X_onehot[ftrs], endog=y.astype(int), family=sm.families.Binomial())\n",
        "  model = model.fit()\n",
        "  worst = model.pvalues.argmax(-1)\n",
        "  if model.pvalues[worst] > 0.10:\n",
        "    outs.append((ftrs[worst],eval_measures.bic(model.llf,model.nobs,model.df_model)))\n",
        "    ftrs.remove(ftrs[worst])\n",
        "  else:\n",
        "    end = True\n",
        "\n",
        "_=print(model.summary().tables[1])\n",
        "print('start BIC=%s,end BIC=%s'%(outs[0][1],outs[-1][1]))"
      ],
      "execution_count": null,
      "outputs": [
        {
          "output_type": "stream",
          "text": [
            "===================================================================================\n",
            "                      coef    std err          z      P>|z|      [0.025      0.975]\n",
            "-----------------------------------------------------------------------------------\n",
            "age                -0.0850      0.028     -3.013      0.003      -0.140      -0.030\n",
            "rest_bloodpress     0.0209      0.010      2.002      0.045       0.000       0.041\n",
            "maxhrate           -0.0241      0.008     -3.002      0.003      -0.040      -0.008\n",
            "oldpeak             0.3447      0.199      1.735      0.083      -0.045       0.734\n",
            "blockedvessels      1.2773      0.269      4.746      0.000       0.750       1.805\n",
            "sex1.0              1.5233      0.480      3.175      0.001       0.583       2.464\n",
            "chestpain2.0        1.1261      0.607      1.854      0.064      -0.065       2.317\n",
            "chestpain4.0        1.8913      0.438      4.316      0.000       1.032       2.750\n",
            "exangina1.0         0.7620      0.446      1.710      0.087      -0.112       1.636\n",
            "slope2.0            1.0398      0.418      2.490      0.013       0.221       1.858\n",
            "thallium7.0         1.4390      0.405      3.549      0.000       0.644       2.234\n",
            "age>55              1.4961      0.581      2.573      0.010       0.357       2.636\n",
            "cholesterol>275     0.7882      0.464      1.698      0.089      -0.121       1.698\n",
            "===================================================================================\n",
            "start BIC=303.3493621912014,end BIC=261.21451062554183\n"
          ],
          "name": "stdout"
        }
      ]
    },
    {
      "cell_type": "code",
      "metadata": {
        "colab": {
          "base_uri": "https://localhost:8080/",
          "height": 302
        },
        "cellView": "form",
        "id": "ZQwv-GBsoD5s",
        "outputId": "0d55c532-376b-42f8-972a-315a4fac0a1f"
      },
      "source": [
        "#@title Diagnostic Plots\n",
        "from matplotlib import pyplot as plt\n",
        "\n",
        "infl = model.get_influence()\n",
        "fig,axs = plt.subplots(1,2,figsize=(10,4))\n",
        "infl.plot_index(y_var='cooks', threshold=3*4/300, ax=axs[0])\n",
        "infl.plot_index(y_var='resid', threshold=3, ax=axs[1])\n",
        "fig.tight_layout(pad=1.0)"
      ],
      "execution_count": null,
      "outputs": [
        {
          "output_type": "display_data",
          "data": {
            "image/png": "[encoded data removed]",
            "text/plain": [
              "<Figure size 720x288 with 2 Axes>"
            ]
          },
          "metadata": {
            "tags": [],
            "needs_background": "light"
          }
        }
      ]
    },
    {
      "cell_type": "markdown",
      "metadata": {
        "id": "nuAufyyly6N4"
      },
      "source": [
        "## Model Comparison\n",
        "\n",
        "Both models give similar insights and are tested against overfitting. The simpler linear model actually achieves a sligthly better F1 score ($0.83\\pm 0.06$ as opposed to $0.8\\pm 0.05$, on cross-validation folds). The linear model can be extended into a hierarchical model which is aware of intra-cluster effects (e.g. effects common for group of patients) and be beneficial for tasks such as sample stratification. As a side remark, the literature reports that getting close to 0.9  is very hard.\n"
      ]
    },
    {
      "cell_type": "code",
      "metadata": {
        "colab": {
          "base_uri": "https://localhost:8080/"
        },
        "id": "bT5SjVIky80F",
        "outputId": "0ee34fea-e8fa-4aba-9019-ff177d401f21"
      },
      "source": [
        "model = RandomForestClassifier(n_estimators=200,max_depth=5,min_samples_leaf=10,random_state=13)\n",
        "out = cross_val_score(model,X,y,scoring='f1',cv=cv)\n",
        "print(out.mean().round(2),out.std().round(2))\n",
        "\n",
        "model = LogisticRegression(max_iter=1000)\n",
        "out = cross_val_score(model,X_onehot[ftrs],y,scoring='f1',cv=cv)\n",
        "print(out.mean().round(2),out.std().round(2))"
      ],
      "execution_count": null,
      "outputs": [
        {
          "output_type": "stream",
          "text": [
            "0.8 0.05\n",
            "0.83 0.05\n"
          ],
          "name": "stdout"
        }
      ]
    },
    {
      "cell_type": "markdown",
      "metadata": {
        "id": "0Vh0l4eLM72L"
      },
      "source": [
        "## Extras"
      ]
    },
    {
      "cell_type": "code",
      "metadata": {
        "cellView": "form",
        "id": "Xya-czxG6QvO"
      },
      "source": [
        "#@title Export summary PDF\n",
        "%%capture\n",
        "from google.colab import drive\n",
        "drive.mount('/content/drive', force_remount=True)\n",
        "#_=!sudo apt-get install texlive-xetex texlive-fonts-recommended texlive-generic-recommended\n",
        "!jupyter nbconvert --no-input --template drive/MyDrive/Colab\\ Notebooks/better_template --to PDF drive/MyDrive/Colab\\ Notebooks/HeartDisease.ipynb --"
      ],
      "execution_count": null,
      "outputs": []
    },
    {
      "cell_type": "markdown",
      "metadata": {
        "id": "7Vzk3YMOeBds"
      },
      "source": [
        "### Improving Fit\n",
        "\n",
        "The fit is quite good as also confirmed by the diagnostic plots. The anomalies can be skipped to improve the fit (but does not change the insights); for example the person 218 is healthy despite several risk factors: 64-old, male, high cholesterol and blocked main vessels.\n"
      ]
    },
    {
      "cell_type": "code",
      "metadata": {
        "colab": {
          "base_uri": "https://localhost:8080/",
          "height": 795
        },
        "cellView": "form",
        "id": "cXSGQK_zv5je",
        "outputId": "8aab25ab-ceba-40df-a883-9ddb70602747"
      },
      "source": [
        "#@title Improving Logistic Regression\n",
        "X_onehot = X.copy(deep=True)\n",
        "\n",
        "# see where are anomalies\n",
        "blacklist = abs(infl.summary_frame()['standard_resid'])>3\n",
        "df.loc[blacklist,]\n",
        "\n",
        "vals = []\n",
        "names = []\n",
        "for c in cat_vars:\n",
        "  val = pd.get_dummies(X_onehot[c])\n",
        "  val.columns = list(map(str,val.columns))\n",
        "  X_onehot = X_onehot.drop(c,axis=1)\n",
        "  val = val[list(val.columns)[1:]]\n",
        "  val.columns = list(map(lambda x: c+str(x),val.columns))\n",
        "  vals.append(val)\n",
        "\n",
        "X_onehot = pd.concat([X_onehot,pd.concat(vals,axis=1)],axis=1)\n",
        "X_onehot['age>55'] = (X_onehot['age']>57).astype('float')\n",
        "X_onehot['cholesterol>275'] = (X_onehot['cholesterol']>275).astype('float')\n",
        "X_onehot['rest_bloodpress>150'] = (X_onehot['rest_bloodpress'] > 150).astype('float')\n",
        "X_onehot['maxhrate>187'] = (X_onehot['maxhrate'] > 170).astype('float')\n",
        "\n",
        "import statsmodels.api as sm\n",
        "import statsmodels.formula.api  as smf\n",
        "from statsmodels.tools import eval_measures\n",
        "\n",
        "ftrs = list(X_onehot.columns)\n",
        "outs = []\n",
        "\n",
        "end = False\n",
        "while not end:\n",
        "  model = sm.GLM(exog=X_onehot.loc[~blacklist][ftrs], endog=y[~blacklist].astype(int), family=sm.families.Binomial())\n",
        "  model = model.fit()\n",
        "  worst = model.pvalues.argmax(-1)\n",
        "  if model.pvalues[worst] > 0.2:\n",
        "    outs.append((ftrs[worst],eval_measures.bic(model.llf,model.nobs,model.df_model)))\n",
        "    ftrs.remove(ftrs[worst])\n",
        "  else:\n",
        "    end = True\n",
        "\n",
        "print(model.summary())\n",
        "print('start BIC=%s,end BIC=%s'%(outs[0][1],outs[-1][1]))\n",
        "\n",
        "infl = model.get_influence()\n",
        "\n",
        "fig,axs = plt.subplots(1,2,figsize=(10,4))\n",
        "infl.plot_index(y_var='cooks', threshold=3*4/300, ax=axs[0])\n",
        "infl.plot_index(y_var='resid', threshold=3, ax=axs[1])\n",
        "fig.tight_layout(pad=1.0)\n",
        "\n",
        "model = LogisticRegression(max_iter=1000)\n",
        "out = cross_val_score(model,X_onehot[ftrs],y,scoring='f1',cv=5)\n",
        "print(out.mean(),out.std())"
      ],
      "execution_count": null,
      "outputs": [
        {
          "output_type": "stream",
          "text": [
            "                 Generalized Linear Model Regression Results                  \n",
            "==============================================================================\n",
            "Dep. Variable:               hdisease   No. Observations:                  289\n",
            "Model:                            GLM   Df Residuals:                      277\n",
            "Model Family:                Binomial   Df Model:                           11\n",
            "Link Function:                  logit   Scale:                          1.0000\n",
            "Method:                          IRLS   Log-Likelihood:                -61.652\n",
            "Date:                Sun, 25 Apr 2021   Deviance:                       123.30\n",
            "Time:                        09:59:41   Pearson chi2:                     167.\n",
            "No. Iterations:                     8                                         \n",
            "Covariance Type:            nonrobust                                         \n",
            "===================================================================================\n",
            "                      coef    std err          z      P>|z|      [0.025      0.975]\n",
            "-----------------------------------------------------------------------------------\n",
            "age                -0.1413      0.038     -3.732      0.000      -0.216      -0.067\n",
            "rest_bloodpress     0.0353      0.013      2.676      0.007       0.009       0.061\n",
            "maxhrate           -0.0381      0.011     -3.464      0.001      -0.060      -0.017\n",
            "oldpeak             0.5623      0.267      2.105      0.035       0.039       1.086\n",
            "blockedvessels      2.6141      0.458      5.712      0.000       1.717       3.511\n",
            "sex1.0              2.1872      0.671      3.258      0.001       0.872       3.503\n",
            "chestpain2.0        2.5214      0.833      3.026      0.002       0.888       4.155\n",
            "chestpain4.0        3.2176      0.657      4.898      0.000       1.930       4.505\n",
            "exangina1.0         0.8393      0.551      1.523      0.128      -0.241       1.919\n",
            "slope2.0            2.0913      0.595      3.514      0.000       0.925       3.258\n",
            "thallium7.0         2.5744      0.563      4.571      0.000       1.470       3.678\n",
            "age>55              2.3342      0.769      3.035      0.002       0.827       3.842\n",
            "===================================================================================\n",
            "start BIC=236.67781113698356,end BIC=189.70047038995267\n",
            "0.8408952267775798 0.04437827383453979\n"
          ],
          "name": "stdout"
        },
        {
          "output_type": "display_data",
          "data": {
            "image/png": "[encoded data removed]",
            "text/plain": [
              "<Figure size 720x288 with 2 Axes>"
            ]
          },
          "metadata": {
            "tags": [],
            "needs_background": "light"
          }
        }
      ]
    },
    {
      "cell_type": "markdown",
      "metadata": {
        "id": "5JCv0J-zRTjL"
      },
      "source": [
        "## Explanatory Analysis :-)\n",
        "\n",
        "We will have a look and see if the features discriminate the response (information-theoretically)."
      ]
    },
    {
      "cell_type": "code",
      "metadata": {
        "colab": {
          "base_uri": "https://localhost:8080/",
          "height": 142
        },
        "id": "AE1Gmxa0RVIY",
        "outputId": "4f5f7a4f-8f77-499f-b0d6-f5effa124462"
      },
      "source": [
        "#@title Gender Impact \n",
        "#@markdown Being a female looks like an advantage. Probably this \"estrogen\" conjecture.\n",
        "df.groupby('sex')[['hdisease']].mean()"
      ],
      "execution_count": null,
      "outputs": [
        {
          "output_type": "execute_result",
          "data": {
            "text/html": [
              "<div>\n",
              "<style scoped>\n",
              "    .dataframe tbody tr th:only-of-type {\n",
              "        vertical-align: middle;\n",
              "    }\n",
              "\n",
              "    .dataframe tbody tr th {\n",
              "        vertical-align: top;\n",
              "    }\n",
              "\n",
              "    .dataframe thead th {\n",
              "        text-align: right;\n",
              "    }\n",
              "</style>\n",
              "<table border=\"1\" class=\"dataframe\">\n",
              "  <thead>\n",
              "    <tr style=\"text-align: right;\">\n",
              "      <th></th>\n",
              "      <th>hdisease</th>\n",
              "    </tr>\n",
              "    <tr>\n",
              "      <th>sex</th>\n",
              "      <th></th>\n",
              "    </tr>\n",
              "  </thead>\n",
              "  <tbody>\n",
              "    <tr>\n",
              "      <th>0.0</th>\n",
              "      <td>0.260417</td>\n",
              "    </tr>\n",
              "    <tr>\n",
              "      <th>1.0</th>\n",
              "      <td>0.557214</td>\n",
              "    </tr>\n",
              "  </tbody>\n",
              "</table>\n",
              "</div>"
            ],
            "text/plain": [
              "     hdisease\n",
              "sex          \n",
              "0.0  0.260417\n",
              "1.0  0.557214"
            ]
          },
          "metadata": {
            "tags": []
          },
          "execution_count": 17
        }
      ]
    },
    {
      "cell_type": "code",
      "metadata": {
        "colab": {
          "base_uri": "https://localhost:8080/",
          "height": 204
        },
        "id": "WEb3XsStR5Wg",
        "outputId": "b0a2e8c8-615d-46d0-96b8-0e0e2b1d546d"
      },
      "source": [
        "#@title Chest Pain Impact \n",
        "#@markdown The risk goes up with pain of type 4, which is \"asymptomatic\" wrt anginal symptoms.\n",
        "df.groupby('chestpain')[['hdisease']].mean()"
      ],
      "execution_count": null,
      "outputs": [
        {
          "output_type": "execute_result",
          "data": {
            "text/html": [
              "<div>\n",
              "<style scoped>\n",
              "    .dataframe tbody tr th:only-of-type {\n",
              "        vertical-align: middle;\n",
              "    }\n",
              "\n",
              "    .dataframe tbody tr th {\n",
              "        vertical-align: top;\n",
              "    }\n",
              "\n",
              "    .dataframe thead th {\n",
              "        text-align: right;\n",
              "    }\n",
              "</style>\n",
              "<table border=\"1\" class=\"dataframe\">\n",
              "  <thead>\n",
              "    <tr style=\"text-align: right;\">\n",
              "      <th></th>\n",
              "      <th>hdisease</th>\n",
              "    </tr>\n",
              "    <tr>\n",
              "      <th>chestpain</th>\n",
              "      <th></th>\n",
              "    </tr>\n",
              "  </thead>\n",
              "  <tbody>\n",
              "    <tr>\n",
              "      <th>1.0</th>\n",
              "      <td>0.304348</td>\n",
              "    </tr>\n",
              "    <tr>\n",
              "      <th>2.0</th>\n",
              "      <td>0.183673</td>\n",
              "    </tr>\n",
              "    <tr>\n",
              "      <th>3.0</th>\n",
              "      <td>0.216867</td>\n",
              "    </tr>\n",
              "    <tr>\n",
              "      <th>4.0</th>\n",
              "      <td>0.725352</td>\n",
              "    </tr>\n",
              "  </tbody>\n",
              "</table>\n",
              "</div>"
            ],
            "text/plain": [
              "           hdisease\n",
              "chestpain          \n",
              "1.0        0.304348\n",
              "2.0        0.183673\n",
              "3.0        0.216867\n",
              "4.0        0.725352"
            ]
          },
          "metadata": {
            "tags": []
          },
          "execution_count": 20
        }
      ]
    },
    {
      "cell_type": "code",
      "metadata": {
        "colab": {
          "base_uri": "https://localhost:8080/",
          "height": 142
        },
        "id": "9REnPIdJSach",
        "outputId": "0380f9f9-ac33-488b-936d-e56f4420e011"
      },
      "source": [
        "#@title Blood Sugar Impact \n",
        "#@markdown The sugar alone revels no information on the target. I suppose it is cousal: indirectly triggers other precise metrics.\n",
        "df.groupby('bloodsugar')[['hdisease']].mean()"
      ],
      "execution_count": null,
      "outputs": [
        {
          "output_type": "execute_result",
          "data": {
            "text/html": [
              "<div>\n",
              "<style scoped>\n",
              "    .dataframe tbody tr th:only-of-type {\n",
              "        vertical-align: middle;\n",
              "    }\n",
              "\n",
              "    .dataframe tbody tr th {\n",
              "        vertical-align: top;\n",
              "    }\n",
              "\n",
              "    .dataframe thead th {\n",
              "        text-align: right;\n",
              "    }\n",
              "</style>\n",
              "<table border=\"1\" class=\"dataframe\">\n",
              "  <thead>\n",
              "    <tr style=\"text-align: right;\">\n",
              "      <th></th>\n",
              "      <th>hdisease</th>\n",
              "    </tr>\n",
              "    <tr>\n",
              "      <th>bloodsugar</th>\n",
              "      <th></th>\n",
              "    </tr>\n",
              "  </thead>\n",
              "  <tbody>\n",
              "    <tr>\n",
              "      <th>0.0</th>\n",
              "      <td>0.460630</td>\n",
              "    </tr>\n",
              "    <tr>\n",
              "      <th>1.0</th>\n",
              "      <td>0.465116</td>\n",
              "    </tr>\n",
              "  </tbody>\n",
              "</table>\n",
              "</div>"
            ],
            "text/plain": [
              "            hdisease\n",
              "bloodsugar          \n",
              "0.0         0.460630\n",
              "1.0         0.465116"
            ]
          },
          "metadata": {
            "tags": []
          },
          "execution_count": 23
        }
      ]
    },
    {
      "cell_type": "code",
      "metadata": {
        "colab": {
          "base_uri": "https://localhost:8080/",
          "height": 173
        },
        "id": "OraSUpHOSxFh",
        "outputId": "15d8a4b9-4dad-472b-a455-4509ce6be7d1"
      },
      "source": [
        "#@title Rest ECG Impact \n",
        "#@markdown Value 1 appears with higher risk. It encodes \"ST-T abnormality\", so this makes sense.\n",
        "df.groupby('restecg')[['hdisease']].mean()"
      ],
      "execution_count": null,
      "outputs": [
        {
          "output_type": "execute_result",
          "data": {
            "text/html": [
              "<div>\n",
              "<style scoped>\n",
              "    .dataframe tbody tr th:only-of-type {\n",
              "        vertical-align: middle;\n",
              "    }\n",
              "\n",
              "    .dataframe tbody tr th {\n",
              "        vertical-align: top;\n",
              "    }\n",
              "\n",
              "    .dataframe thead th {\n",
              "        text-align: right;\n",
              "    }\n",
              "</style>\n",
              "<table border=\"1\" class=\"dataframe\">\n",
              "  <thead>\n",
              "    <tr style=\"text-align: right;\">\n",
              "      <th></th>\n",
              "      <th>hdisease</th>\n",
              "    </tr>\n",
              "    <tr>\n",
              "      <th>restecg</th>\n",
              "      <th></th>\n",
              "    </tr>\n",
              "  </thead>\n",
              "  <tbody>\n",
              "    <tr>\n",
              "      <th>0.0</th>\n",
              "      <td>0.374150</td>\n",
              "    </tr>\n",
              "    <tr>\n",
              "      <th>1.0</th>\n",
              "      <td>0.750000</td>\n",
              "    </tr>\n",
              "    <tr>\n",
              "      <th>2.0</th>\n",
              "      <td>0.541096</td>\n",
              "    </tr>\n",
              "  </tbody>\n",
              "</table>\n",
              "</div>"
            ],
            "text/plain": [
              "         hdisease\n",
              "restecg          \n",
              "0.0      0.374150\n",
              "1.0      0.750000\n",
              "2.0      0.541096"
            ]
          },
          "metadata": {
            "tags": []
          },
          "execution_count": 25
        }
      ]
    },
    {
      "cell_type": "code",
      "metadata": {
        "colab": {
          "base_uri": "https://localhost:8080/",
          "height": 142
        },
        "id": "AMwGDDcNTpo2",
        "outputId": "c23aada3-0e2e-40ff-d864-4ce854b164f0"
      },
      "source": [
        "#@title Exercise-induced Angina Impact \n",
        "#@markdown This is a known risk factor, visible in the data.\n",
        "df.groupby('exangina')[['hdisease']].mean()\n",
        "\t"
      ],
      "execution_count": null,
      "outputs": [
        {
          "output_type": "execute_result",
          "data": {
            "text/html": [
              "<div>\n",
              "<style scoped>\n",
              "    .dataframe tbody tr th:only-of-type {\n",
              "        vertical-align: middle;\n",
              "    }\n",
              "\n",
              "    .dataframe tbody tr th {\n",
              "        vertical-align: top;\n",
              "    }\n",
              "\n",
              "    .dataframe thead th {\n",
              "        text-align: right;\n",
              "    }\n",
              "</style>\n",
              "<table border=\"1\" class=\"dataframe\">\n",
              "  <thead>\n",
              "    <tr style=\"text-align: right;\">\n",
              "      <th></th>\n",
              "      <th>hdisease</th>\n",
              "    </tr>\n",
              "    <tr>\n",
              "      <th>exangina</th>\n",
              "      <th></th>\n",
              "    </tr>\n",
              "  </thead>\n",
              "  <tbody>\n",
              "    <tr>\n",
              "      <th>0.0</th>\n",
              "      <td>0.315000</td>\n",
              "    </tr>\n",
              "    <tr>\n",
              "      <th>1.0</th>\n",
              "      <td>0.762887</td>\n",
              "    </tr>\n",
              "  </tbody>\n",
              "</table>\n",
              "</div>"
            ],
            "text/plain": [
              "          hdisease\n",
              "exangina          \n",
              "0.0       0.315000\n",
              "1.0       0.762887"
            ]
          },
          "metadata": {
            "tags": []
          },
          "execution_count": 29
        }
      ]
    },
    {
      "cell_type": "code",
      "metadata": {
        "colab": {
          "base_uri": "https://localhost:8080/",
          "height": 204
        },
        "id": "uym4WnFCUCcq",
        "outputId": "3f8885ee-b458-45c8-b2c5-aa910caf1815"
      },
      "source": [
        "#@title Blocked Major Vessels Impact \n",
        "#@markdown The more, the worse! Also known to the literature.\n",
        "df.groupby('blockedvessels')[['hdisease']].mean()\n",
        "\t"
      ],
      "execution_count": null,
      "outputs": [
        {
          "output_type": "execute_result",
          "data": {
            "text/html": [
              "<div>\n",
              "<style scoped>\n",
              "    .dataframe tbody tr th:only-of-type {\n",
              "        vertical-align: middle;\n",
              "    }\n",
              "\n",
              "    .dataframe tbody tr th {\n",
              "        vertical-align: top;\n",
              "    }\n",
              "\n",
              "    .dataframe thead th {\n",
              "        text-align: right;\n",
              "    }\n",
              "</style>\n",
              "<table border=\"1\" class=\"dataframe\">\n",
              "  <thead>\n",
              "    <tr style=\"text-align: right;\">\n",
              "      <th></th>\n",
              "      <th>hdisease</th>\n",
              "    </tr>\n",
              "    <tr>\n",
              "      <th>blockedvessels</th>\n",
              "      <th></th>\n",
              "    </tr>\n",
              "  </thead>\n",
              "  <tbody>\n",
              "    <tr>\n",
              "      <th>0.0</th>\n",
              "      <td>0.258621</td>\n",
              "    </tr>\n",
              "    <tr>\n",
              "      <th>1.0</th>\n",
              "      <td>0.676923</td>\n",
              "    </tr>\n",
              "    <tr>\n",
              "      <th>2.0</th>\n",
              "      <td>0.815789</td>\n",
              "    </tr>\n",
              "    <tr>\n",
              "      <th>3.0</th>\n",
              "      <td>0.850000</td>\n",
              "    </tr>\n",
              "  </tbody>\n",
              "</table>\n",
              "</div>"
            ],
            "text/plain": [
              "                hdisease\n",
              "blockedvessels          \n",
              "0.0             0.258621\n",
              "1.0             0.676923\n",
              "2.0             0.815789\n",
              "3.0             0.850000"
            ]
          },
          "metadata": {
            "tags": []
          },
          "execution_count": 38
        }
      ]
    },
    {
      "cell_type": "code",
      "metadata": {
        "colab": {
          "base_uri": "https://localhost:8080/",
          "height": 173
        },
        "id": "NErlUgR7Vt-t",
        "outputId": "dabb5c8d-79b6-4e44-ac04-c489bd2d8718"
      },
      "source": [
        "#@title Thallium Test Impact \n",
        "#@markdown The value of 3, which is the \"normal reading\", decreases the risk (again makes sense)\n",
        "df.groupby('thallium')[['hdisease']].mean()\n",
        "\t"
      ],
      "execution_count": null,
      "outputs": [
        {
          "output_type": "execute_result",
          "data": {
            "text/html": [
              "<div>\n",
              "<style scoped>\n",
              "    .dataframe tbody tr th:only-of-type {\n",
              "        vertical-align: middle;\n",
              "    }\n",
              "\n",
              "    .dataframe tbody tr th {\n",
              "        vertical-align: top;\n",
              "    }\n",
              "\n",
              "    .dataframe thead th {\n",
              "        text-align: right;\n",
              "    }\n",
              "</style>\n",
              "<table border=\"1\" class=\"dataframe\">\n",
              "  <thead>\n",
              "    <tr style=\"text-align: right;\">\n",
              "      <th></th>\n",
              "      <th>hdisease</th>\n",
              "    </tr>\n",
              "    <tr>\n",
              "      <th>thallium</th>\n",
              "      <th></th>\n",
              "    </tr>\n",
              "  </thead>\n",
              "  <tbody>\n",
              "    <tr>\n",
              "      <th>3.0</th>\n",
              "      <td>0.225610</td>\n",
              "    </tr>\n",
              "    <tr>\n",
              "      <th>6.0</th>\n",
              "      <td>0.666667</td>\n",
              "    </tr>\n",
              "    <tr>\n",
              "      <th>7.0</th>\n",
              "      <td>0.765217</td>\n",
              "    </tr>\n",
              "  </tbody>\n",
              "</table>\n",
              "</div>"
            ],
            "text/plain": [
              "          hdisease\n",
              "thallium          \n",
              "3.0       0.225610\n",
              "6.0       0.666667\n",
              "7.0       0.765217"
            ]
          },
          "metadata": {
            "tags": []
          },
          "execution_count": 40
        }
      ]
    },
    {
      "cell_type": "code",
      "metadata": {
        "colab": {
          "base_uri": "https://localhost:8080/",
          "height": 285
        },
        "id": "MdAjya7OWka_",
        "outputId": "a9db68e1-ebab-43d1-873e-771307cef85e"
      },
      "source": [
        "#@title Cholesterol\n",
        "#@markdown There is some impact from  very high cholesterol levels.\n",
        "mask = df['hdisease']==True\n",
        "df[mask]['cholesterol'].plot.kde(label='disease')\n",
        "df[~mask]['cholesterol'].plot.kde(label='no disease')\n",
        "plt.legend()"
      ],
      "execution_count": null,
      "outputs": [
        {
          "output_type": "execute_result",
          "data": {
            "text/plain": [
              "<matplotlib.legend.Legend at 0x7ff9c7c539d0>"
            ]
          },
          "metadata": {
            "tags": []
          },
          "execution_count": 61
        },
        {
          "output_type": "display_data",
          "data": {
            "image/png": "[encoded data removed]",
            "text/plain": [
              "<Figure size 432x288 with 1 Axes>"
            ]
          },
          "metadata": {
            "tags": []
          }
        }
      ]
    },
    {
      "cell_type": "code",
      "metadata": {
        "colab": {
          "base_uri": "https://localhost:8080/",
          "height": 285
        },
        "id": "lgqlLJ-tZfzv",
        "outputId": "d4fcef78-b34e-49e0-e360-3d36a0751d2e"
      },
      "source": [
        "#@title Max Heart Rate\n",
        "#@markdown There is some impact but negative, from  the high heart rate, don't understand what is is this. I think this may have something to do with young age?\n",
        "mask = df['hdisease']==True\n",
        "df[mask]['maxhrate'].plot.kde(label='disease')\n",
        "df[~mask]['maxhrate'].plot.kde(label='no disease')\n",
        "plt.legend()"
      ],
      "execution_count": null,
      "outputs": [
        {
          "output_type": "execute_result",
          "data": {
            "text/plain": [
              "<matplotlib.legend.Legend at 0x7ff9c3b78d50>"
            ]
          },
          "metadata": {
            "tags": []
          },
          "execution_count": 62
        },
        {
          "output_type": "display_data",
          "data": {
            "image/png": "[encoded data removed]",
            "text/plain": [
              "<Figure size 432x288 with 1 Axes>"
            ]
          },
          "metadata": {
            "tags": []
          }
        }
      ]
    },
    {
      "cell_type": "code",
      "metadata": {
        "cellView": "form",
        "id": "evq93ZiwaJHF"
      },
      "source": [
        "#@title Export Full PDF\n",
        "%%capture\n",
        "from google.colab import drive\n",
        "drive.mount('/content/drive', force_remount=True)\n",
        "#_=!sudo apt-get install texlive-xetex texlive-fonts-recommended texlive-generic-recommended\n",
        "!jupyter nbconvert --template drive/MyDrive/Colab\\ Notebooks/better_template --to PDF drive/MyDrive/Colab\\ Notebooks/HeartDisease.ipynb --"
      ],
      "execution_count": null,
      "outputs": []
    },
    {
      "cell_type": "code",
      "metadata": {
        "colab": {
          "base_uri": "https://localhost:8080/"
        },
        "id": "_VjA2OQXfB4I",
        "outputId": "cbb0bc49-e1e0-463c-9d54-59f3cf69c9ab"
      },
      "source": [
        "X_onehot.loc[218]"
      ],
      "execution_count": null,
      "outputs": [
        {
          "output_type": "execute_result",
          "data": {
            "text/plain": [
              "age                     64.0\n",
              "rest_bloodpress        130.0\n",
              "cholesterol            303.0\n",
              "maxhrate               122.0\n",
              "oldpeak                  2.0\n",
              "blockedvessels           2.0\n",
              "sex1.0                   0.0\n",
              "chestpain2.0             0.0\n",
              "chestpain3.0             0.0\n",
              "chestpain4.0             1.0\n",
              "restecg1.0               0.0\n",
              "restecg2.0               0.0\n",
              "bloodsugar1.0            0.0\n",
              "exangina1.0              0.0\n",
              "slope2.0                 1.0\n",
              "slope3.0                 0.0\n",
              "thallium6.0              0.0\n",
              "thallium7.0              0.0\n",
              "age>55                   1.0\n",
              "cholesterol>275          1.0\n",
              "rest_bloodpress>150      0.0\n",
              "maxhrate>187             0.0\n",
              "Name: 218, dtype: float64"
            ]
          },
          "metadata": {
            "tags": []
          },
          "execution_count": 25
        }
      ]
    }
  ]
}