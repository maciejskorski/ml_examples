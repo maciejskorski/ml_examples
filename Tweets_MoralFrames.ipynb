{
  "nbformat": 4,
  "nbformat_minor": 0,
  "metadata": {
    "colab": {
      "provenance": [],
      "authorship_tag": "ABX9TyP/4if5hwjx3hCMDX0sSuFu",
      "include_colab_link": true
    },
    "kernelspec": {
      "name": "python3",
      "display_name": "Python 3"
    },
    "language_info": {
      "name": "python"
    }
  },
  "cells": [
    {
      "cell_type": "markdown",
      "metadata": {
        "id": "view-in-github",
        "colab_type": "text"
      },
      "source": [
        "<a href=\"https://colab.research.google.com/github/maciejskorski/ml_examples/blob/master/Tweets_MoralFrames.ipynb\" target=\"_parent\"><img src=\"https://colab.research.google.com/assets/colab-badge.svg\" alt=\"Open In Colab\"/></a>"
      ]
    },
    {
      "cell_type": "markdown",
      "source": [
        "# Summary\n",
        "\n",
        "This demo shows how to extract Tweeter messages (no dev account required) and visualise with Spacy pre-annotated moral roles (Roy, Pacheco and Goldwasser, 2021)."
      ],
      "metadata": {
        "id": "AnKp6rQXioOY"
      }
    },
    {
      "cell_type": "markdown",
      "source": [
        "# Preliminaries"
      ],
      "metadata": {
        "id": "iwfoSxKdg-zX"
      }
    },
    {
      "cell_type": "code",
      "source": [
        "!pip install spacy --quiet\n",
        "!pip install beautifulsoup4 --quiet\n",
        "\n",
        "!rm -r annotations\n",
        "!mkdir annotations\n",
        "\n",
        "user = 'ShamikRoy'\n",
        "repo = 'Moral-Role-Prediction'\n",
        "branch = 'main'\n",
        "for category in ['care_harm','sanctity_degradation']:\n",
        "  path = f'annotated_dataset/combined_annotations_{category}.json'\n",
        "  url = f'https://raw.githubusercontent.com/{user}/{repo}/{branch}/{path}'\n",
        "  !curl $url -o annotations/$category'.json'"
      ],
      "metadata": {
        "colab": {
          "base_uri": "https://localhost:8080/"
        },
        "id": "a9lehbBPg_ph",
        "outputId": "2ff32259-1b2d-4784-bf67-514869f4722a"
      },
      "execution_count": 1,
      "outputs": [
        {
          "output_type": "stream",
          "name": "stdout",
          "text": [
            "rm: cannot remove 'annotations': No such file or directory\n",
            "  % Total    % Received % Xferd  Average Speed   Time    Time     Time  Current\n",
            "                                 Dload  Upload   Total   Spent    Left  Speed\n",
            "100  714k  100  714k    0     0  2212k      0 --:--:-- --:--:-- --:--:-- 2212k\n",
            "  % Total    % Received % Xferd  Average Speed   Time    Time     Time  Current\n",
            "                                 Dload  Upload   Total   Spent    Left  Speed\n",
            "100 59794  100 59794    0     0   213k      0 --:--:-- --:--:-- --:--:--  213k\n"
          ]
        }
      ]
    },
    {
      "cell_type": "code",
      "source": [
        "from IPython.display import HTML\n",
        "from bs4 import BeautifulSoup\n",
        "import requests\n",
        "\n",
        "import spacy\n",
        "from spacy import displacy\n",
        "from spacy.tokens import Span\n",
        "\n",
        "\n",
        "def get_tweet(tweet_id):\n",
        "  '''Display the content of a tweet. '''\n",
        "  url = f'https://twitter.com/nouser/status/{tweet_id}'\n",
        "  url = 'https://publish.twitter.com/oembed?url=%s' % url\n",
        "  r = requests.get(url)\n",
        "  html = r.json()['html']\n",
        "  bs = BeautifulSoup(html,'html.parser')\n",
        "  txt = bs.find_all('p')[0].text\n",
        "  return txt,html\n",
        "\n",
        "\n",
        "import json\n",
        "annotations_dict = open('./annotations/sanctity_degradation.json').read()\n",
        "annotations_dict = annotations_dict.replace('endOffset','end').replace('startOffset','start')\n",
        "annotations_dict = annotations_dict.replace('q1','target')\n",
        "annotations_dict = annotations_dict.replace('q2','preserves purity')\n",
        "annotations_dict = annotations_dict.replace('q3','causes degradation')\n",
        "annotations_dict = json.loads(annotations_dict)\n",
        "\n",
        "def get_tweet_annots(tweet_id,annots_dict=annotations_dict):\n",
        "  '''Display annotated tweet'''\n",
        "  tweet_ents_list = annots_dict.get(tweet_id)['annotations']\n",
        "  for tweet_ent in tweet_ents_list:\n",
        "    spans = {\n",
        "    \"text\": tweet_txt,\n",
        "    \"ents\": tweet_ent,\n",
        "    }\n",
        "    display(HTML(displacy.render(spans,style='ent',manual=True)))"
      ],
      "metadata": {
        "colab": {
          "base_uri": "https://localhost:8080/"
        },
        "id": "lFKbFBdJ4XG-",
        "outputId": "ef43b022-af0d-43c9-cc2b-40d91d119d0f"
      },
      "execution_count": 2,
      "outputs": [
        {
          "output_type": "stream",
          "name": "stderr",
          "text": [
            "/usr/local/lib/python3.8/dist-packages/torch/cuda/__init__.py:497: UserWarning: Can't initialize NVML\n",
            "  warnings.warn(\"Can't initialize NVML\")\n"
          ]
        }
      ]
    },
    {
      "cell_type": "markdown",
      "source": [
        "# Demo"
      ],
      "metadata": {
        "id": "DP_J8lp6imSx"
      }
    },
    {
      "cell_type": "code",
      "source": [
        "for tweet_id in ['175268677028024320','207926044248903681','349731080049401856']:\n",
        "  tweet_txt, tweet_html, = get_tweet(tweet_id)\n",
        "  display(HTML(tweet_html))\n",
        "  get_tweet_annots(tweet_id)"
      ],
      "metadata": {
        "colab": {
          "base_uri": "https://localhost:8080/",
          "height": 603
        },
        "id": "6ls2hZ6yP3o6",
        "outputId": "fb83b030-fb4a-414d-827f-8d754c85dbea"
      },
      "execution_count": 3,
      "outputs": [
        {
          "output_type": "display_data",
          "data": {
            "text/plain": [
              "<IPython.core.display.HTML object>"
            ],
            "text/html": [
              "<blockquote class=\"twitter-tweet\"><p lang=\"en\" dir=\"ltr\">Note to Rush Limbaugh: Women are not sluts &amp; prostitutes for using birth control or advocating for health care! <a href=\"http://t.co/V1jeRhCc\">http://t.co/V1jeRhCc</a></p>&mdash; Jackie Speier (@RepSpeier) <a href=\"https://twitter.com/RepSpeier/status/175268677028024320?ref_src=twsrc%5Etfw\">March 1, 2012</a></blockquote>\n",
              "<script async src=\"https://platform.twitter.com/widgets.js\" charset=\"utf-8\"></script>\n"
            ]
          },
          "metadata": {}
        },
        {
          "output_type": "display_data",
          "data": {
            "text/plain": [
              "<IPython.core.display.HTML object>"
            ],
            "text/html": [
              "<div class=\"entities\" style=\"line-height: 2.5; direction: ltr\">Note to \n",
              "<mark class=\"entity\" style=\"background: #ddd; padding: 0.45em 0.6em; margin: 0 0.25em; line-height: 1; border-radius: 0.35em;\">\n",
              "    Rush Limbaugh\n",
              "    <span style=\"font-size: 0.8em; font-weight: bold; line-height: 1; border-radius: 0.35em; vertical-align: middle; margin-left: 0.5rem\">causes degradation</span>\n",
              "</mark>\n",
              ": \n",
              "<mark class=\"entity\" style=\"background: #ddd; padding: 0.45em 0.6em; margin: 0 0.25em; line-height: 1; border-radius: 0.35em;\">\n",
              "    Women\n",
              "    <span style=\"font-size: 0.8em; font-weight: bold; line-height: 1; border-radius: 0.35em; vertical-align: middle; margin-left: 0.5rem\">target</span>\n",
              "</mark>\n",
              " are not sluts &amp; prostitutes for using birth control or advocating for health care! http://t.co/V1jeRhCc</div>"
            ]
          },
          "metadata": {}
        },
        {
          "output_type": "display_data",
          "data": {
            "text/plain": [
              "<IPython.core.display.HTML object>"
            ],
            "text/html": [
              "<div class=\"entities\" style=\"line-height: 2.5; direction: ltr\">Note to \n",
              "<mark class=\"entity\" style=\"background: #ddd; padding: 0.45em 0.6em; margin: 0 0.25em; line-height: 1; border-radius: 0.35em;\">\n",
              "    Rush Limbaugh\n",
              "    <span style=\"font-size: 0.8em; font-weight: bold; line-height: 1; border-radius: 0.35em; vertical-align: middle; margin-left: 0.5rem\">causes degradation</span>\n",
              "</mark>\n",
              ": \n",
              "<mark class=\"entity\" style=\"background: #ddd; padding: 0.45em 0.6em; margin: 0 0.25em; line-height: 1; border-radius: 0.35em;\">\n",
              "    Women \n",
              "    <span style=\"font-size: 0.8em; font-weight: bold; line-height: 1; border-radius: 0.35em; vertical-align: middle; margin-left: 0.5rem\">target</span>\n",
              "</mark>\n",
              "are not sluts &amp; prostitutes for using birth control or advocating for health care! http://t.co/V1jeRhCc</div>"
            ]
          },
          "metadata": {}
        },
        {
          "output_type": "display_data",
          "data": {
            "text/plain": [
              "<IPython.core.display.HTML object>"
            ],
            "text/html": [
              "<div class=\"entities\" style=\"line-height: 2.5; direction: ltr\">Note to \n",
              "<mark class=\"entity\" style=\"background: #ddd; padding: 0.45em 0.6em; margin: 0 0.25em; line-height: 1; border-radius: 0.35em;\">\n",
              "    Rush Limbaugh\n",
              "    <span style=\"font-size: 0.8em; font-weight: bold; line-height: 1; border-radius: 0.35em; vertical-align: middle; margin-left: 0.5rem\">causes degradation</span>\n",
              "</mark>\n",
              ": \n",
              "<mark class=\"entity\" style=\"background: #ddd; padding: 0.45em 0.6em; margin: 0 0.25em; line-height: 1; border-radius: 0.35em;\">\n",
              "    Women \n",
              "    <span style=\"font-size: 0.8em; font-weight: bold; line-height: 1; border-radius: 0.35em; vertical-align: middle; margin-left: 0.5rem\">target</span>\n",
              "</mark>\n",
              "are not sluts &amp; prostitutes for using birth control or advocating for health care! http://t.co/V1jeRhCc</div>"
            ]
          },
          "metadata": {}
        },
        {
          "output_type": "display_data",
          "data": {
            "text/plain": [
              "<IPython.core.display.HTML object>"
            ],
            "text/html": [
              "<div class=\"entities\" style=\"line-height: 2.5; direction: ltr\">Note to \n",
              "<mark class=\"entity\" style=\"background: #ddd; padding: 0.45em 0.6em; margin: 0 0.25em; line-height: 1; border-radius: 0.35em;\">\n",
              "    Rush Limbaugh\n",
              "    <span style=\"font-size: 0.8em; font-weight: bold; line-height: 1; border-radius: 0.35em; vertical-align: middle; margin-left: 0.5rem\">causes degradation</span>\n",
              "</mark>\n",
              ": \n",
              "<mark class=\"entity\" style=\"background: #ddd; padding: 0.45em 0.6em; margin: 0 0.25em; line-height: 1; border-radius: 0.35em;\">\n",
              "    Women\n",
              "    <span style=\"font-size: 0.8em; font-weight: bold; line-height: 1; border-radius: 0.35em; vertical-align: middle; margin-left: 0.5rem\">target</span>\n",
              "</mark>\n",
              " are not sluts &amp; prostitutes for using birth control or advocating for health care! http://t.co/V1jeRhCc</div>"
            ]
          },
          "metadata": {}
        },
        {
          "output_type": "display_data",
          "data": {
            "text/plain": [
              "<IPython.core.display.HTML object>"
            ],
            "text/html": [
              "<blockquote class=\"twitter-tweet\"><p lang=\"en\" dir=\"ltr\">Now debating HR3541 which bans sex selected abortions. A sin to abort baby girls b/c they are girls. Christie, join me &amp; defend little girls</p>&mdash; Steve King (@SteveKingIA) <a href=\"https://twitter.com/SteveKingIA/status/207926044248903681?ref_src=twsrc%5Etfw\">May 30, 2012</a></blockquote>\n",
              "<script async src=\"https://platform.twitter.com/widgets.js\" charset=\"utf-8\"></script>\n"
            ]
          },
          "metadata": {}
        },
        {
          "output_type": "display_data",
          "data": {
            "text/plain": [
              "<IPython.core.display.HTML object>"
            ],
            "text/html": [
              "<div class=\"entities\" style=\"line-height: 2.5; direction: ltr\">Now debating HR3541 which bans sex selected abortions. A sin to abort\n",
              "<mark class=\"entity\" style=\"background: #ddd; padding: 0.45em 0.6em; margin: 0 0.25em; line-height: 1; border-radius: 0.35em;\">\n",
              "     baby girls\n",
              "    <span style=\"font-size: 0.8em; font-weight: bold; line-height: 1; border-radius: 0.35em; vertical-align: middle; margin-left: 0.5rem\">target</span>\n",
              "</mark>\n",
              " b/c they are \n",
              "<mark class=\"entity\" style=\"background: #ddd; padding: 0.45em 0.6em; margin: 0 0.25em; line-height: 1; border-radius: 0.35em;\">\n",
              "    girls\n",
              "    <span style=\"font-size: 0.8em; font-weight: bold; line-height: 1; border-radius: 0.35em; vertical-align: middle; margin-left: 0.5rem\">target</span>\n",
              "</mark>\n",
              ". Christie, join \n",
              "<mark class=\"entity\" style=\"background: #ddd; padding: 0.45em 0.6em; margin: 0 0.25em; line-height: 1; border-radius: 0.35em;\">\n",
              "    me \n",
              "    <span style=\"font-size: 0.8em; font-weight: bold; line-height: 1; border-radius: 0.35em; vertical-align: middle; margin-left: 0.5rem\">preserves purity</span>\n",
              "</mark>\n",
              "&amp; defend li\n",
              "<mark class=\"entity\" style=\"background: #ddd; padding: 0.45em 0.6em; margin: 0 0.25em; line-height: 1; border-radius: 0.35em;\">\n",
              "    ttle girls\n",
              "    <span style=\"font-size: 0.8em; font-weight: bold; line-height: 1; border-radius: 0.35em; vertical-align: middle; margin-left: 0.5rem\">target</span>\n",
              "</mark>\n",
              "</div>"
            ]
          },
          "metadata": {}
        },
        {
          "output_type": "display_data",
          "data": {
            "text/plain": [
              "<IPython.core.display.HTML object>"
            ],
            "text/html": [
              "<div class=\"entities\" style=\"line-height: 2.5; direction: ltr\">Now debating \n",
              "<mark class=\"entity\" style=\"background: #ddd; padding: 0.45em 0.6em; margin: 0 0.25em; line-height: 1; border-radius: 0.35em;\">\n",
              "    HR3541\n",
              "    <span style=\"font-size: 0.8em; font-weight: bold; line-height: 1; border-radius: 0.35em; vertical-align: middle; margin-left: 0.5rem\">preserves purity</span>\n",
              "</mark>\n",
              " which bans sex selected abortions. A sin to abort \n",
              "<mark class=\"entity\" style=\"background: #ddd; padding: 0.45em 0.6em; margin: 0 0.25em; line-height: 1; border-radius: 0.35em;\">\n",
              "    baby girls\n",
              "    <span style=\"font-size: 0.8em; font-weight: bold; line-height: 1; border-radius: 0.35em; vertical-align: middle; margin-left: 0.5rem\">target</span>\n",
              "</mark>\n",
              " b/c they are \n",
              "<mark class=\"entity\" style=\"background: #ddd; padding: 0.45em 0.6em; margin: 0 0.25em; line-height: 1; border-radius: 0.35em;\">\n",
              "    girls\n",
              "    <span style=\"font-size: 0.8em; font-weight: bold; line-height: 1; border-radius: 0.35em; vertical-align: middle; margin-left: 0.5rem\">target</span>\n",
              "</mark>\n",
              ". Christie, join \n",
              "<mark class=\"entity\" style=\"background: #ddd; padding: 0.45em 0.6em; margin: 0 0.25em; line-height: 1; border-radius: 0.35em;\">\n",
              "    me\n",
              "    <span style=\"font-size: 0.8em; font-weight: bold; line-height: 1; border-radius: 0.35em; vertical-align: middle; margin-left: 0.5rem\">preserves purity</span>\n",
              "</mark>\n",
              " &amp; defend lit\n",
              "<mark class=\"entity\" style=\"background: #ddd; padding: 0.45em 0.6em; margin: 0 0.25em; line-height: 1; border-radius: 0.35em;\">\n",
              "    tle girls\n",
              "    <span style=\"font-size: 0.8em; font-weight: bold; line-height: 1; border-radius: 0.35em; vertical-align: middle; margin-left: 0.5rem\">target</span>\n",
              "</mark>\n",
              "</div>"
            ]
          },
          "metadata": {}
        },
        {
          "output_type": "display_data",
          "data": {
            "text/plain": [
              "<IPython.core.display.HTML object>"
            ],
            "text/html": [
              "<div class=\"entities\" style=\"line-height: 2.5; direction: ltr\">Now debating \n",
              "<mark class=\"entity\" style=\"background: #ddd; padding: 0.45em 0.6em; margin: 0 0.25em; line-height: 1; border-radius: 0.35em;\">\n",
              "    HR3541\n",
              "    <span style=\"font-size: 0.8em; font-weight: bold; line-height: 1; border-radius: 0.35em; vertical-align: middle; margin-left: 0.5rem\">preserves purity</span>\n",
              "</mark>\n",
              " which bans sex selected abortions. A sin to abort \n",
              "<mark class=\"entity\" style=\"background: #ddd; padding: 0.45em 0.6em; margin: 0 0.25em; line-height: 1; border-radius: 0.35em;\">\n",
              "    baby girls\n",
              "    <span style=\"font-size: 0.8em; font-weight: bold; line-height: 1; border-radius: 0.35em; vertical-align: middle; margin-left: 0.5rem\">target</span>\n",
              "</mark>\n",
              " b/c they are girls. Christie, join me &amp; defend little girls</div>"
            ]
          },
          "metadata": {}
        },
        {
          "output_type": "display_data",
          "data": {
            "text/plain": [
              "<IPython.core.display.HTML object>"
            ],
            "text/html": [
              "<blockquote class=\"twitter-tweet\"><p lang=\"en\" dir=\"ltr\">RT <a href=\"https://twitter.com/jbrezlow?ref_src=twsrc%5Etfw\">@jbrezlow</a>: Sexual exploitation of women is the &quot;ugly sin&quot; of a broken <a href=\"https://twitter.com/hashtag/immigration?src=hash&amp;ref_src=twsrc%5Etfw\">#immigration</a> system, says <a href=\"https://twitter.com/LuisGutierrez?ref_src=twsrc%5Etfw\">@LuisGutierrez</a>  <a href=\"http://t.co/DKl17EH837\">http://t.co/DKl17EH837</a></p>&mdash; Luis V. Gutiérrez (@RepGutierrez) <a href=\"https://twitter.com/RepGutierrez/status/349731080049401856?ref_src=twsrc%5Etfw\">June 26, 2013</a></blockquote>\n",
              "<script async src=\"https://platform.twitter.com/widgets.js\" charset=\"utf-8\"></script>\n"
            ]
          },
          "metadata": {}
        },
        {
          "output_type": "display_data",
          "data": {
            "text/plain": [
              "<IPython.core.display.HTML object>"
            ],
            "text/html": [
              "<div class=\"entities\" style=\"line-height: 2.5; direction: ltr\">RT @jbrezlow:\n",
              "<mark class=\"entity\" style=\"background: #ddd; padding: 0.45em 0.6em; margin: 0 0.25em; line-height: 1; border-radius: 0.35em;\">\n",
              "     Sexual exploitation of women\n",
              "    <span style=\"font-size: 0.8em; font-weight: bold; line-height: 1; border-radius: 0.35em; vertical-align: middle; margin-left: 0.5rem\">target</span>\n",
              "</mark>\n",
              " is the &quot;ugly sin&quot; of a \n",
              "<mark class=\"entity\" style=\"background: #ddd; padding: 0.45em 0.6em; margin: 0 0.25em; line-height: 1; border-radius: 0.35em;\">\n",
              "    broken #immigration system\n",
              "    <span style=\"font-size: 0.8em; font-weight: bold; line-height: 1; border-radius: 0.35em; vertical-align: middle; margin-left: 0.5rem\">causes degradation</span>\n",
              "</mark>\n",
              ", says @LuisGutierrez http://t.co/DKl17EH837</div>"
            ]
          },
          "metadata": {}
        },
        {
          "output_type": "display_data",
          "data": {
            "text/plain": [
              "<IPython.core.display.HTML object>"
            ],
            "text/html": [
              "<div class=\"entities\" style=\"line-height: 2.5; direction: ltr\">RT @jbrezlow: Sexual exploitation of \n",
              "<mark class=\"entity\" style=\"background: #ddd; padding: 0.45em 0.6em; margin: 0 0.25em; line-height: 1; border-radius: 0.35em;\">\n",
              "    women\n",
              "    <span style=\"font-size: 0.8em; font-weight: bold; line-height: 1; border-radius: 0.35em; vertical-align: middle; margin-left: 0.5rem\">target</span>\n",
              "</mark>\n",
              " is the &quot;ugly sin&quot; of a broken \n",
              "<mark class=\"entity\" style=\"background: #ddd; padding: 0.45em 0.6em; margin: 0 0.25em; line-height: 1; border-radius: 0.35em;\">\n",
              "    #immigration system\n",
              "    <span style=\"font-size: 0.8em; font-weight: bold; line-height: 1; border-radius: 0.35em; vertical-align: middle; margin-left: 0.5rem\">causes degradation</span>\n",
              "</mark>\n",
              ", says \n",
              "<mark class=\"entity\" style=\"background: #ddd; padding: 0.45em 0.6em; margin: 0 0.25em; line-height: 1; border-radius: 0.35em;\">\n",
              "    @LuisGutierrez\n",
              "    <span style=\"font-size: 0.8em; font-weight: bold; line-height: 1; border-radius: 0.35em; vertical-align: middle; margin-left: 0.5rem\">preserves purity</span>\n",
              "</mark>\n",
              " http://t.co/DKl17EH837</div>"
            ]
          },
          "metadata": {}
        },
        {
          "output_type": "display_data",
          "data": {
            "text/plain": [
              "<IPython.core.display.HTML object>"
            ],
            "text/html": [
              "<div class=\"entities\" style=\"line-height: 2.5; direction: ltr\">RT @\n",
              "<mark class=\"entity\" style=\"background: #ddd; padding: 0.45em 0.6em; margin: 0 0.25em; line-height: 1; border-radius: 0.35em;\">\n",
              "    jbrezlow\n",
              "    <span style=\"font-size: 0.8em; font-weight: bold; line-height: 1; border-radius: 0.35em; vertical-align: middle; margin-left: 0.5rem\">preserves purity</span>\n",
              "</mark>\n",
              ": Sexual exploitation of \n",
              "<mark class=\"entity\" style=\"background: #ddd; padding: 0.45em 0.6em; margin: 0 0.25em; line-height: 1; border-radius: 0.35em;\">\n",
              "    women\n",
              "    <span style=\"font-size: 0.8em; font-weight: bold; line-height: 1; border-radius: 0.35em; vertical-align: middle; margin-left: 0.5rem\">target</span>\n",
              "</mark>\n",
              " is the &quot;ugly sin&quot; of a broken #\n",
              "<mark class=\"entity\" style=\"background: #ddd; padding: 0.45em 0.6em; margin: 0 0.25em; line-height: 1; border-radius: 0.35em;\">\n",
              "    immigration system\n",
              "    <span style=\"font-size: 0.8em; font-weight: bold; line-height: 1; border-radius: 0.35em; vertical-align: middle; margin-left: 0.5rem\">causes degradation</span>\n",
              "</mark>\n",
              ", says @\n",
              "<mark class=\"entity\" style=\"background: #ddd; padding: 0.45em 0.6em; margin: 0 0.25em; line-height: 1; border-radius: 0.35em;\">\n",
              "    LuisGutierrez\n",
              "    <span style=\"font-size: 0.8em; font-weight: bold; line-height: 1; border-radius: 0.35em; vertical-align: middle; margin-left: 0.5rem\">preserves purity</span>\n",
              "</mark>\n",
              " http://t.co/DKl17EH837</div>"
            ]
          },
          "metadata": {}
        }
      ]
    }
  ]
}