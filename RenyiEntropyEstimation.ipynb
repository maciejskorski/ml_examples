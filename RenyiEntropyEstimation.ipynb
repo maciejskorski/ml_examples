{
  "nbformat": 4,
  "nbformat_minor": 0,
  "metadata": {
    "colab": {
      "provenance": [],
      "authorship_tag": "ABX9TyPd+00+Ly25yMPkAZXEgCH6",
      "include_colab_link": true
    },
    "kernelspec": {
      "name": "python3",
      "display_name": "Python 3"
    },
    "language_info": {
      "name": "python"
    }
  },
  "cells": [
    {
      "cell_type": "markdown",
      "metadata": {
        "id": "view-in-github",
        "colab_type": "text"
      },
      "source": [
        "<a href=\"https://colab.research.google.com/github/maciejskorski/ml_examples/blob/master/RenyiEntropyEstimation.ipynb\" target=\"_parent\"><img src=\"https://colab.research.google.com/assets/colab-badge.svg\" alt=\"Open In Colab\"/></a>"
      ]
    },
    {
      "cell_type": "markdown",
      "metadata": {
        "id": "5YfVe5qGxM57"
      },
      "source": [
        "# Renyi Entropy Estimation\n",
        "\n",
        "This project implements the sample-optimal adaptive Renyi entropy estimator."
      ]
    },
    {
      "cell_type": "markdown",
      "source": [
        "## Adaptive Estimators"
      ],
      "metadata": {
        "id": "TMQZiaczpGC4"
      }
    },
    {
      "cell_type": "code",
      "source": [
        "from scipy.special import binom\n",
        "from collections import Counter\n",
        "from scipy.stats import zipfian\n",
        "import numpy as np\n",
        "np.random.seed(12345)\n",
        "\n",
        "K = 10000\n",
        "p = zipfian(a=2,n=K)\n",
        "xs = np.arange(1,K+1)\n",
        "p2 = p.pmf(np.arange(1,K+1))**2\n",
        "p_col = p2.sum()\n",
        "p_col.round(5)"
      ],
      "metadata": {
        "colab": {
          "base_uri": "https://localhost:8080/"
        },
        "id": "lAEjwwa9pIbz",
        "outputId": "624e250c-9f80-4db1-84c3-46b4f6e68314"
      },
      "execution_count": null,
      "outputs": [
        {
          "output_type": "execute_result",
          "data": {
            "text/plain": [
              "0.40005"
            ]
          },
          "metadata": {},
          "execution_count": 17
        }
      ]
    },
    {
      "cell_type": "code",
      "source": [
        "import seaborn as sns\n",
        "\n",
        "n = 20000\n",
        "samples = p.rvs(size=n)"
      ],
      "metadata": {
        "id": "CNnLysrgq69H"
      },
      "execution_count": null,
      "outputs": []
    },
    {
      "cell_type": "code",
      "source": [
        "import numpy as np\n",
        "from scipy.special import binom\n",
        "from collections import Counter\n",
        "\n",
        "def estimate_collision(x,d=2):\n",
        "  cnt = Counter(samples).values()\n",
        "  cnt = np.array(list(cnt))\n",
        "  return binom(cnt,d).sum()/binom(cnt.sum(),d)\n",
        "\n",
        "estimate_collision(samples)"
      ],
      "metadata": {
        "colab": {
          "base_uri": "https://localhost:8080/"
        },
        "id": "4wMFFLydsKcT",
        "outputId": "88dae5d6-6974-4c89-8b8a-78e182d6c915"
      },
      "execution_count": null,
      "outputs": [
        {
          "output_type": "execute_result",
          "data": {
            "text/plain": [
              "0.3944943247162358"
            ]
          },
          "metadata": {},
          "execution_count": 20
        }
      ]
    },
    {
      "cell_type": "code",
      "source": [
        "C = lambda delta: 8/delta**2\n",
        "N = lambda delta,Q,eps: round( 8*2**2*8*np.log(1/delta)*Q**(-1/2)*eps**(-2) )\n",
        "\n",
        "delta = 0.05\n",
        "eps = 0.5\n",
        "\n",
        "def estimate_collision_adaptive(x,d=2,delta=delta,eps=eps):\n",
        "  Q = 1\n",
        "  for _ in range(3):\n",
        "    n_subsample = N(delta/np.log2(K),Q,eps)\n",
        "    subsample = x[:n_subsample]\n",
        "    col_estimate = estimate_collision(subsample)\n",
        "    print(n_subsample,col_estimate,Q)\n",
        "    Q = Q/2\n",
        "\n",
        "estimate_collision_adaptive(samples)"
      ],
      "metadata": {
        "colab": {
          "base_uri": "https://localhost:8080/"
        },
        "id": "hmnTpkpOuZ3A",
        "outputId": "d5807666-07d7-43bc-d299-958094c5a780"
      },
      "execution_count": null,
      "outputs": [
        {
          "output_type": "stream",
          "name": "stdout",
          "text": [
            "5717 0.3944943247162358 1\n",
            "8084 0.3944943247162358 0.5\n",
            "11433 0.3944943247162358 0.25\n"
          ]
        }
      ]
    },
    {
      "cell_type": "code",
      "source": [
        "N(0.05,0.25/2,0.5)"
      ],
      "metadata": {
        "colab": {
          "base_uri": "https://localhost:8080/"
        },
        "id": "plxiP-K-XZzD",
        "outputId": "b9f5e6db-8126-42aa-966d-95f9d73b5c33"
      },
      "execution_count": null,
      "outputs": [
        {
          "output_type": "execute_result",
          "data": {
            "text/plain": [
              "8677"
            ]
          },
          "metadata": {},
          "execution_count": 22
        }
      ]
    },
    {
      "cell_type": "markdown",
      "source": [
        "# Statistical Inference\n",
        "\n",
        "We confirm non-uniform distribution of births over weekday and month, using: \n",
        "\n",
        "\n",
        "1.   U.S. births data from 2000 to 2014, as provided by the Social Security Administration. The [dataset is available at GitHub](https://github.com/fivethirtyeight/data/tree/master/births).\n",
        "2.   Births from insurance claims, provided by Roy Murphy. The [dataset is available on his webpage](https://https://www.panix.com/~murphy/bdata.txt).\n",
        "\n",
        "\n",
        "\n"
      ],
      "metadata": {
        "id": "h-trIC5w_orb"
      }
    },
    {
      "cell_type": "code",
      "source": [
        "import pandas as pd\n",
        "\n",
        "!curl -o birthdays.csv https://www.panix.com/~murphy/bdata.txt # downloiad data\n",
        "df = pd.read_csv('birthdays.csv',sep=' ') # read as dataframe\n",
        "df = df[:-1] # skip control row\n",
        "df['date'] = pd.to_datetime('2000'+df['date']) # convert dates\n",
        "df.rename({'count':'births'},axis='columns',inplace=1)\n",
        "df.head()"
      ],
      "metadata": {
        "colab": {
          "base_uri": "https://localhost:8080/",
          "height": 260
        },
        "id": "9HLWwUP__q1j",
        "outputId": "5bb31cb6-96c1-4516-cc8b-8e1fab453459"
      },
      "execution_count": null,
      "outputs": [
        {
          "output_type": "stream",
          "name": "stdout",
          "text": [
            "  % Total    % Received % Xferd  Average Speed   Time    Time     Time  Current\n",
            "                                 Dload  Upload   Total   Spent    Left  Speed\n",
            "100  4049  100  4049    0     0   7308      0 --:--:-- --:--:-- --:--:--  7308\n"
          ]
        },
        {
          "output_type": "execute_result",
          "data": {
            "text/plain": [
              "        date  births\n",
              "0 2000-01-01    1482\n",
              "1 2000-01-02    1213\n",
              "2 2000-01-03    1220\n",
              "3 2000-01-04    1319\n",
              "4 2000-01-05    1262"
            ],
            "text/html": [
              "\n",
              "  <div id=\"df-371aecf3-c37d-482b-ae96-7423769b50f7\">\n",
              "    <div class=\"colab-df-container\">\n",
              "      <div>\n",
              "<style scoped>\n",
              "    .dataframe tbody tr th:only-of-type {\n",
              "        vertical-align: middle;\n",
              "    }\n",
              "\n",
              "    .dataframe tbody tr th {\n",
              "        vertical-align: top;\n",
              "    }\n",
              "\n",
              "    .dataframe thead th {\n",
              "        text-align: right;\n",
              "    }\n",
              "</style>\n",
              "<table border=\"1\" class=\"dataframe\">\n",
              "  <thead>\n",
              "    <tr style=\"text-align: right;\">\n",
              "      <th></th>\n",
              "      <th>date</th>\n",
              "      <th>births</th>\n",
              "    </tr>\n",
              "  </thead>\n",
              "  <tbody>\n",
              "    <tr>\n",
              "      <th>0</th>\n",
              "      <td>2000-01-01</td>\n",
              "      <td>1482</td>\n",
              "    </tr>\n",
              "    <tr>\n",
              "      <th>1</th>\n",
              "      <td>2000-01-02</td>\n",
              "      <td>1213</td>\n",
              "    </tr>\n",
              "    <tr>\n",
              "      <th>2</th>\n",
              "      <td>2000-01-03</td>\n",
              "      <td>1220</td>\n",
              "    </tr>\n",
              "    <tr>\n",
              "      <th>3</th>\n",
              "      <td>2000-01-04</td>\n",
              "      <td>1319</td>\n",
              "    </tr>\n",
              "    <tr>\n",
              "      <th>4</th>\n",
              "      <td>2000-01-05</td>\n",
              "      <td>1262</td>\n",
              "    </tr>\n",
              "  </tbody>\n",
              "</table>\n",
              "</div>\n",
              "      <button class=\"colab-df-convert\" onclick=\"convertToInteractive('df-371aecf3-c37d-482b-ae96-7423769b50f7')\"\n",
              "              title=\"Convert this dataframe to an interactive table.\"\n",
              "              style=\"display:none;\">\n",
              "        \n",
              "  <svg xmlns=\"http://www.w3.org/2000/svg\" height=\"24px\"viewBox=\"0 0 24 24\"\n",
              "       width=\"24px\">\n",
              "    <path d=\"M0 0h24v24H0V0z\" fill=\"none\"/>\n",
              "    <path d=\"M18.56 5.44l.94 2.06.94-2.06 2.06-.94-2.06-.94-.94-2.06-.94 2.06-2.06.94zm-11 1L8.5 8.5l.94-2.06 2.06-.94-2.06-.94L8.5 2.5l-.94 2.06-2.06.94zm10 10l.94 2.06.94-2.06 2.06-.94-2.06-.94-.94-2.06-.94 2.06-2.06.94z\"/><path d=\"M17.41 7.96l-1.37-1.37c-.4-.4-.92-.59-1.43-.59-.52 0-1.04.2-1.43.59L10.3 9.45l-7.72 7.72c-.78.78-.78 2.05 0 2.83L4 21.41c.39.39.9.59 1.41.59.51 0 1.02-.2 1.41-.59l7.78-7.78 2.81-2.81c.8-.78.8-2.07 0-2.86zM5.41 20L4 18.59l7.72-7.72 1.47 1.35L5.41 20z\"/>\n",
              "  </svg>\n",
              "      </button>\n",
              "      \n",
              "  <style>\n",
              "    .colab-df-container {\n",
              "      display:flex;\n",
              "      flex-wrap:wrap;\n",
              "      gap: 12px;\n",
              "    }\n",
              "\n",
              "    .colab-df-convert {\n",
              "      background-color: #E8F0FE;\n",
              "      border: none;\n",
              "      border-radius: 50%;\n",
              "      cursor: pointer;\n",
              "      display: none;\n",
              "      fill: #1967D2;\n",
              "      height: 32px;\n",
              "      padding: 0 0 0 0;\n",
              "      width: 32px;\n",
              "    }\n",
              "\n",
              "    .colab-df-convert:hover {\n",
              "      background-color: #E2EBFA;\n",
              "      box-shadow: 0px 1px 2px rgba(60, 64, 67, 0.3), 0px 1px 3px 1px rgba(60, 64, 67, 0.15);\n",
              "      fill: #174EA6;\n",
              "    }\n",
              "\n",
              "    [theme=dark] .colab-df-convert {\n",
              "      background-color: #3B4455;\n",
              "      fill: #D2E3FC;\n",
              "    }\n",
              "\n",
              "    [theme=dark] .colab-df-convert:hover {\n",
              "      background-color: #434B5C;\n",
              "      box-shadow: 0px 1px 3px 1px rgba(0, 0, 0, 0.15);\n",
              "      filter: drop-shadow(0px 1px 2px rgba(0, 0, 0, 0.3));\n",
              "      fill: #FFFFFF;\n",
              "    }\n",
              "  </style>\n",
              "\n",
              "      <script>\n",
              "        const buttonEl =\n",
              "          document.querySelector('#df-371aecf3-c37d-482b-ae96-7423769b50f7 button.colab-df-convert');\n",
              "        buttonEl.style.display =\n",
              "          google.colab.kernel.accessAllowed ? 'block' : 'none';\n",
              "\n",
              "        async function convertToInteractive(key) {\n",
              "          const element = document.querySelector('#df-371aecf3-c37d-482b-ae96-7423769b50f7');\n",
              "          const dataTable =\n",
              "            await google.colab.kernel.invokeFunction('convertToInteractive',\n",
              "                                                     [key], {});\n",
              "          if (!dataTable) return;\n",
              "\n",
              "          const docLinkHtml = 'Like what you see? Visit the ' +\n",
              "            '<a target=\"_blank\" href=https://colab.research.google.com/notebooks/data_table.ipynb>data table notebook</a>'\n",
              "            + ' to learn more about interactive tables.';\n",
              "          element.innerHTML = '';\n",
              "          dataTable['output_type'] = 'display_data';\n",
              "          await google.colab.output.renderOutput(dataTable, element);\n",
              "          const docLink = document.createElement('div');\n",
              "          docLink.innerHTML = docLinkHtml;\n",
              "          element.appendChild(docLink);\n",
              "        }\n",
              "      </script>\n",
              "    </div>\n",
              "  </div>\n",
              "  "
            ]
          },
          "metadata": {},
          "execution_count": 23
        }
      ]
    },
    {
      "cell_type": "code",
      "source": [
        "birthdays1 = df.groupby(df['date'].dt.month_name())['births'].sum()\n",
        "birthdays1"
      ],
      "metadata": {
        "colab": {
          "base_uri": "https://localhost:8080/"
        },
        "id": "saHMohuQZUVB",
        "outputId": "83a7d259-c92e-4692-dee6-f1ebf004bf5d"
      },
      "execution_count": null,
      "outputs": [
        {
          "output_type": "execute_result",
          "data": {
            "text/plain": [
              "date\n",
              "April        37641\n",
              "August       42980\n",
              "December     40320\n",
              "February     36753\n",
              "January      40255\n",
              "July         42148\n",
              "June         38789\n",
              "March        39940\n",
              "May          39288\n",
              "November     38940\n",
              "October      41874\n",
              "September    42112\n",
              "Name: births, dtype: int64"
            ]
          },
          "metadata": {},
          "execution_count": 24
        }
      ]
    },
    {
      "cell_type": "code",
      "source": [
        "import pandas as pd\n",
        "host = 'raw.github.com'\n",
        "user = 'fivethirtyeight'\n",
        "repo = 'data'\n",
        "branch = 'master'\n",
        "file = 'births/US_births_2000-2014_SSA.csv'\n",
        "url = f'https://{host}/{user}/{repo}/{branch}/{file}'\n",
        "df = pd.read_csv(url,sep=',',header=0)\n",
        "df['date'] = df[['year','month','date_of_month']].astype(str).apply('-'.join,axis=1)\n",
        "df['date'] = pd.to_datetime(df['date'])\n",
        "df = df[['date','births']]\n",
        "df.head()"
      ],
      "metadata": {
        "colab": {
          "base_uri": "https://localhost:8080/",
          "height": 206
        },
        "id": "pun7dAHJLXMS",
        "outputId": "6f6d7303-d17b-4ab2-bd72-0e41f2837f02"
      },
      "execution_count": null,
      "outputs": [
        {
          "output_type": "execute_result",
          "data": {
            "text/plain": [
              "        date  births\n",
              "0 2000-01-01    9083\n",
              "1 2000-01-02    8006\n",
              "2 2000-01-03   11363\n",
              "3 2000-01-04   13032\n",
              "4 2000-01-05   12558"
            ],
            "text/html": [
              "\n",
              "  <div id=\"df-aa6f152f-6a67-4702-84d8-a32759f546f7\">\n",
              "    <div class=\"colab-df-container\">\n",
              "      <div>\n",
              "<style scoped>\n",
              "    .dataframe tbody tr th:only-of-type {\n",
              "        vertical-align: middle;\n",
              "    }\n",
              "\n",
              "    .dataframe tbody tr th {\n",
              "        vertical-align: top;\n",
              "    }\n",
              "\n",
              "    .dataframe thead th {\n",
              "        text-align: right;\n",
              "    }\n",
              "</style>\n",
              "<table border=\"1\" class=\"dataframe\">\n",
              "  <thead>\n",
              "    <tr style=\"text-align: right;\">\n",
              "      <th></th>\n",
              "      <th>date</th>\n",
              "      <th>births</th>\n",
              "    </tr>\n",
              "  </thead>\n",
              "  <tbody>\n",
              "    <tr>\n",
              "      <th>0</th>\n",
              "      <td>2000-01-01</td>\n",
              "      <td>9083</td>\n",
              "    </tr>\n",
              "    <tr>\n",
              "      <th>1</th>\n",
              "      <td>2000-01-02</td>\n",
              "      <td>8006</td>\n",
              "    </tr>\n",
              "    <tr>\n",
              "      <th>2</th>\n",
              "      <td>2000-01-03</td>\n",
              "      <td>11363</td>\n",
              "    </tr>\n",
              "    <tr>\n",
              "      <th>3</th>\n",
              "      <td>2000-01-04</td>\n",
              "      <td>13032</td>\n",
              "    </tr>\n",
              "    <tr>\n",
              "      <th>4</th>\n",
              "      <td>2000-01-05</td>\n",
              "      <td>12558</td>\n",
              "    </tr>\n",
              "  </tbody>\n",
              "</table>\n",
              "</div>\n",
              "      <button class=\"colab-df-convert\" onclick=\"convertToInteractive('df-aa6f152f-6a67-4702-84d8-a32759f546f7')\"\n",
              "              title=\"Convert this dataframe to an interactive table.\"\n",
              "              style=\"display:none;\">\n",
              "        \n",
              "  <svg xmlns=\"http://www.w3.org/2000/svg\" height=\"24px\"viewBox=\"0 0 24 24\"\n",
              "       width=\"24px\">\n",
              "    <path d=\"M0 0h24v24H0V0z\" fill=\"none\"/>\n",
              "    <path d=\"M18.56 5.44l.94 2.06.94-2.06 2.06-.94-2.06-.94-.94-2.06-.94 2.06-2.06.94zm-11 1L8.5 8.5l.94-2.06 2.06-.94-2.06-.94L8.5 2.5l-.94 2.06-2.06.94zm10 10l.94 2.06.94-2.06 2.06-.94-2.06-.94-.94-2.06-.94 2.06-2.06.94z\"/><path d=\"M17.41 7.96l-1.37-1.37c-.4-.4-.92-.59-1.43-.59-.52 0-1.04.2-1.43.59L10.3 9.45l-7.72 7.72c-.78.78-.78 2.05 0 2.83L4 21.41c.39.39.9.59 1.41.59.51 0 1.02-.2 1.41-.59l7.78-7.78 2.81-2.81c.8-.78.8-2.07 0-2.86zM5.41 20L4 18.59l7.72-7.72 1.47 1.35L5.41 20z\"/>\n",
              "  </svg>\n",
              "      </button>\n",
              "      \n",
              "  <style>\n",
              "    .colab-df-container {\n",
              "      display:flex;\n",
              "      flex-wrap:wrap;\n",
              "      gap: 12px;\n",
              "    }\n",
              "\n",
              "    .colab-df-convert {\n",
              "      background-color: #E8F0FE;\n",
              "      border: none;\n",
              "      border-radius: 50%;\n",
              "      cursor: pointer;\n",
              "      display: none;\n",
              "      fill: #1967D2;\n",
              "      height: 32px;\n",
              "      padding: 0 0 0 0;\n",
              "      width: 32px;\n",
              "    }\n",
              "\n",
              "    .colab-df-convert:hover {\n",
              "      background-color: #E2EBFA;\n",
              "      box-shadow: 0px 1px 2px rgba(60, 64, 67, 0.3), 0px 1px 3px 1px rgba(60, 64, 67, 0.15);\n",
              "      fill: #174EA6;\n",
              "    }\n",
              "\n",
              "    [theme=dark] .colab-df-convert {\n",
              "      background-color: #3B4455;\n",
              "      fill: #D2E3FC;\n",
              "    }\n",
              "\n",
              "    [theme=dark] .colab-df-convert:hover {\n",
              "      background-color: #434B5C;\n",
              "      box-shadow: 0px 1px 3px 1px rgba(0, 0, 0, 0.15);\n",
              "      filter: drop-shadow(0px 1px 2px rgba(0, 0, 0, 0.3));\n",
              "      fill: #FFFFFF;\n",
              "    }\n",
              "  </style>\n",
              "\n",
              "      <script>\n",
              "        const buttonEl =\n",
              "          document.querySelector('#df-aa6f152f-6a67-4702-84d8-a32759f546f7 button.colab-df-convert');\n",
              "        buttonEl.style.display =\n",
              "          google.colab.kernel.accessAllowed ? 'block' : 'none';\n",
              "\n",
              "        async function convertToInteractive(key) {\n",
              "          const element = document.querySelector('#df-aa6f152f-6a67-4702-84d8-a32759f546f7');\n",
              "          const dataTable =\n",
              "            await google.colab.kernel.invokeFunction('convertToInteractive',\n",
              "                                                     [key], {});\n",
              "          if (!dataTable) return;\n",
              "\n",
              "          const docLinkHtml = 'Like what you see? Visit the ' +\n",
              "            '<a target=\"_blank\" href=https://colab.research.google.com/notebooks/data_table.ipynb>data table notebook</a>'\n",
              "            + ' to learn more about interactive tables.';\n",
              "          element.innerHTML = '';\n",
              "          dataTable['output_type'] = 'display_data';\n",
              "          await google.colab.output.renderOutput(dataTable, element);\n",
              "          const docLink = document.createElement('div');\n",
              "          docLink.innerHTML = docLinkHtml;\n",
              "          element.appendChild(docLink);\n",
              "        }\n",
              "      </script>\n",
              "    </div>\n",
              "  </div>\n",
              "  "
            ]
          },
          "metadata": {},
          "execution_count": 25
        }
      ]
    },
    {
      "cell_type": "code",
      "source": [
        "birthdays2 = df.groupby([df['date'].dt.day_of_week,df['date'].dt.day_name()])['births'].sum()\n",
        "birthdays2 = birthdays2.droplevel(0,'index')"
      ],
      "metadata": {
        "id": "JfpInGjvZEHI"
      },
      "execution_count": null,
      "outputs": []
    },
    {
      "cell_type": "markdown",
      "source": [
        "# Uniformity Testing / Birthday Inference\n",
        "\n",
        "\n",
        "1. The quantitiy of interest is $$y = P_2-\\frac{1}{m} = \\sum_x \\left(p(x)-\\frac{1}{m}\\right)^2,$$ the difference between the actual collision probability and that of a uniform distribution. \n",
        "2. Proving that $y>0$ with statistical significance proves non-uniformity. To this end, consider the estimator\n",
        "$$\\widehat{y} = \\widehat{P_2}-\\frac{1}{m}$$ \n",
        "using the birthday collision estimator $\\widehat{P_2}$ from $n$ samples.\n",
        "3. The estimator $\\widehat{y}$ has the standard deviation bounded by (see the paper for a proof)\n",
        "$$\n",
        "\\sqrt{\\mathbf{Var}[\\widehat{y}]} \\leqslant \\sqrt{\\frac{4 y^{\\frac{3}{2}} + \\frac{4 y}{m}}{n} + \\frac{2 y + \\frac{2}{m}}{n \\left(n - 1\\right)}},\n",
        "$$\n",
        "which can be used to derive confidence/credibility intervals for unknown $y$ from observed $\\widehat{y}$."
      ],
      "metadata": {
        "id": "r8y-fhuoDjBo"
      }
    },
    {
      "cell_type": "code",
      "source": [
        "import sympy as sm\n",
        "from sympy import solve_univariate_inequality\n",
        "\n",
        "\n",
        "def sigma(y,n,m):\n",
        "  return sm.sqrt(4*(y/m+sm.sqrt(y)**(3))/n+2*(y+1/m)/(n*(n-1)))\n",
        "\n",
        "y,n,m,delta = sm.symbols('y,n,m,delta',positive=True)\n",
        "sigma(y,n,m)"
      ],
      "metadata": {
        "colab": {
          "base_uri": "https://localhost:8080/",
          "height": 68
        },
        "id": "ED03m9LVTmvD",
        "outputId": "669b8baf-a995-4c9f-f181-5ce2d723c3a5"
      },
      "execution_count": 1,
      "outputs": [
        {
          "output_type": "execute_result",
          "data": {
            "text/plain": [
              "sqrt((4*y**(3/2) + 4*y/m)/n + (2*y + 2/m)/(n*(n - 1)))"
            ],
            "text/latex": "$\\displaystyle \\sqrt{\\frac{4 y^{\\frac{3}{2}} + \\frac{4 y}{m}}{n} + \\frac{2 y + \\frac{2}{m}}{n \\left(n - 1\\right)}}$"
          },
          "metadata": {},
          "execution_count": 1
        }
      ]
    },
    {
      "cell_type": "code",
      "source": [
        "import numpy as np\n",
        "from scipy.special import binom\n",
        "import seaborn as sns\n",
        "import matplotlib.pyplot as plt\n",
        "\n",
        "titles = ['Births from SSA`s data','Births from Murphy`s data']\n",
        "\n",
        "for birthdays,label in zip([birthdays1,birthdays2],titles):\n",
        "\n",
        "  p_col = binom(birthdays,2).sum()/binom(birthdays.sum(),2)\n",
        "  n = birthdays.sum()\n",
        "  m = len(birthdays)\n",
        "  gap_col = p_col-1/m\n",
        "\n",
        "  print('Birthday on same day probability {:.5f}'.format(p_col))\n",
        "  print('Collision probability of a distribution uniform over 7 elements is \t{:.5f}'.format(1/m))\n",
        "\n",
        "  fig,ax = plt.subplots()\n",
        "  sns.barplot(data=birthdays.reset_index(),x='date',y='births',ax=ax)\n",
        "  ax.set_title(label)\n",
        "  plt.show()\n",
        "\n",
        "  y,n,m,delta = sm.symbols('y,n,m,delta',positive=True)\n",
        "  subs = {n : birthdays.sum(), m : len(birthdays)}\n",
        "  sigma_subs = sigma(y,n,m).subs(subs)\n",
        "  print(solve_univariate_inequality(abs(y-gap_col) <= 10*sigma_subs, y))"
      ],
      "metadata": {
        "colab": {
          "base_uri": "https://localhost:8080/",
          "height": 681
        },
        "id": "5kbc_shMDhdn",
        "outputId": "80d91687-28cc-4ae4-c1c5-e85e6020846f"
      },
      "execution_count": null,
      "outputs": [
        {
          "output_type": "stream",
          "name": "stdout",
          "text": [
            "Birthday on same day probability 0.08351\n",
            "Collision probability of a distribution uniform over 7 elements is \t0.08333\n"
          ]
        },
        {
          "output_type": "display_data",
          "data": {
            "text/plain": [
              "<Figure size 432x288 with 1 Axes>"
            ],
            "image/png": "[encoded data removed]"
          },
          "metadata": {
            "needs_background": "light"
          }
        },
        {
          "output_type": "stream",
          "name": "stdout",
          "text": [
            "(9.02907199572759e-5 <= y) & (y <= 0.000345551030531635)\n",
            "Birthday on same day probability 0.14794\n",
            "Collision probability of a distribution uniform over 7 elements is \t0.14286\n"
          ]
        },
        {
          "output_type": "display_data",
          "data": {
            "text/plain": [
              "<Figure size 432x288 with 1 Axes>"
            ],
            "image/png": "[encoded data removed]"
          },
          "metadata": {
            "needs_background": "light"
          }
        },
        {
          "output_type": "stream",
          "name": "stdout",
          "text": [
            "(0.00499508345980237 <= y) & (y <= 0.00516234863382153)\n"
          ]
        }
      ]
    }
  ]
}