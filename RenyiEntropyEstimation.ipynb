{
  "nbformat": 4,
  "nbformat_minor": 0,
  "metadata": {
    "colab": {
      "provenance": [],
      "authorship_tag": "ABX9TyMrWyS2HbzCS+5+WL9f9S8J",
      "include_colab_link": true
    },
    "kernelspec": {
      "name": "python3",
      "display_name": "Python 3"
    },
    "language_info": {
      "name": "python"
    }
  },
  "cells": [
    {
      "cell_type": "markdown",
      "metadata": {
        "id": "view-in-github",
        "colab_type": "text"
      },
      "source": [
        "<a href=\"https://colab.research.google.com/github/maciejskorski/ml_examples/blob/master/RenyiEntropyEstimation.ipynb\" target=\"_parent\"><img src=\"https://colab.research.google.com/assets/colab-badge.svg\" alt=\"Open In Colab\"/></a>"
      ]
    },
    {
      "cell_type": "markdown",
      "metadata": {
        "id": "5YfVe5qGxM57"
      },
      "source": [
        "# Renyi Entropy Estimation\n",
        "\n",
        "This notebook demonstrates Renyi entropy estimation."
      ]
    },
    {
      "cell_type": "markdown",
      "source": [
        "## Estimator\n",
        "\n",
        "Renyi entropy is closely linked to collision probability by \n",
        "$$\\mathbf{H}_d(X)=\\frac{1}{1-d}\\log P_d$$\n",
        "where\n",
        "$$\n",
        "P_d \\triangleq \\mathbf{P}\\{ X_1=\\ldots=X_d\\}= \\sum_x p_X(x)^d,\n",
        "$$\n",
        "The collision probability, and hence Renyi entropy, can be approximated from samples by the birthday estimator:\n",
        "$$\n",
        "\\widehat{P_d} (X_1,\\ldots,X_n )  = {n \\choose d}\n",
        "  \\sum_{i_1<i_2<\\ldots<i_d} \\mathbb{I}( X_{i_1}=X_{i_2}=\\ldots=X_{i_d} ).\n",
        "$$\n",
        "As shown in the paper, the estimator is unbiased and its variance is bounded by\n",
        "$$\n",
        "\\mathbf{Var}[\\widehat{P_d}] \\leqslant \\frac{2d^2 P_d^{2-1/d}}{n},\n",
        "$$\n",
        "and the variance of the relative error is\n",
        "$$\n",
        "\\mathbf{Var}[\\widehat{P_d}/P_d-1] \\leqslant \\frac{2d^2}{P_d^{1/d}n}.\n",
        "$$\n",
        "The variance can be further decreased by the techniques of robust mean estimation."
      ],
      "metadata": {
        "id": "TMQZiaczpGC4"
      }
    },
    {
      "cell_type": "markdown",
      "source": [
        "## Collision Estimation Example\n",
        "\n",
        "We study the Zipf distribution with parameter $s=2$ and the support size $K=10000$."
      ],
      "metadata": {
        "id": "h75Gjlm1uImC"
      }
    },
    {
      "cell_type": "code",
      "source": [
        "from scipy.special import binom\n",
        "from collections import Counter\n",
        "from scipy.stats import zipfian\n",
        "import numpy as np\n",
        "np.random.seed(42)\n",
        "\n",
        "K = 10000\n",
        "p = zipfian(a=2,n=K)\n",
        "xs = np.arange(1,K+1)\n",
        "p2 = p.pmf(np.arange(1,K+1))**2\n",
        "p_col = p2.sum()\n",
        "p_col.round(5)"
      ],
      "metadata": {
        "colab": {
          "base_uri": "https://localhost:8080/"
        },
        "id": "4wMFFLydsKcT",
        "outputId": "25655429-9640-4a9a-93dd-cc0887b89bb4"
      },
      "execution_count": 1,
      "outputs": [
        {
          "output_type": "execute_result",
          "data": {
            "text/plain": [
              "0.40005"
            ]
          },
          "metadata": {},
          "execution_count": 1
        }
      ]
    },
    {
      "cell_type": "code",
      "source": [
        "def estimate_collision(x,d=2):\n",
        "  ''' \"Birthday\" estimator for collision probability \n",
        "        Input:\n",
        "        samples: list of samples\n",
        "        d: order of collision probablity to be estimated\n",
        "        delta: desired confidence parameter\n",
        "        prior_col_bound: a lower bound on the collision probability, required for error estimation\n",
        "      Output: \n",
        "        estimate of d-th order collision probability\n",
        "  '''\n",
        "  cnt = Counter(x).values()\n",
        "  cnt = np.array(list(cnt))\n",
        "  col_est = binom(cnt,d).sum()/binom(cnt.sum(),d)\n",
        "  return binom(cnt,d).sum()/binom(cnt.sum(),d)\n",
        "\n",
        "def estimate_collision_high_conf(x,d=2,delta=0.05,prior_col_bound=None):\n",
        "  ''' High-confidence estimator for collision probbility. \n",
        "      This implementation combines the birthday estimator and the median-of-means trick.\n",
        "      Input:\n",
        "        x: list of samples\n",
        "        d: order of collision probablity to be estimated\n",
        "        delta: desired confidence parameter\n",
        "        prior_col_bound: a lower bound on the collision probability, required for error estimation\n",
        "      Output: \n",
        "        a pair of estimate and relative error (error is None unless prior_col_bound is provided)\n",
        "  '''\n",
        "  n = len(x)\n",
        "  k = int(np.ceil(8*np.log(1/delta)))\n",
        "  x = np.resize(x,(k,int(np.floor(n/k))))\n",
        "  p_cols = np.apply_along_axis(estimate_collision,0,x)\n",
        "  if prior_col_bound is not None:\n",
        "    err = 8*d/prior_col_bound**0.5 * (np.log(1/delta)/n)**0.5\n",
        "  else:\n",
        "    err = None\n",
        "  return np.median(p_cols),err\n",
        "\n",
        "\n",
        "def estimate_collision_adaptive_high_conf(x,d=2,delta=0.05,K=10000):\n",
        "  ''' High-confidence adaptive estimator for collision probbility. \n",
        "      Input:\n",
        "        x: list of samples\n",
        "        d: order of collision probablity to be estimated\n",
        "        delta: desired confidence parameter\n",
        "        K: alphabet size\n",
        "      Output: \n",
        "        a pair of estimate and relative error\n",
        "  '''\n",
        "  N = lambda delta,Q: round( 8*2**2*8*np.log(1/delta)*Q**(-1/2) )\n",
        "  Q = 1\n",
        "  Q_is_bound = True\n",
        "  while Q_is_bound and Q > K**(1-d):\n",
        "    Q = Q/2\n",
        "    n_subsample = N(delta/np.log2(K),Q)\n",
        "    subsample = x[:n_subsample]\n",
        "    col_estimate = estimate_collision(subsample)\n",
        "    Q_is_bound = col_estimate < Q\n",
        "    print(n_subsample,col_estimate,Q)\n",
        "  p_est,err = estimate_collision_high_conf(x,d,delta/2,Q/2)\n",
        "  return (p_est,err)"
      ],
      "metadata": {
        "id": "lAEjwwa9pIbz"
      },
      "execution_count": 2,
      "outputs": []
    },
    {
      "cell_type": "code",
      "source": [
        "n = 20000\n",
        "samples = p.rvs(size=n)\n",
        "\n",
        "print(estimate_collision(samples))\n",
        "print(estimate_collision_high_conf(samples))\n",
        "print(estimate_collision_adaptive_high_conf(samples,K=10000))"
      ],
      "metadata": {
        "id": "CNnLysrgq69H",
        "colab": {
          "base_uri": "https://localhost:8080/"
        },
        "outputId": "acf122b9-6304-430b-ec82-c287d9b2d5bb"
      },
      "execution_count": 3,
      "outputs": [
        {
          "output_type": "stream",
          "name": "stdout",
          "text": [
            "0.4024072703635182\n",
            "(0.391304347826087, None)\n",
            "2021 0.3931628788806639 0.5\n",
            "2858 0.3951869042017531 0.25\n",
            "(0.3988505747126437, 0.6146065864447493)\n"
          ]
        }
      ]
    },
    {
      "cell_type": "markdown",
      "source": [
        "## Uniformity Testing"
      ],
      "metadata": {
        "id": "p5QzkQnz66s6"
      }
    },
    {
      "cell_type": "markdown",
      "source": [
        "### Background\n",
        "\n",
        "\n",
        "\n",
        "1. The quantitiy of interest is $$y = P_2-\\frac{1}{m} = \\sum_x \\left(p(x)-\\frac{1}{m}\\right)^2,$$ the difference between the actual collision probability and that of a uniform distribution. \n",
        "2. Proving that $y>0$ with statistical significance proves non-uniformity. To this end, consider the estimator\n",
        "$$\\widehat{y} = \\widehat{P_2}-\\frac{1}{m}$$ \n",
        "using the birthday collision estimator $\\widehat{P_2}$ from $n$ samples.\n",
        "3. The estimator $\\widehat{y}$ has the standard deviation bounded by (see the paper for a proof)\n",
        "$$\n",
        "\\sqrt{\\mathbf{Var}[\\widehat{y}]} \\leqslant \\sqrt{\\frac{4 y^{\\frac{3}{2}} + \\frac{4 y}{m}}{n} + \\frac{2 y + \\frac{2}{m}}{n \\left(n - 1\\right)}},\n",
        "$$\n",
        "which can be used to derive confidence/credibility intervals for unknown $y$ from observed $\\widehat{y}$."
      ],
      "metadata": {
        "id": "r8y-fhuoDjBo"
      }
    },
    {
      "cell_type": "code",
      "source": [
        "import sympy as sm\n",
        "from sympy import solve_univariate_inequality\n",
        "\n",
        "def sigma(y,n,m):\n",
        "  return sm.sqrt(4*(y/m+sm.sqrt(y)**(3))/n+2*(y+1/m)/(n*(n-1)))\n",
        "\n",
        "y,n,m,delta = sm.symbols('y,n,m,delta',positive=True)\n",
        "sigma(y,n,m)"
      ],
      "metadata": {
        "colab": {
          "base_uri": "https://localhost:8080/",
          "height": 68
        },
        "id": "ED03m9LVTmvD",
        "outputId": "cf505673-4d2f-4740-9cfe-0712a7126f03"
      },
      "execution_count": 4,
      "outputs": [
        {
          "output_type": "execute_result",
          "data": {
            "text/plain": [
              "sqrt((4*y**(3/2) + 4*y/m)/n + (2*y + 2/m)/(n*(n - 1)))"
            ],
            "text/latex": "$\\displaystyle \\sqrt{\\frac{4 y^{\\frac{3}{2}} + \\frac{4 y}{m}}{n} + \\frac{2 y + \\frac{2}{m}}{n \\left(n - 1\\right)}}$"
          },
          "metadata": {},
          "execution_count": 4
        }
      ]
    },
    {
      "cell_type": "markdown",
      "source": [
        "### Inference Exampkle\n",
        "\n",
        "We confirm non-uniform distribution of births over weekday and month, using: \n",
        "\n",
        "\n",
        "1.   U.S. births data from 2000 to 2014, as provided by the Social Security Administration. The [dataset is available at GitHub](https://github.com/fivethirtyeight/data/tree/master/births).\n",
        "2.   Births from insurance claims, provided by Roy Murphy. The [dataset is available on his webpage](https://https://www.panix.com/~murphy/bdata.txt).\n",
        "\n",
        "\n",
        "\n"
      ],
      "metadata": {
        "id": "h-trIC5w_orb"
      }
    },
    {
      "cell_type": "code",
      "source": [
        "import pandas as pd\n",
        "\n",
        "!curl -o birthdays.csv https://www.panix.com/~murphy/bdata.txt # downloiad data\n",
        "df = pd.read_csv('birthdays.csv',sep=' ') # read as dataframe\n",
        "df = df[:-1] # skip control row\n",
        "df['date'] = pd.to_datetime('2000'+df['date']) # convert dates\n",
        "df.rename({'count':'births'},axis='columns',inplace=1)\n",
        "df.head()"
      ],
      "metadata": {
        "colab": {
          "base_uri": "https://localhost:8080/",
          "height": 260
        },
        "id": "9HLWwUP__q1j",
        "outputId": "bf437056-3724-4c73-ccf2-1a0313d78501"
      },
      "execution_count": 5,
      "outputs": [
        {
          "output_type": "stream",
          "name": "stdout",
          "text": [
            "  % Total    % Received % Xferd  Average Speed   Time    Time     Time  Current\n",
            "                                 Dload  Upload   Total   Spent    Left  Speed\n",
            "100  4049  100  4049    0     0   7654      0 --:--:-- --:--:-- --:--:--  7654\n"
          ]
        },
        {
          "output_type": "execute_result",
          "data": {
            "text/plain": [
              "        date  births\n",
              "0 2000-01-01    1482\n",
              "1 2000-01-02    1213\n",
              "2 2000-01-03    1220\n",
              "3 2000-01-04    1319\n",
              "4 2000-01-05    1262"
            ],
            "text/html": [
              "\n",
              "  <div id=\"df-4b3cd78e-d5e3-49c7-bfb5-9f2edf583486\">\n",
              "    <div class=\"colab-df-container\">\n",
              "      <div>\n",
              "<style scoped>\n",
              "    .dataframe tbody tr th:only-of-type {\n",
              "        vertical-align: middle;\n",
              "    }\n",
              "\n",
              "    .dataframe tbody tr th {\n",
              "        vertical-align: top;\n",
              "    }\n",
              "\n",
              "    .dataframe thead th {\n",
              "        text-align: right;\n",
              "    }\n",
              "</style>\n",
              "<table border=\"1\" class=\"dataframe\">\n",
              "  <thead>\n",
              "    <tr style=\"text-align: right;\">\n",
              "      <th></th>\n",
              "      <th>date</th>\n",
              "      <th>births</th>\n",
              "    </tr>\n",
              "  </thead>\n",
              "  <tbody>\n",
              "    <tr>\n",
              "      <th>0</th>\n",
              "      <td>2000-01-01</td>\n",
              "      <td>1482</td>\n",
              "    </tr>\n",
              "    <tr>\n",
              "      <th>1</th>\n",
              "      <td>2000-01-02</td>\n",
              "      <td>1213</td>\n",
              "    </tr>\n",
              "    <tr>\n",
              "      <th>2</th>\n",
              "      <td>2000-01-03</td>\n",
              "      <td>1220</td>\n",
              "    </tr>\n",
              "    <tr>\n",
              "      <th>3</th>\n",
              "      <td>2000-01-04</td>\n",
              "      <td>1319</td>\n",
              "    </tr>\n",
              "    <tr>\n",
              "      <th>4</th>\n",
              "      <td>2000-01-05</td>\n",
              "      <td>1262</td>\n",
              "    </tr>\n",
              "  </tbody>\n",
              "</table>\n",
              "</div>\n",
              "      <button class=\"colab-df-convert\" onclick=\"convertToInteractive('df-4b3cd78e-d5e3-49c7-bfb5-9f2edf583486')\"\n",
              "              title=\"Convert this dataframe to an interactive table.\"\n",
              "              style=\"display:none;\">\n",
              "        \n",
              "  <svg xmlns=\"http://www.w3.org/2000/svg\" height=\"24px\"viewBox=\"0 0 24 24\"\n",
              "       width=\"24px\">\n",
              "    <path d=\"M0 0h24v24H0V0z\" fill=\"none\"/>\n",
              "    <path d=\"M18.56 5.44l.94 2.06.94-2.06 2.06-.94-2.06-.94-.94-2.06-.94 2.06-2.06.94zm-11 1L8.5 8.5l.94-2.06 2.06-.94-2.06-.94L8.5 2.5l-.94 2.06-2.06.94zm10 10l.94 2.06.94-2.06 2.06-.94-2.06-.94-.94-2.06-.94 2.06-2.06.94z\"/><path d=\"M17.41 7.96l-1.37-1.37c-.4-.4-.92-.59-1.43-.59-.52 0-1.04.2-1.43.59L10.3 9.45l-7.72 7.72c-.78.78-.78 2.05 0 2.83L4 21.41c.39.39.9.59 1.41.59.51 0 1.02-.2 1.41-.59l7.78-7.78 2.81-2.81c.8-.78.8-2.07 0-2.86zM5.41 20L4 18.59l7.72-7.72 1.47 1.35L5.41 20z\"/>\n",
              "  </svg>\n",
              "      </button>\n",
              "      \n",
              "  <style>\n",
              "    .colab-df-container {\n",
              "      display:flex;\n",
              "      flex-wrap:wrap;\n",
              "      gap: 12px;\n",
              "    }\n",
              "\n",
              "    .colab-df-convert {\n",
              "      background-color: #E8F0FE;\n",
              "      border: none;\n",
              "      border-radius: 50%;\n",
              "      cursor: pointer;\n",
              "      display: none;\n",
              "      fill: #1967D2;\n",
              "      height: 32px;\n",
              "      padding: 0 0 0 0;\n",
              "      width: 32px;\n",
              "    }\n",
              "\n",
              "    .colab-df-convert:hover {\n",
              "      background-color: #E2EBFA;\n",
              "      box-shadow: 0px 1px 2px rgba(60, 64, 67, 0.3), 0px 1px 3px 1px rgba(60, 64, 67, 0.15);\n",
              "      fill: #174EA6;\n",
              "    }\n",
              "\n",
              "    [theme=dark] .colab-df-convert {\n",
              "      background-color: #3B4455;\n",
              "      fill: #D2E3FC;\n",
              "    }\n",
              "\n",
              "    [theme=dark] .colab-df-convert:hover {\n",
              "      background-color: #434B5C;\n",
              "      box-shadow: 0px 1px 3px 1px rgba(0, 0, 0, 0.15);\n",
              "      filter: drop-shadow(0px 1px 2px rgba(0, 0, 0, 0.3));\n",
              "      fill: #FFFFFF;\n",
              "    }\n",
              "  </style>\n",
              "\n",
              "      <script>\n",
              "        const buttonEl =\n",
              "          document.querySelector('#df-4b3cd78e-d5e3-49c7-bfb5-9f2edf583486 button.colab-df-convert');\n",
              "        buttonEl.style.display =\n",
              "          google.colab.kernel.accessAllowed ? 'block' : 'none';\n",
              "\n",
              "        async function convertToInteractive(key) {\n",
              "          const element = document.querySelector('#df-4b3cd78e-d5e3-49c7-bfb5-9f2edf583486');\n",
              "          const dataTable =\n",
              "            await google.colab.kernel.invokeFunction('convertToInteractive',\n",
              "                                                     [key], {});\n",
              "          if (!dataTable) return;\n",
              "\n",
              "          const docLinkHtml = 'Like what you see? Visit the ' +\n",
              "            '<a target=\"_blank\" href=https://colab.research.google.com/notebooks/data_table.ipynb>data table notebook</a>'\n",
              "            + ' to learn more about interactive tables.';\n",
              "          element.innerHTML = '';\n",
              "          dataTable['output_type'] = 'display_data';\n",
              "          await google.colab.output.renderOutput(dataTable, element);\n",
              "          const docLink = document.createElement('div');\n",
              "          docLink.innerHTML = docLinkHtml;\n",
              "          element.appendChild(docLink);\n",
              "        }\n",
              "      </script>\n",
              "    </div>\n",
              "  </div>\n",
              "  "
            ]
          },
          "metadata": {},
          "execution_count": 5
        }
      ]
    },
    {
      "cell_type": "code",
      "source": [
        "birthdays1 = df.groupby(df['date'].dt.month_name())['births'].sum()\n",
        "birthdays1"
      ],
      "metadata": {
        "colab": {
          "base_uri": "https://localhost:8080/"
        },
        "id": "saHMohuQZUVB",
        "outputId": "577e597c-10b4-45d6-f3fd-40db49c57338"
      },
      "execution_count": 6,
      "outputs": [
        {
          "output_type": "execute_result",
          "data": {
            "text/plain": [
              "date\n",
              "April        37641\n",
              "August       42980\n",
              "December     40320\n",
              "February     36753\n",
              "January      40255\n",
              "July         42148\n",
              "June         38789\n",
              "March        39940\n",
              "May          39288\n",
              "November     38940\n",
              "October      41874\n",
              "September    42112\n",
              "Name: births, dtype: int64"
            ]
          },
          "metadata": {},
          "execution_count": 6
        }
      ]
    },
    {
      "cell_type": "code",
      "source": [
        "import pandas as pd\n",
        "host = 'raw.github.com'\n",
        "user = 'fivethirtyeight'\n",
        "repo = 'data'\n",
        "branch = 'master'\n",
        "file = 'births/US_births_2000-2014_SSA.csv'\n",
        "url = f'https://{host}/{user}/{repo}/{branch}/{file}'\n",
        "df = pd.read_csv(url,sep=',',header=0)\n",
        "df['date'] = df[['year','month','date_of_month']].astype(str).apply('-'.join,axis=1)\n",
        "df['date'] = pd.to_datetime(df['date'])\n",
        "df = df[['date','births']]\n",
        "df.head()"
      ],
      "metadata": {
        "colab": {
          "base_uri": "https://localhost:8080/",
          "height": 206
        },
        "id": "pun7dAHJLXMS",
        "outputId": "71504c6c-b843-4f9d-95b2-1b4536d56005"
      },
      "execution_count": 7,
      "outputs": [
        {
          "output_type": "execute_result",
          "data": {
            "text/plain": [
              "        date  births\n",
              "0 2000-01-01    9083\n",
              "1 2000-01-02    8006\n",
              "2 2000-01-03   11363\n",
              "3 2000-01-04   13032\n",
              "4 2000-01-05   12558"
            ],
            "text/html": [
              "\n",
              "  <div id=\"df-487ace8b-e5e0-4194-bef6-56e337ca7370\">\n",
              "    <div class=\"colab-df-container\">\n",
              "      <div>\n",
              "<style scoped>\n",
              "    .dataframe tbody tr th:only-of-type {\n",
              "        vertical-align: middle;\n",
              "    }\n",
              "\n",
              "    .dataframe tbody tr th {\n",
              "        vertical-align: top;\n",
              "    }\n",
              "\n",
              "    .dataframe thead th {\n",
              "        text-align: right;\n",
              "    }\n",
              "</style>\n",
              "<table border=\"1\" class=\"dataframe\">\n",
              "  <thead>\n",
              "    <tr style=\"text-align: right;\">\n",
              "      <th></th>\n",
              "      <th>date</th>\n",
              "      <th>births</th>\n",
              "    </tr>\n",
              "  </thead>\n",
              "  <tbody>\n",
              "    <tr>\n",
              "      <th>0</th>\n",
              "      <td>2000-01-01</td>\n",
              "      <td>9083</td>\n",
              "    </tr>\n",
              "    <tr>\n",
              "      <th>1</th>\n",
              "      <td>2000-01-02</td>\n",
              "      <td>8006</td>\n",
              "    </tr>\n",
              "    <tr>\n",
              "      <th>2</th>\n",
              "      <td>2000-01-03</td>\n",
              "      <td>11363</td>\n",
              "    </tr>\n",
              "    <tr>\n",
              "      <th>3</th>\n",
              "      <td>2000-01-04</td>\n",
              "      <td>13032</td>\n",
              "    </tr>\n",
              "    <tr>\n",
              "      <th>4</th>\n",
              "      <td>2000-01-05</td>\n",
              "      <td>12558</td>\n",
              "    </tr>\n",
              "  </tbody>\n",
              "</table>\n",
              "</div>\n",
              "      <button class=\"colab-df-convert\" onclick=\"convertToInteractive('df-487ace8b-e5e0-4194-bef6-56e337ca7370')\"\n",
              "              title=\"Convert this dataframe to an interactive table.\"\n",
              "              style=\"display:none;\">\n",
              "        \n",
              "  <svg xmlns=\"http://www.w3.org/2000/svg\" height=\"24px\"viewBox=\"0 0 24 24\"\n",
              "       width=\"24px\">\n",
              "    <path d=\"M0 0h24v24H0V0z\" fill=\"none\"/>\n",
              "    <path d=\"M18.56 5.44l.94 2.06.94-2.06 2.06-.94-2.06-.94-.94-2.06-.94 2.06-2.06.94zm-11 1L8.5 8.5l.94-2.06 2.06-.94-2.06-.94L8.5 2.5l-.94 2.06-2.06.94zm10 10l.94 2.06.94-2.06 2.06-.94-2.06-.94-.94-2.06-.94 2.06-2.06.94z\"/><path d=\"M17.41 7.96l-1.37-1.37c-.4-.4-.92-.59-1.43-.59-.52 0-1.04.2-1.43.59L10.3 9.45l-7.72 7.72c-.78.78-.78 2.05 0 2.83L4 21.41c.39.39.9.59 1.41.59.51 0 1.02-.2 1.41-.59l7.78-7.78 2.81-2.81c.8-.78.8-2.07 0-2.86zM5.41 20L4 18.59l7.72-7.72 1.47 1.35L5.41 20z\"/>\n",
              "  </svg>\n",
              "      </button>\n",
              "      \n",
              "  <style>\n",
              "    .colab-df-container {\n",
              "      display:flex;\n",
              "      flex-wrap:wrap;\n",
              "      gap: 12px;\n",
              "    }\n",
              "\n",
              "    .colab-df-convert {\n",
              "      background-color: #E8F0FE;\n",
              "      border: none;\n",
              "      border-radius: 50%;\n",
              "      cursor: pointer;\n",
              "      display: none;\n",
              "      fill: #1967D2;\n",
              "      height: 32px;\n",
              "      padding: 0 0 0 0;\n",
              "      width: 32px;\n",
              "    }\n",
              "\n",
              "    .colab-df-convert:hover {\n",
              "      background-color: #E2EBFA;\n",
              "      box-shadow: 0px 1px 2px rgba(60, 64, 67, 0.3), 0px 1px 3px 1px rgba(60, 64, 67, 0.15);\n",
              "      fill: #174EA6;\n",
              "    }\n",
              "\n",
              "    [theme=dark] .colab-df-convert {\n",
              "      background-color: #3B4455;\n",
              "      fill: #D2E3FC;\n",
              "    }\n",
              "\n",
              "    [theme=dark] .colab-df-convert:hover {\n",
              "      background-color: #434B5C;\n",
              "      box-shadow: 0px 1px 3px 1px rgba(0, 0, 0, 0.15);\n",
              "      filter: drop-shadow(0px 1px 2px rgba(0, 0, 0, 0.3));\n",
              "      fill: #FFFFFF;\n",
              "    }\n",
              "  </style>\n",
              "\n",
              "      <script>\n",
              "        const buttonEl =\n",
              "          document.querySelector('#df-487ace8b-e5e0-4194-bef6-56e337ca7370 button.colab-df-convert');\n",
              "        buttonEl.style.display =\n",
              "          google.colab.kernel.accessAllowed ? 'block' : 'none';\n",
              "\n",
              "        async function convertToInteractive(key) {\n",
              "          const element = document.querySelector('#df-487ace8b-e5e0-4194-bef6-56e337ca7370');\n",
              "          const dataTable =\n",
              "            await google.colab.kernel.invokeFunction('convertToInteractive',\n",
              "                                                     [key], {});\n",
              "          if (!dataTable) return;\n",
              "\n",
              "          const docLinkHtml = 'Like what you see? Visit the ' +\n",
              "            '<a target=\"_blank\" href=https://colab.research.google.com/notebooks/data_table.ipynb>data table notebook</a>'\n",
              "            + ' to learn more about interactive tables.';\n",
              "          element.innerHTML = '';\n",
              "          dataTable['output_type'] = 'display_data';\n",
              "          await google.colab.output.renderOutput(dataTable, element);\n",
              "          const docLink = document.createElement('div');\n",
              "          docLink.innerHTML = docLinkHtml;\n",
              "          element.appendChild(docLink);\n",
              "        }\n",
              "      </script>\n",
              "    </div>\n",
              "  </div>\n",
              "  "
            ]
          },
          "metadata": {},
          "execution_count": 7
        }
      ]
    },
    {
      "cell_type": "code",
      "source": [
        "birthdays2 = df.groupby([df['date'].dt.day_of_week,df['date'].dt.day_name()])['births'].sum()\n",
        "birthdays2 = birthdays2.droplevel(0,'index')"
      ],
      "metadata": {
        "id": "JfpInGjvZEHI"
      },
      "execution_count": 8,
      "outputs": []
    },
    {
      "cell_type": "code",
      "source": [
        "import numpy as np\n",
        "from scipy.special import binom\n",
        "import seaborn as sns\n",
        "import matplotlib.pyplot as plt\n",
        "\n",
        "\n",
        "titles = ['Births from SSA`s data','Births from Murphy`s data']\n",
        "\n",
        "for birthdays,label in zip([birthdays1,birthdays2],titles):\n",
        "\n",
        "  p_col = binom(birthdays,2).sum()/binom(birthdays.sum(),2)\n",
        "  n = birthdays.sum()\n",
        "  m = len(birthdays)\n",
        "  gap_col = p_col-1/m\n",
        "\n",
        "  print('Birthday on same day probability {:.5f}'.format(p_col))\n",
        "  print('Collision probability of a distribution uniform over 7 elements is \t{:.5f}'.format(1/m))\n",
        "\n",
        "  fig,ax = plt.subplots(figsize=(10,4))\n",
        "  sns.barplot(data=birthdays.reset_index(),x='date',y='births',ax=ax)\n",
        "  ax.set_title(label)\n",
        "  plt.show()\n",
        "\n",
        "  y,n,m,delta = sm.symbols('y,n,m,delta',positive=True)\n",
        "  subs = {n : birthdays.sum(), m : len(birthdays)}\n",
        "  sigma_subs = sigma(y,n,m).subs(subs)\n",
        "  print(solve_univariate_inequality(abs(y-gap_col) <= 10*sigma_subs, y))"
      ],
      "metadata": {
        "colab": {
          "base_uri": "https://localhost:8080/",
          "height": 681
        },
        "id": "5kbc_shMDhdn",
        "outputId": "bbc25d6d-2285-49e9-e630-da0ab2ddae93"
      },
      "execution_count": 9,
      "outputs": [
        {
          "output_type": "stream",
          "name": "stdout",
          "text": [
            "Birthday on same day probability 0.08351\n",
            "Collision probability of a distribution uniform over 7 elements is \t0.08333\n"
          ]
        },
        {
          "output_type": "display_data",
          "data": {
            "text/plain": [
              "<Figure size 720x288 with 1 Axes>"
            ],
            "image/png": "[encoded data removed]"
          },
          "metadata": {
            "needs_background": "light"
          }
        },
        {
          "output_type": "stream",
          "name": "stdout",
          "text": [
            "(9.02907199572759e-5 <= y) & (y <= 0.000345551030531635)\n",
            "Birthday on same day probability 0.14794\n",
            "Collision probability of a distribution uniform over 7 elements is \t0.14286\n"
          ]
        },
        {
          "output_type": "display_data",
          "data": {
            "text/plain": [
              "<Figure size 720x288 with 1 Axes>"
            ],
            "image/png": "[encoded data removed]"
          },
          "metadata": {
            "needs_background": "light"
          }
        },
        {
          "output_type": "stream",
          "name": "stdout",
          "text": [
            "(0.00499508345980237 <= y) & (y <= 0.00516234863382153)\n"
          ]
        }
      ]
    }
  ]
}