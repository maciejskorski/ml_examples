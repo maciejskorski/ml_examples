{
  "nbformat": 4,
  "nbformat_minor": 0,
  "metadata": {
    "colab": {
      "name": "RenyiEntropyEstimation.ipynb",
      "provenance": [],
      "authorship_tag": "ABX9TyPAIKC6PbZgPo9v/TI/pfes",
      "include_colab_link": true
    },
    "kernelspec": {
      "name": "python3",
      "display_name": "Python 3"
    },
    "language_info": {
      "name": "python"
    }
  },
  "cells": [
    {
      "cell_type": "markdown",
      "metadata": {
        "id": "view-in-github",
        "colab_type": "text"
      },
      "source": [
        "<a href=\"https://colab.research.google.com/github/maciejskorski/ml_examples/blob/master/RenyiEntropyEstimation.ipynb\" target=\"_parent\"><img src=\"https://colab.research.google.com/assets/colab-badge.svg\" alt=\"Open In Colab\"/></a>"
      ]
    },
    {
      "cell_type": "markdown",
      "metadata": {
        "id": "5YfVe5qGxM57"
      },
      "source": [
        "# Renyi Entropy Estimation\n",
        "\n",
        "This project implements the sample-optimal adaptive Renyi entropy estimator."
      ]
    },
    {
      "cell_type": "code",
      "metadata": {
        "id": "TuekC1InxInf"
      },
      "source": [
        ""
      ],
      "execution_count": null,
      "outputs": []
    }
  ]
}